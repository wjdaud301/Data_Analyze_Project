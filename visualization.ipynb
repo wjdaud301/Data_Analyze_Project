{
 "cells": [
  {
   "cell_type": "code",
   "execution_count": 341,
   "metadata": {},
   "outputs": [],
   "source": [
    "import os\r\n",
    "import pandas as pd\r\n",
    "import numpy as np\r\n",
    "\r\n",
    "import plotly.io as pio\r\n",
    "import plotly.express as px\r\n",
    "import plotly.graph_objects as go\r\n",
    "import plotly.figure_factory as ff\r\n",
    "from plotly.subplots import make_subplots\r\n",
    "from plotly.validators.scatter.marker import SymbolValidator\r\n",
    "\r\n",
    "# color pallette\r\n",
    "cnf, dth, rec, act = '#393e46', '#ff2e63', '#21bf73', '#fe9801' \r\n",
    "DEFAULT_PLOTLY_COLORS=['rgb(31, 119, 180)', 'rgb(255, 127, 14)',\r\n",
    "                       'rgb(44, 160, 44)', 'rgb(214, 39, 40)',\r\n",
    "                       'rgb(148, 103, 189)', 'rgb(140, 86, 75)',\r\n",
    "                       'rgb(227, 119, 194)', 'rgb(127, 127, 127)',\r\n",
    "                       'rgb(188, 189, 34)', 'rgb(23, 190, 207)']\r\n",
    "\r\n",
    "# 기본 폰트 설정\r\n",
    "layout_font = {'font':dict(size=18,color='#60606e',family='Franklin Gothic' )}"
   ]
  },
  {
   "cell_type": "code",
   "execution_count": 436,
   "metadata": {},
   "outputs": [
    {
     "ename": "FileNotFoundError",
     "evalue": "[Errno 2] No such file or directory: 'Dataset/Dataset.sv'",
     "output_type": "error",
     "traceback": [
      "\u001b[1;31m---------------------------------------------------------------------------\u001b[0m",
      "\u001b[1;31mFileNotFoundError\u001b[0m                         Traceback (most recent call last)",
      "\u001b[1;32m<ipython-input-436-16dd5e1e578d>\u001b[0m in \u001b[0;36m<module>\u001b[1;34m\u001b[0m\n\u001b[0;32m      1\u001b[0m \u001b[1;31m# unnamed : 0 column없이 불러오기\u001b[0m\u001b[1;33m\u001b[0m\u001b[1;33m\u001b[0m\u001b[1;33m\u001b[0m\u001b[0m\n\u001b[1;32m----> 2\u001b[1;33m \u001b[0mds\u001b[0m \u001b[1;33m=\u001b[0m \u001b[0mds\u001b[0m \u001b[1;33m=\u001b[0m \u001b[0mpd\u001b[0m\u001b[1;33m.\u001b[0m\u001b[0mread_csv\u001b[0m\u001b[1;33m(\u001b[0m\u001b[1;34m'Dataset/Dataset.sv'\u001b[0m\u001b[1;33m)\u001b[0m\u001b[1;33m\u001b[0m\u001b[1;33m\u001b[0m\u001b[0m\n\u001b[0m",
      "\u001b[1;32mC:\\ananconda\\envs\\multi\\lib\\site-packages\\pandas\\io\\parsers.py\u001b[0m in \u001b[0;36mread_csv\u001b[1;34m(filepath_or_buffer, sep, delimiter, header, names, index_col, usecols, squeeze, prefix, mangle_dupe_cols, dtype, engine, converters, true_values, false_values, skipinitialspace, skiprows, skipfooter, nrows, na_values, keep_default_na, na_filter, verbose, skip_blank_lines, parse_dates, infer_datetime_format, keep_date_col, date_parser, dayfirst, cache_dates, iterator, chunksize, compression, thousands, decimal, lineterminator, quotechar, quoting, doublequote, escapechar, comment, encoding, dialect, error_bad_lines, warn_bad_lines, delim_whitespace, low_memory, memory_map, float_precision, storage_options)\u001b[0m\n\u001b[0;32m    608\u001b[0m     \u001b[0mkwds\u001b[0m\u001b[1;33m.\u001b[0m\u001b[0mupdate\u001b[0m\u001b[1;33m(\u001b[0m\u001b[0mkwds_defaults\u001b[0m\u001b[1;33m)\u001b[0m\u001b[1;33m\u001b[0m\u001b[1;33m\u001b[0m\u001b[0m\n\u001b[0;32m    609\u001b[0m \u001b[1;33m\u001b[0m\u001b[0m\n\u001b[1;32m--> 610\u001b[1;33m     \u001b[1;32mreturn\u001b[0m \u001b[0m_read\u001b[0m\u001b[1;33m(\u001b[0m\u001b[0mfilepath_or_buffer\u001b[0m\u001b[1;33m,\u001b[0m \u001b[0mkwds\u001b[0m\u001b[1;33m)\u001b[0m\u001b[1;33m\u001b[0m\u001b[1;33m\u001b[0m\u001b[0m\n\u001b[0m\u001b[0;32m    611\u001b[0m \u001b[1;33m\u001b[0m\u001b[0m\n\u001b[0;32m    612\u001b[0m \u001b[1;33m\u001b[0m\u001b[0m\n",
      "\u001b[1;32mC:\\ananconda\\envs\\multi\\lib\\site-packages\\pandas\\io\\parsers.py\u001b[0m in \u001b[0;36m_read\u001b[1;34m(filepath_or_buffer, kwds)\u001b[0m\n\u001b[0;32m    460\u001b[0m \u001b[1;33m\u001b[0m\u001b[0m\n\u001b[0;32m    461\u001b[0m     \u001b[1;31m# Create the parser.\u001b[0m\u001b[1;33m\u001b[0m\u001b[1;33m\u001b[0m\u001b[1;33m\u001b[0m\u001b[0m\n\u001b[1;32m--> 462\u001b[1;33m     \u001b[0mparser\u001b[0m \u001b[1;33m=\u001b[0m \u001b[0mTextFileReader\u001b[0m\u001b[1;33m(\u001b[0m\u001b[0mfilepath_or_buffer\u001b[0m\u001b[1;33m,\u001b[0m \u001b[1;33m**\u001b[0m\u001b[0mkwds\u001b[0m\u001b[1;33m)\u001b[0m\u001b[1;33m\u001b[0m\u001b[1;33m\u001b[0m\u001b[0m\n\u001b[0m\u001b[0;32m    463\u001b[0m \u001b[1;33m\u001b[0m\u001b[0m\n\u001b[0;32m    464\u001b[0m     \u001b[1;32mif\u001b[0m \u001b[0mchunksize\u001b[0m \u001b[1;32mor\u001b[0m \u001b[0miterator\u001b[0m\u001b[1;33m:\u001b[0m\u001b[1;33m\u001b[0m\u001b[1;33m\u001b[0m\u001b[0m\n",
      "\u001b[1;32mC:\\ananconda\\envs\\multi\\lib\\site-packages\\pandas\\io\\parsers.py\u001b[0m in \u001b[0;36m__init__\u001b[1;34m(self, f, engine, **kwds)\u001b[0m\n\u001b[0;32m    817\u001b[0m             \u001b[0mself\u001b[0m\u001b[1;33m.\u001b[0m\u001b[0moptions\u001b[0m\u001b[1;33m[\u001b[0m\u001b[1;34m\"has_index_names\"\u001b[0m\u001b[1;33m]\u001b[0m \u001b[1;33m=\u001b[0m \u001b[0mkwds\u001b[0m\u001b[1;33m[\u001b[0m\u001b[1;34m\"has_index_names\"\u001b[0m\u001b[1;33m]\u001b[0m\u001b[1;33m\u001b[0m\u001b[1;33m\u001b[0m\u001b[0m\n\u001b[0;32m    818\u001b[0m \u001b[1;33m\u001b[0m\u001b[0m\n\u001b[1;32m--> 819\u001b[1;33m         \u001b[0mself\u001b[0m\u001b[1;33m.\u001b[0m\u001b[0m_engine\u001b[0m \u001b[1;33m=\u001b[0m \u001b[0mself\u001b[0m\u001b[1;33m.\u001b[0m\u001b[0m_make_engine\u001b[0m\u001b[1;33m(\u001b[0m\u001b[0mself\u001b[0m\u001b[1;33m.\u001b[0m\u001b[0mengine\u001b[0m\u001b[1;33m)\u001b[0m\u001b[1;33m\u001b[0m\u001b[1;33m\u001b[0m\u001b[0m\n\u001b[0m\u001b[0;32m    820\u001b[0m \u001b[1;33m\u001b[0m\u001b[0m\n\u001b[0;32m    821\u001b[0m     \u001b[1;32mdef\u001b[0m \u001b[0mclose\u001b[0m\u001b[1;33m(\u001b[0m\u001b[0mself\u001b[0m\u001b[1;33m)\u001b[0m\u001b[1;33m:\u001b[0m\u001b[1;33m\u001b[0m\u001b[1;33m\u001b[0m\u001b[0m\n",
      "\u001b[1;32mC:\\ananconda\\envs\\multi\\lib\\site-packages\\pandas\\io\\parsers.py\u001b[0m in \u001b[0;36m_make_engine\u001b[1;34m(self, engine)\u001b[0m\n\u001b[0;32m   1048\u001b[0m             )\n\u001b[0;32m   1049\u001b[0m         \u001b[1;31m# error: Too many arguments for \"ParserBase\"\u001b[0m\u001b[1;33m\u001b[0m\u001b[1;33m\u001b[0m\u001b[1;33m\u001b[0m\u001b[0m\n\u001b[1;32m-> 1050\u001b[1;33m         \u001b[1;32mreturn\u001b[0m \u001b[0mmapping\u001b[0m\u001b[1;33m[\u001b[0m\u001b[0mengine\u001b[0m\u001b[1;33m]\u001b[0m\u001b[1;33m(\u001b[0m\u001b[0mself\u001b[0m\u001b[1;33m.\u001b[0m\u001b[0mf\u001b[0m\u001b[1;33m,\u001b[0m \u001b[1;33m**\u001b[0m\u001b[0mself\u001b[0m\u001b[1;33m.\u001b[0m\u001b[0moptions\u001b[0m\u001b[1;33m)\u001b[0m  \u001b[1;31m# type: ignore[call-arg]\u001b[0m\u001b[1;33m\u001b[0m\u001b[1;33m\u001b[0m\u001b[0m\n\u001b[0m\u001b[0;32m   1051\u001b[0m \u001b[1;33m\u001b[0m\u001b[0m\n\u001b[0;32m   1052\u001b[0m     \u001b[1;32mdef\u001b[0m \u001b[0m_failover_to_python\u001b[0m\u001b[1;33m(\u001b[0m\u001b[0mself\u001b[0m\u001b[1;33m)\u001b[0m\u001b[1;33m:\u001b[0m\u001b[1;33m\u001b[0m\u001b[1;33m\u001b[0m\u001b[0m\n",
      "\u001b[1;32mC:\\ananconda\\envs\\multi\\lib\\site-packages\\pandas\\io\\parsers.py\u001b[0m in \u001b[0;36m__init__\u001b[1;34m(self, src, **kwds)\u001b[0m\n\u001b[0;32m   1865\u001b[0m \u001b[1;33m\u001b[0m\u001b[0m\n\u001b[0;32m   1866\u001b[0m         \u001b[1;31m# open handles\u001b[0m\u001b[1;33m\u001b[0m\u001b[1;33m\u001b[0m\u001b[1;33m\u001b[0m\u001b[0m\n\u001b[1;32m-> 1867\u001b[1;33m         \u001b[0mself\u001b[0m\u001b[1;33m.\u001b[0m\u001b[0m_open_handles\u001b[0m\u001b[1;33m(\u001b[0m\u001b[0msrc\u001b[0m\u001b[1;33m,\u001b[0m \u001b[0mkwds\u001b[0m\u001b[1;33m)\u001b[0m\u001b[1;33m\u001b[0m\u001b[1;33m\u001b[0m\u001b[0m\n\u001b[0m\u001b[0;32m   1868\u001b[0m         \u001b[1;32massert\u001b[0m \u001b[0mself\u001b[0m\u001b[1;33m.\u001b[0m\u001b[0mhandles\u001b[0m \u001b[1;32mis\u001b[0m \u001b[1;32mnot\u001b[0m \u001b[1;32mNone\u001b[0m\u001b[1;33m\u001b[0m\u001b[1;33m\u001b[0m\u001b[0m\n\u001b[0;32m   1869\u001b[0m         \u001b[1;32mfor\u001b[0m \u001b[0mkey\u001b[0m \u001b[1;32min\u001b[0m \u001b[1;33m(\u001b[0m\u001b[1;34m\"storage_options\"\u001b[0m\u001b[1;33m,\u001b[0m \u001b[1;34m\"encoding\"\u001b[0m\u001b[1;33m,\u001b[0m \u001b[1;34m\"memory_map\"\u001b[0m\u001b[1;33m,\u001b[0m \u001b[1;34m\"compression\"\u001b[0m\u001b[1;33m)\u001b[0m\u001b[1;33m:\u001b[0m\u001b[1;33m\u001b[0m\u001b[1;33m\u001b[0m\u001b[0m\n",
      "\u001b[1;32mC:\\ananconda\\envs\\multi\\lib\\site-packages\\pandas\\io\\parsers.py\u001b[0m in \u001b[0;36m_open_handles\u001b[1;34m(self, src, kwds)\u001b[0m\n\u001b[0;32m   1366\u001b[0m             \u001b[0mcompression\u001b[0m\u001b[1;33m=\u001b[0m\u001b[0mkwds\u001b[0m\u001b[1;33m.\u001b[0m\u001b[0mget\u001b[0m\u001b[1;33m(\u001b[0m\u001b[1;34m\"compression\"\u001b[0m\u001b[1;33m,\u001b[0m \u001b[1;32mNone\u001b[0m\u001b[1;33m)\u001b[0m\u001b[1;33m,\u001b[0m\u001b[1;33m\u001b[0m\u001b[1;33m\u001b[0m\u001b[0m\n\u001b[0;32m   1367\u001b[0m             \u001b[0mmemory_map\u001b[0m\u001b[1;33m=\u001b[0m\u001b[0mkwds\u001b[0m\u001b[1;33m.\u001b[0m\u001b[0mget\u001b[0m\u001b[1;33m(\u001b[0m\u001b[1;34m\"memory_map\"\u001b[0m\u001b[1;33m,\u001b[0m \u001b[1;32mFalse\u001b[0m\u001b[1;33m)\u001b[0m\u001b[1;33m,\u001b[0m\u001b[1;33m\u001b[0m\u001b[1;33m\u001b[0m\u001b[0m\n\u001b[1;32m-> 1368\u001b[1;33m             \u001b[0mstorage_options\u001b[0m\u001b[1;33m=\u001b[0m\u001b[0mkwds\u001b[0m\u001b[1;33m.\u001b[0m\u001b[0mget\u001b[0m\u001b[1;33m(\u001b[0m\u001b[1;34m\"storage_options\"\u001b[0m\u001b[1;33m,\u001b[0m \u001b[1;32mNone\u001b[0m\u001b[1;33m)\u001b[0m\u001b[1;33m,\u001b[0m\u001b[1;33m\u001b[0m\u001b[1;33m\u001b[0m\u001b[0m\n\u001b[0m\u001b[0;32m   1369\u001b[0m         )\n\u001b[0;32m   1370\u001b[0m \u001b[1;33m\u001b[0m\u001b[0m\n",
      "\u001b[1;32mC:\\ananconda\\envs\\multi\\lib\\site-packages\\pandas\\io\\common.py\u001b[0m in \u001b[0;36mget_handle\u001b[1;34m(path_or_buf, mode, encoding, compression, memory_map, is_text, errors, storage_options)\u001b[0m\n\u001b[0;32m    645\u001b[0m                 \u001b[0mencoding\u001b[0m\u001b[1;33m=\u001b[0m\u001b[0mioargs\u001b[0m\u001b[1;33m.\u001b[0m\u001b[0mencoding\u001b[0m\u001b[1;33m,\u001b[0m\u001b[1;33m\u001b[0m\u001b[1;33m\u001b[0m\u001b[0m\n\u001b[0;32m    646\u001b[0m                 \u001b[0merrors\u001b[0m\u001b[1;33m=\u001b[0m\u001b[0merrors\u001b[0m\u001b[1;33m,\u001b[0m\u001b[1;33m\u001b[0m\u001b[1;33m\u001b[0m\u001b[0m\n\u001b[1;32m--> 647\u001b[1;33m                 \u001b[0mnewline\u001b[0m\u001b[1;33m=\u001b[0m\u001b[1;34m\"\"\u001b[0m\u001b[1;33m,\u001b[0m\u001b[1;33m\u001b[0m\u001b[1;33m\u001b[0m\u001b[0m\n\u001b[0m\u001b[0;32m    648\u001b[0m             )\n\u001b[0;32m    649\u001b[0m         \u001b[1;32melse\u001b[0m\u001b[1;33m:\u001b[0m\u001b[1;33m\u001b[0m\u001b[1;33m\u001b[0m\u001b[0m\n",
      "\u001b[1;31mFileNotFoundError\u001b[0m: [Errno 2] No such file or directory: 'Dataset/Dataset.sv'"
     ]
    }
   ],
   "source": [
    "# unnamed : 0 column없이 불러오기\r\n",
    "ds = ds = pd.read_csv('Dataset/Dataset.sv')"
   ]
  },
  {
   "cell_type": "code",
   "execution_count": 433,
   "metadata": {},
   "outputs": [
    {
     "data": {
      "text/html": [
       "<div>\n",
       "<style scoped>\n",
       "    .dataframe tbody tr th:only-of-type {\n",
       "        vertical-align: middle;\n",
       "    }\n",
       "\n",
       "    .dataframe tbody tr th {\n",
       "        vertical-align: top;\n",
       "    }\n",
       "\n",
       "    .dataframe thead th {\n",
       "        text-align: right;\n",
       "    }\n",
       "</style>\n",
       "<table border=\"1\" class=\"dataframe\">\n",
       "  <thead>\n",
       "    <tr style=\"text-align: right;\">\n",
       "      <th></th>\n",
       "      <th>시간대구분</th>\n",
       "      <th>행정동코드</th>\n",
       "      <th>총생활인구수</th>\n",
       "      <th>시도명</th>\n",
       "      <th>시군구명</th>\n",
       "      <th>행정동명</th>\n",
       "      <th>년</th>\n",
       "      <th>월</th>\n",
       "    </tr>\n",
       "  </thead>\n",
       "  <tbody>\n",
       "    <tr>\n",
       "      <th>0</th>\n",
       "      <td>0</td>\n",
       "      <td>11170510</td>\n",
       "      <td>477</td>\n",
       "      <td>서울</td>\n",
       "      <td>용산구</td>\n",
       "      <td>후암동</td>\n",
       "      <td>2017</td>\n",
       "      <td>1</td>\n",
       "    </tr>\n",
       "    <tr>\n",
       "      <th>1</th>\n",
       "      <td>0</td>\n",
       "      <td>11170520</td>\n",
       "      <td>472</td>\n",
       "      <td>서울</td>\n",
       "      <td>용산구</td>\n",
       "      <td>용산2가동</td>\n",
       "      <td>2017</td>\n",
       "      <td>1</td>\n",
       "    </tr>\n",
       "    <tr>\n",
       "      <th>2</th>\n",
       "      <td>0</td>\n",
       "      <td>11170530</td>\n",
       "      <td>986</td>\n",
       "      <td>서울</td>\n",
       "      <td>용산구</td>\n",
       "      <td>남영동</td>\n",
       "      <td>2017</td>\n",
       "      <td>1</td>\n",
       "    </tr>\n",
       "    <tr>\n",
       "      <th>3</th>\n",
       "      <td>0</td>\n",
       "      <td>11170555</td>\n",
       "      <td>638</td>\n",
       "      <td>서울</td>\n",
       "      <td>용산구</td>\n",
       "      <td>청파동</td>\n",
       "      <td>2017</td>\n",
       "      <td>1</td>\n",
       "    </tr>\n",
       "    <tr>\n",
       "      <th>4</th>\n",
       "      <td>0</td>\n",
       "      <td>11170560</td>\n",
       "      <td>516</td>\n",
       "      <td>서울</td>\n",
       "      <td>용산구</td>\n",
       "      <td>원효로1동</td>\n",
       "      <td>2017</td>\n",
       "      <td>1</td>\n",
       "    </tr>\n",
       "    <tr>\n",
       "      <th>...</th>\n",
       "      <td>...</td>\n",
       "      <td>...</td>\n",
       "      <td>...</td>\n",
       "      <td>...</td>\n",
       "      <td>...</td>\n",
       "      <td>...</td>\n",
       "      <td>...</td>\n",
       "      <td>...</td>\n",
       "    </tr>\n",
       "    <tr>\n",
       "      <th>18427</th>\n",
       "      <td>23</td>\n",
       "      <td>11170650</td>\n",
       "      <td>821</td>\n",
       "      <td>서울</td>\n",
       "      <td>용산구</td>\n",
       "      <td>이태원1동</td>\n",
       "      <td>2020</td>\n",
       "      <td>12</td>\n",
       "    </tr>\n",
       "    <tr>\n",
       "      <th>18428</th>\n",
       "      <td>23</td>\n",
       "      <td>11170660</td>\n",
       "      <td>685</td>\n",
       "      <td>서울</td>\n",
       "      <td>용산구</td>\n",
       "      <td>이태원2동</td>\n",
       "      <td>2020</td>\n",
       "      <td>12</td>\n",
       "    </tr>\n",
       "    <tr>\n",
       "      <th>18429</th>\n",
       "      <td>23</td>\n",
       "      <td>11170685</td>\n",
       "      <td>685</td>\n",
       "      <td>서울</td>\n",
       "      <td>용산구</td>\n",
       "      <td>한남동</td>\n",
       "      <td>2020</td>\n",
       "      <td>12</td>\n",
       "    </tr>\n",
       "    <tr>\n",
       "      <th>18430</th>\n",
       "      <td>23</td>\n",
       "      <td>11170690</td>\n",
       "      <td>600</td>\n",
       "      <td>서울</td>\n",
       "      <td>용산구</td>\n",
       "      <td>서빙고동</td>\n",
       "      <td>2020</td>\n",
       "      <td>12</td>\n",
       "    </tr>\n",
       "    <tr>\n",
       "      <th>18431</th>\n",
       "      <td>23</td>\n",
       "      <td>11170700</td>\n",
       "      <td>419</td>\n",
       "      <td>서울</td>\n",
       "      <td>용산구</td>\n",
       "      <td>보광동</td>\n",
       "      <td>2020</td>\n",
       "      <td>12</td>\n",
       "    </tr>\n",
       "  </tbody>\n",
       "</table>\n",
       "<p>18432 rows × 8 columns</p>\n",
       "</div>"
      ],
      "text/plain": [
       "       시간대구분     행정동코드  총생활인구수 시도명 시군구명   행정동명     년   월\n",
       "0          0  11170510     477  서울  용산구    후암동  2017   1\n",
       "1          0  11170520     472  서울  용산구  용산2가동  2017   1\n",
       "2          0  11170530     986  서울  용산구    남영동  2017   1\n",
       "3          0  11170555     638  서울  용산구    청파동  2017   1\n",
       "4          0  11170560     516  서울  용산구  원효로1동  2017   1\n",
       "...      ...       ...     ...  ..  ...    ...   ...  ..\n",
       "18427     23  11170650     821  서울  용산구  이태원1동  2020  12\n",
       "18428     23  11170660     685  서울  용산구  이태원2동  2020  12\n",
       "18429     23  11170685     685  서울  용산구    한남동  2020  12\n",
       "18430     23  11170690     600  서울  용산구   서빙고동  2020  12\n",
       "18431     23  11170700     419  서울  용산구    보광동  2020  12\n",
       "\n",
       "[18432 rows x 8 columns]"
      ]
     },
     "execution_count": 433,
     "metadata": {},
     "output_type": "execute_result"
    }
   ],
   "source": [
    "ds"
   ]
  },
  {
   "cell_type": "code",
   "execution_count": 434,
   "metadata": {},
   "outputs": [],
   "source": [
    "sub_query = ds.query('(년==2018)&(월==1)')"
   ]
  },
  {
   "cell_type": "code",
   "execution_count": 435,
   "metadata": {},
   "outputs": [
    {
     "data": {
      "text/html": [
       "<div>\n",
       "<style scoped>\n",
       "    .dataframe tbody tr th:only-of-type {\n",
       "        vertical-align: middle;\n",
       "    }\n",
       "\n",
       "    .dataframe tbody tr th {\n",
       "        vertical-align: top;\n",
       "    }\n",
       "\n",
       "    .dataframe thead th {\n",
       "        text-align: right;\n",
       "    }\n",
       "</style>\n",
       "<table border=\"1\" class=\"dataframe\">\n",
       "  <thead>\n",
       "    <tr style=\"text-align: right;\">\n",
       "      <th></th>\n",
       "      <th>시간대구분</th>\n",
       "      <th>행정동코드</th>\n",
       "      <th>총생활인구수</th>\n",
       "      <th>시도명</th>\n",
       "      <th>시군구명</th>\n",
       "      <th>행정동명</th>\n",
       "      <th>년</th>\n",
       "      <th>월</th>\n",
       "    </tr>\n",
       "  </thead>\n",
       "  <tbody>\n",
       "    <tr>\n",
       "      <th>4608</th>\n",
       "      <td>9</td>\n",
       "      <td>11170570</td>\n",
       "      <td>470</td>\n",
       "      <td>서울</td>\n",
       "      <td>용산구</td>\n",
       "      <td>원효로2동</td>\n",
       "      <td>2018</td>\n",
       "      <td>1</td>\n",
       "    </tr>\n",
       "    <tr>\n",
       "      <th>4609</th>\n",
       "      <td>10</td>\n",
       "      <td>11170590</td>\n",
       "      <td>501</td>\n",
       "      <td>서울</td>\n",
       "      <td>용산구</td>\n",
       "      <td>용문동</td>\n",
       "      <td>2018</td>\n",
       "      <td>1</td>\n",
       "    </tr>\n",
       "    <tr>\n",
       "      <th>4610</th>\n",
       "      <td>11</td>\n",
       "      <td>11170590</td>\n",
       "      <td>648</td>\n",
       "      <td>서울</td>\n",
       "      <td>용산구</td>\n",
       "      <td>용문동</td>\n",
       "      <td>2018</td>\n",
       "      <td>1</td>\n",
       "    </tr>\n",
       "    <tr>\n",
       "      <th>4611</th>\n",
       "      <td>12</td>\n",
       "      <td>11170570</td>\n",
       "      <td>448</td>\n",
       "      <td>서울</td>\n",
       "      <td>용산구</td>\n",
       "      <td>원효로2동</td>\n",
       "      <td>2018</td>\n",
       "      <td>1</td>\n",
       "    </tr>\n",
       "    <tr>\n",
       "      <th>4612</th>\n",
       "      <td>12</td>\n",
       "      <td>11170590</td>\n",
       "      <td>447</td>\n",
       "      <td>서울</td>\n",
       "      <td>용산구</td>\n",
       "      <td>용문동</td>\n",
       "      <td>2018</td>\n",
       "      <td>1</td>\n",
       "    </tr>\n",
       "    <tr>\n",
       "      <th>...</th>\n",
       "      <td>...</td>\n",
       "      <td>...</td>\n",
       "      <td>...</td>\n",
       "      <td>...</td>\n",
       "      <td>...</td>\n",
       "      <td>...</td>\n",
       "      <td>...</td>\n",
       "      <td>...</td>\n",
       "    </tr>\n",
       "    <tr>\n",
       "      <th>4987</th>\n",
       "      <td>11</td>\n",
       "      <td>11170510</td>\n",
       "      <td>397</td>\n",
       "      <td>서울</td>\n",
       "      <td>용산구</td>\n",
       "      <td>후암동</td>\n",
       "      <td>2018</td>\n",
       "      <td>1</td>\n",
       "    </tr>\n",
       "    <tr>\n",
       "      <th>4988</th>\n",
       "      <td>5</td>\n",
       "      <td>11170530</td>\n",
       "      <td>881</td>\n",
       "      <td>서울</td>\n",
       "      <td>용산구</td>\n",
       "      <td>남영동</td>\n",
       "      <td>2018</td>\n",
       "      <td>1</td>\n",
       "    </tr>\n",
       "    <tr>\n",
       "      <th>4989</th>\n",
       "      <td>0</td>\n",
       "      <td>11170650</td>\n",
       "      <td>1884</td>\n",
       "      <td>서울</td>\n",
       "      <td>용산구</td>\n",
       "      <td>이태원1동</td>\n",
       "      <td>2018</td>\n",
       "      <td>1</td>\n",
       "    </tr>\n",
       "    <tr>\n",
       "      <th>4990</th>\n",
       "      <td>21</td>\n",
       "      <td>11170650</td>\n",
       "      <td>1536</td>\n",
       "      <td>서울</td>\n",
       "      <td>용산구</td>\n",
       "      <td>이태원1동</td>\n",
       "      <td>2018</td>\n",
       "      <td>1</td>\n",
       "    </tr>\n",
       "    <tr>\n",
       "      <th>4991</th>\n",
       "      <td>10</td>\n",
       "      <td>11170510</td>\n",
       "      <td>408</td>\n",
       "      <td>서울</td>\n",
       "      <td>용산구</td>\n",
       "      <td>후암동</td>\n",
       "      <td>2018</td>\n",
       "      <td>1</td>\n",
       "    </tr>\n",
       "  </tbody>\n",
       "</table>\n",
       "<p>384 rows × 8 columns</p>\n",
       "</div>"
      ],
      "text/plain": [
       "      시간대구분     행정동코드  총생활인구수 시도명 시군구명   행정동명     년  월\n",
       "4608      9  11170570     470  서울  용산구  원효로2동  2018  1\n",
       "4609     10  11170590     501  서울  용산구    용문동  2018  1\n",
       "4610     11  11170590     648  서울  용산구    용문동  2018  1\n",
       "4611     12  11170570     448  서울  용산구  원효로2동  2018  1\n",
       "4612     12  11170590     447  서울  용산구    용문동  2018  1\n",
       "...     ...       ...     ...  ..  ...    ...   ... ..\n",
       "4987     11  11170510     397  서울  용산구    후암동  2018  1\n",
       "4988      5  11170530     881  서울  용산구    남영동  2018  1\n",
       "4989      0  11170650    1884  서울  용산구  이태원1동  2018  1\n",
       "4990     21  11170650    1536  서울  용산구  이태원1동  2018  1\n",
       "4991     10  11170510     408  서울  용산구    후암동  2018  1\n",
       "\n",
       "[384 rows x 8 columns]"
      ]
     },
     "execution_count": 435,
     "metadata": {},
     "output_type": "execute_result"
    }
   ],
   "source": [
    "sub_query"
   ]
  },
  {
   "cell_type": "code",
   "execution_count": 429,
   "metadata": {},
   "outputs": [],
   "source": [
    "# sub_query['시간대구분'].unique()\r\n",
    "sub_query.sort_values(by=['시간대구분','행정동명'],ascending=True,inplace=True)\r\n"
   ]
  },
  {
   "cell_type": "code",
   "execution_count": 430,
   "metadata": {},
   "outputs": [
    {
     "data": {
      "text/html": [
       "<div>\n",
       "<style scoped>\n",
       "    .dataframe tbody tr th:only-of-type {\n",
       "        vertical-align: middle;\n",
       "    }\n",
       "\n",
       "    .dataframe tbody tr th {\n",
       "        vertical-align: top;\n",
       "    }\n",
       "\n",
       "    .dataframe thead th {\n",
       "        text-align: right;\n",
       "    }\n",
       "</style>\n",
       "<table border=\"1\" class=\"dataframe\">\n",
       "  <thead>\n",
       "    <tr style=\"text-align: right;\">\n",
       "      <th></th>\n",
       "      <th>시간대구분</th>\n",
       "      <th>행정동코드</th>\n",
       "      <th>총생활인구수</th>\n",
       "      <th>시도명</th>\n",
       "      <th>시군구명</th>\n",
       "      <th>행정동명</th>\n",
       "      <th>년</th>\n",
       "      <th>월</th>\n",
       "    </tr>\n",
       "  </thead>\n",
       "  <tbody>\n",
       "    <tr>\n",
       "      <th>4973</th>\n",
       "      <td>0</td>\n",
       "      <td>11170530</td>\n",
       "      <td>772</td>\n",
       "      <td>서울</td>\n",
       "      <td>용산구</td>\n",
       "      <td>남영동</td>\n",
       "      <td>2018</td>\n",
       "      <td>1</td>\n",
       "    </tr>\n",
       "    <tr>\n",
       "      <th>4767</th>\n",
       "      <td>0</td>\n",
       "      <td>11170700</td>\n",
       "      <td>411</td>\n",
       "      <td>서울</td>\n",
       "      <td>용산구</td>\n",
       "      <td>보광동</td>\n",
       "      <td>2018</td>\n",
       "      <td>1</td>\n",
       "    </tr>\n",
       "    <tr>\n",
       "      <th>4942</th>\n",
       "      <td>0</td>\n",
       "      <td>11170690</td>\n",
       "      <td>538</td>\n",
       "      <td>서울</td>\n",
       "      <td>용산구</td>\n",
       "      <td>서빙고동</td>\n",
       "      <td>2018</td>\n",
       "      <td>1</td>\n",
       "    </tr>\n",
       "    <tr>\n",
       "      <th>4794</th>\n",
       "      <td>0</td>\n",
       "      <td>11170590</td>\n",
       "      <td>455</td>\n",
       "      <td>서울</td>\n",
       "      <td>용산구</td>\n",
       "      <td>용문동</td>\n",
       "      <td>2018</td>\n",
       "      <td>1</td>\n",
       "    </tr>\n",
       "    <tr>\n",
       "      <th>4899</th>\n",
       "      <td>0</td>\n",
       "      <td>11170520</td>\n",
       "      <td>555</td>\n",
       "      <td>서울</td>\n",
       "      <td>용산구</td>\n",
       "      <td>용산2가동</td>\n",
       "      <td>2018</td>\n",
       "      <td>1</td>\n",
       "    </tr>\n",
       "    <tr>\n",
       "      <th>...</th>\n",
       "      <td>...</td>\n",
       "      <td>...</td>\n",
       "      <td>...</td>\n",
       "      <td>...</td>\n",
       "      <td>...</td>\n",
       "      <td>...</td>\n",
       "      <td>...</td>\n",
       "      <td>...</td>\n",
       "    </tr>\n",
       "    <tr>\n",
       "      <th>4783</th>\n",
       "      <td>23</td>\n",
       "      <td>11170555</td>\n",
       "      <td>596</td>\n",
       "      <td>서울</td>\n",
       "      <td>용산구</td>\n",
       "      <td>청파동</td>\n",
       "      <td>2018</td>\n",
       "      <td>1</td>\n",
       "    </tr>\n",
       "    <tr>\n",
       "      <th>4616</th>\n",
       "      <td>23</td>\n",
       "      <td>11170625</td>\n",
       "      <td>1003</td>\n",
       "      <td>서울</td>\n",
       "      <td>용산구</td>\n",
       "      <td>한강로동</td>\n",
       "      <td>2018</td>\n",
       "      <td>1</td>\n",
       "    </tr>\n",
       "    <tr>\n",
       "      <th>4818</th>\n",
       "      <td>23</td>\n",
       "      <td>11170685</td>\n",
       "      <td>594</td>\n",
       "      <td>서울</td>\n",
       "      <td>용산구</td>\n",
       "      <td>한남동</td>\n",
       "      <td>2018</td>\n",
       "      <td>1</td>\n",
       "    </tr>\n",
       "    <tr>\n",
       "      <th>4755</th>\n",
       "      <td>23</td>\n",
       "      <td>11170580</td>\n",
       "      <td>623</td>\n",
       "      <td>서울</td>\n",
       "      <td>용산구</td>\n",
       "      <td>효창동</td>\n",
       "      <td>2018</td>\n",
       "      <td>1</td>\n",
       "    </tr>\n",
       "    <tr>\n",
       "      <th>4688</th>\n",
       "      <td>23</td>\n",
       "      <td>11170510</td>\n",
       "      <td>539</td>\n",
       "      <td>서울</td>\n",
       "      <td>용산구</td>\n",
       "      <td>후암동</td>\n",
       "      <td>2018</td>\n",
       "      <td>1</td>\n",
       "    </tr>\n",
       "  </tbody>\n",
       "</table>\n",
       "<p>384 rows × 8 columns</p>\n",
       "</div>"
      ],
      "text/plain": [
       "      시간대구분     행정동코드  총생활인구수 시도명 시군구명   행정동명     년  월\n",
       "4973      0  11170530     772  서울  용산구    남영동  2018  1\n",
       "4767      0  11170700     411  서울  용산구    보광동  2018  1\n",
       "4942      0  11170690     538  서울  용산구   서빙고동  2018  1\n",
       "4794      0  11170590     455  서울  용산구    용문동  2018  1\n",
       "4899      0  11170520     555  서울  용산구  용산2가동  2018  1\n",
       "...     ...       ...     ...  ..  ...    ...   ... ..\n",
       "4783     23  11170555     596  서울  용산구    청파동  2018  1\n",
       "4616     23  11170625    1003  서울  용산구   한강로동  2018  1\n",
       "4818     23  11170685     594  서울  용산구    한남동  2018  1\n",
       "4755     23  11170580     623  서울  용산구    효창동  2018  1\n",
       "4688     23  11170510     539  서울  용산구    후암동  2018  1\n",
       "\n",
       "[384 rows x 8 columns]"
      ]
     },
     "execution_count": 430,
     "metadata": {},
     "output_type": "execute_result"
    }
   ],
   "source": [
    "sub_query"
   ]
  },
  {
   "cell_type": "code",
   "execution_count": 431,
   "metadata": {},
   "outputs": [
    {
     "data": {
      "application/vnd.plotly.v1+json": {
       "config": {
        "plotlyServerURL": "https://plot.ly"
       },
       "data": [
        {
         "hovertemplate": "행정동명=남영동<br>시간대구분=%{x}<br>총생활인구수=%{y}<extra></extra>",
         "legendgroup": "남영동",
         "line": {
          "color": "#636efa",
          "dash": "solid"
         },
         "mode": "lines",
         "name": "남영동",
         "orientation": "v",
         "showlegend": true,
         "type": "scatter",
         "x": [
          0,
          1,
          2,
          3,
          4,
          5,
          6,
          7,
          8,
          9,
          10,
          11,
          12,
          13,
          14,
          15,
          16,
          17,
          18,
          19,
          20,
          21,
          22,
          23
         ],
         "xaxis": "x",
         "y": [
          772,
          853,
          686,
          675,
          1077,
          881,
          695,
          910,
          1029,
          955,
          1409,
          1176,
          1105,
          2029,
          987,
          2044,
          1223,
          1276,
          1034,
          930,
          1005,
          1745,
          809,
          673
         ],
         "yaxis": "y"
        },
        {
         "hovertemplate": "행정동명=보광동<br>시간대구분=%{x}<br>총생활인구수=%{y}<extra></extra>",
         "legendgroup": "보광동",
         "line": {
          "color": "#EF553B",
          "dash": "solid"
         },
         "mode": "lines",
         "name": "보광동",
         "orientation": "v",
         "showlegend": true,
         "type": "scatter",
         "x": [
          0,
          1,
          2,
          3,
          4,
          5,
          6,
          7,
          8,
          9,
          10,
          11,
          12,
          13,
          14,
          15,
          16,
          17,
          18,
          19,
          20,
          21,
          22,
          23
         ],
         "xaxis": "x",
         "y": [
          411,
          531,
          961,
          601,
          426,
          415,
          395,
          525,
          648,
          454,
          451,
          428,
          444,
          439,
          434,
          595,
          525,
          373,
          363,
          356,
          361,
          363,
          444,
          419
         ],
         "yaxis": "y"
        },
        {
         "hovertemplate": "행정동명=서빙고동<br>시간대구분=%{x}<br>총생활인구수=%{y}<extra></extra>",
         "legendgroup": "서빙고동",
         "line": {
          "color": "#00cc96",
          "dash": "solid"
         },
         "mode": "lines",
         "name": "서빙고동",
         "orientation": "v",
         "showlegend": true,
         "type": "scatter",
         "x": [
          0,
          1,
          2,
          3,
          4,
          5,
          6,
          7,
          8,
          9,
          10,
          11,
          12,
          13,
          14,
          15,
          16,
          17,
          18,
          19,
          20,
          21,
          22,
          23
         ],
         "xaxis": "x",
         "y": [
          538,
          639,
          610,
          594,
          598,
          550,
          617,
          613,
          584,
          715,
          784,
          742,
          695,
          588,
          637,
          618,
          1531,
          590,
          591,
          591,
          740,
          576,
          564,
          483
         ],
         "yaxis": "y"
        },
        {
         "hovertemplate": "행정동명=용문동<br>시간대구분=%{x}<br>총생활인구수=%{y}<extra></extra>",
         "legendgroup": "용문동",
         "line": {
          "color": "#ab63fa",
          "dash": "solid"
         },
         "mode": "lines",
         "name": "용문동",
         "orientation": "v",
         "showlegend": true,
         "type": "scatter",
         "x": [
          0,
          1,
          2,
          3,
          4,
          5,
          6,
          7,
          8,
          9,
          10,
          11,
          12,
          13,
          14,
          15,
          16,
          17,
          18,
          19,
          20,
          21,
          22,
          23
         ],
         "xaxis": "x",
         "y": [
          455,
          1565,
          1523,
          973,
          495,
          574,
          548,
          441,
          432,
          745,
          501,
          648,
          447,
          507,
          404,
          418,
          385,
          714,
          431,
          425,
          1551,
          429,
          771,
          536
         ],
         "yaxis": "y"
        },
        {
         "hovertemplate": "행정동명=용산2가동<br>시간대구분=%{x}<br>총생활인구수=%{y}<extra></extra>",
         "legendgroup": "용산2가동",
         "line": {
          "color": "#FFA15A",
          "dash": "solid"
         },
         "mode": "lines",
         "name": "용산2가동",
         "orientation": "v",
         "showlegend": true,
         "type": "scatter",
         "x": [
          0,
          1,
          2,
          3,
          4,
          5,
          6,
          7,
          8,
          9,
          10,
          11,
          12,
          13,
          14,
          15,
          16,
          17,
          18,
          19,
          20,
          21,
          22,
          23
         ],
         "xaxis": "x",
         "y": [
          555,
          400,
          394,
          523,
          425,
          485,
          1121,
          1151,
          916,
          502,
          528,
          455,
          1530,
          650,
          668,
          498,
          482,
          498,
          617,
          570,
          606,
          595,
          593,
          494
         ],
         "yaxis": "y"
        },
        {
         "hovertemplate": "행정동명=원효로1동<br>시간대구분=%{x}<br>총생활인구수=%{y}<extra></extra>",
         "legendgroup": "원효로1동",
         "line": {
          "color": "#19d3f3",
          "dash": "solid"
         },
         "mode": "lines",
         "name": "원효로1동",
         "orientation": "v",
         "showlegend": true,
         "type": "scatter",
         "x": [
          0,
          1,
          2,
          3,
          4,
          5,
          6,
          7,
          8,
          9,
          10,
          11,
          12,
          13,
          14,
          15,
          16,
          17,
          18,
          19,
          20,
          21,
          22,
          23
         ],
         "xaxis": "x",
         "y": [
          1581,
          791,
          736,
          704,
          672,
          1132,
          639,
          1612,
          743,
          616,
          803,
          524,
          499,
          844,
          594,
          1257,
          618,
          733,
          658,
          573,
          505,
          478,
          522,
          604
         ],
         "yaxis": "y"
        },
        {
         "hovertemplate": "행정동명=원효로2동<br>시간대구분=%{x}<br>총생활인구수=%{y}<extra></extra>",
         "legendgroup": "원효로2동",
         "line": {
          "color": "#FF6692",
          "dash": "solid"
         },
         "mode": "lines",
         "name": "원효로2동",
         "orientation": "v",
         "showlegend": true,
         "type": "scatter",
         "x": [
          0,
          1,
          2,
          3,
          4,
          5,
          6,
          7,
          8,
          9,
          10,
          11,
          12,
          13,
          14,
          15,
          16,
          17,
          18,
          19,
          20,
          21,
          22,
          23
         ],
         "xaxis": "x",
         "y": [
          644,
          530,
          425,
          463,
          1440,
          445,
          420,
          1104,
          396,
          470,
          1491,
          484,
          448,
          501,
          438,
          440,
          1214,
          448,
          403,
          520,
          392,
          443,
          465,
          437
         ],
         "yaxis": "y"
        },
        {
         "hovertemplate": "행정동명=이촌1동<br>시간대구분=%{x}<br>총생활인구수=%{y}<extra></extra>",
         "legendgroup": "이촌1동",
         "line": {
          "color": "#B6E880",
          "dash": "solid"
         },
         "mode": "lines",
         "name": "이촌1동",
         "orientation": "v",
         "showlegend": true,
         "type": "scatter",
         "x": [
          0,
          1,
          2,
          3,
          4,
          5,
          6,
          7,
          8,
          9,
          10,
          11,
          12,
          13,
          14,
          15,
          16,
          17,
          18,
          19,
          20,
          21,
          22,
          23
         ],
         "xaxis": "x",
         "y": [
          1025,
          476,
          758,
          901,
          490,
          492,
          494,
          926,
          979,
          479,
          482,
          503,
          509,
          464,
          486,
          688,
          494,
          489,
          563,
          1499,
          494,
          415,
          653,
          491
         ],
         "yaxis": "y"
        },
        {
         "hovertemplate": "행정동명=이촌2동<br>시간대구분=%{x}<br>총생활인구수=%{y}<extra></extra>",
         "legendgroup": "이촌2동",
         "line": {
          "color": "#FF97FF",
          "dash": "solid"
         },
         "mode": "lines",
         "name": "이촌2동",
         "orientation": "v",
         "showlegend": true,
         "type": "scatter",
         "x": [
          0,
          1,
          2,
          3,
          4,
          5,
          6,
          7,
          8,
          9,
          10,
          11,
          12,
          13,
          14,
          15,
          16,
          17,
          18,
          19,
          20,
          21,
          22,
          23
         ],
         "xaxis": "x",
         "y": [
          415,
          528,
          562,
          554,
          415,
          433,
          466,
          464,
          465,
          464,
          1164,
          534,
          586,
          544,
          401,
          499,
          497,
          450,
          508,
          478,
          513,
          502,
          494,
          452
         ],
         "yaxis": "y"
        },
        {
         "hovertemplate": "행정동명=이태원1동<br>시간대구분=%{x}<br>총생활인구수=%{y}<extra></extra>",
         "legendgroup": "이태원1동",
         "line": {
          "color": "#FECB52",
          "dash": "solid"
         },
         "mode": "lines",
         "name": "이태원1동",
         "orientation": "v",
         "showlegend": true,
         "type": "scatter",
         "x": [
          0,
          1,
          2,
          3,
          4,
          5,
          6,
          7,
          8,
          9,
          10,
          11,
          12,
          13,
          14,
          15,
          16,
          17,
          18,
          19,
          20,
          21,
          22,
          23
         ],
         "xaxis": "x",
         "y": [
          1884,
          2257,
          2217,
          1395,
          1663,
          1511,
          983,
          963,
          784,
          1135,
          1160,
          1214,
          860,
          1051,
          1249,
          1398,
          922,
          1244,
          1043,
          1043,
          1483,
          1536,
          838,
          751
         ],
         "yaxis": "y"
        },
        {
         "hovertemplate": "행정동명=이태원2동<br>시간대구분=%{x}<br>총생활인구수=%{y}<extra></extra>",
         "legendgroup": "이태원2동",
         "line": {
          "color": "#636efa",
          "dash": "solid"
         },
         "mode": "lines",
         "name": "이태원2동",
         "orientation": "v",
         "showlegend": true,
         "type": "scatter",
         "x": [
          0,
          1,
          2,
          3,
          4,
          5,
          6,
          7,
          8,
          9,
          10,
          11,
          12,
          13,
          14,
          15,
          16,
          17,
          18,
          19,
          20,
          21,
          22,
          23
         ],
         "xaxis": "x",
         "y": [
          700,
          705,
          610,
          707,
          662,
          559,
          788,
          634,
          694,
          763,
          664,
          624,
          521,
          603,
          1434,
          645,
          600,
          1591,
          604,
          1571,
          1434,
          653,
          1531,
          658
         ],
         "yaxis": "y"
        },
        {
         "hovertemplate": "행정동명=청파동<br>시간대구분=%{x}<br>총생활인구수=%{y}<extra></extra>",
         "legendgroup": "청파동",
         "line": {
          "color": "#EF553B",
          "dash": "solid"
         },
         "mode": "lines",
         "name": "청파동",
         "orientation": "v",
         "showlegend": true,
         "type": "scatter",
         "x": [
          0,
          1,
          2,
          3,
          4,
          5,
          6,
          7,
          8,
          9,
          10,
          11,
          12,
          13,
          14,
          15,
          16,
          17,
          18,
          19,
          20,
          21,
          22,
          23
         ],
         "xaxis": "x",
         "y": [
          492,
          543,
          462,
          576,
          598,
          578,
          650,
          470,
          468,
          579,
          801,
          589,
          739,
          713,
          754,
          606,
          1535,
          598,
          733,
          612,
          508,
          593,
          545,
          596
         ],
         "yaxis": "y"
        },
        {
         "hovertemplate": "행정동명=한강로동<br>시간대구분=%{x}<br>총생활인구수=%{y}<extra></extra>",
         "legendgroup": "한강로동",
         "line": {
          "color": "#00cc96",
          "dash": "solid"
         },
         "mode": "lines",
         "name": "한강로동",
         "orientation": "v",
         "showlegend": true,
         "type": "scatter",
         "x": [
          0,
          1,
          2,
          3,
          4,
          5,
          6,
          7,
          8,
          9,
          10,
          11,
          12,
          13,
          14,
          15,
          16,
          17,
          18,
          19,
          20,
          21,
          22,
          23
         ],
         "xaxis": "x",
         "y": [
          724,
          890,
          768,
          696,
          692,
          679,
          1284,
          1202,
          783,
          1083,
          1471,
          1172,
          2050,
          1206,
          1483,
          1252,
          1452,
          1185,
          1318,
          1070,
          966,
          912,
          1129,
          1003
         ],
         "yaxis": "y"
        },
        {
         "hovertemplate": "행정동명=한남동<br>시간대구분=%{x}<br>총생활인구수=%{y}<extra></extra>",
         "legendgroup": "한남동",
         "line": {
          "color": "#ab63fa",
          "dash": "solid"
         },
         "mode": "lines",
         "name": "한남동",
         "orientation": "v",
         "showlegend": true,
         "type": "scatter",
         "x": [
          0,
          1,
          2,
          3,
          4,
          5,
          6,
          7,
          8,
          9,
          10,
          11,
          12,
          13,
          14,
          15,
          16,
          17,
          18,
          19,
          20,
          21,
          22,
          23
         ],
         "xaxis": "x",
         "y": [
          791,
          578,
          652,
          619,
          1122,
          903,
          620,
          626,
          617,
          723,
          560,
          629,
          676,
          779,
          820,
          758,
          748,
          539,
          713,
          699,
          611,
          609,
          599,
          594
         ],
         "yaxis": "y"
        },
        {
         "hovertemplate": "행정동명=효창동<br>시간대구분=%{x}<br>총생활인구수=%{y}<extra></extra>",
         "legendgroup": "효창동",
         "line": {
          "color": "#FFA15A",
          "dash": "solid"
         },
         "mode": "lines",
         "name": "효창동",
         "orientation": "v",
         "showlegend": true,
         "type": "scatter",
         "x": [
          0,
          1,
          2,
          3,
          4,
          5,
          6,
          7,
          8,
          9,
          10,
          11,
          12,
          13,
          14,
          15,
          16,
          17,
          18,
          19,
          20,
          21,
          22,
          23
         ],
         "xaxis": "x",
         "y": [
          498,
          790,
          523,
          534,
          616,
          588,
          763,
          558,
          546,
          555,
          539,
          605,
          456,
          544,
          486,
          466,
          744,
          465,
          501,
          509,
          978,
          534,
          640,
          623
         ],
         "yaxis": "y"
        },
        {
         "hovertemplate": "행정동명=후암동<br>시간대구분=%{x}<br>총생활인구수=%{y}<extra></extra>",
         "legendgroup": "후암동",
         "line": {
          "color": "#19d3f3",
          "dash": "solid"
         },
         "mode": "lines",
         "name": "후암동",
         "orientation": "v",
         "showlegend": true,
         "type": "scatter",
         "x": [
          0,
          1,
          2,
          3,
          4,
          5,
          6,
          7,
          8,
          9,
          10,
          11,
          12,
          13,
          14,
          15,
          16,
          17,
          18,
          19,
          20,
          21,
          22,
          23
         ],
         "xaxis": "x",
         "y": [
          544,
          517,
          504,
          552,
          442,
          474,
          585,
          603,
          429,
          431,
          408,
          397,
          574,
          618,
          367,
          442,
          367,
          1319,
          715,
          666,
          508,
          463,
          387,
          539
         ],
         "yaxis": "y"
        }
       ],
       "layout": {
        "legend": {
         "title": {
          "text": "행정동명"
         },
         "tracegroupgap": 0
        },
        "margin": {
         "t": 60
        },
        "template": {
         "data": {
          "bar": [
           {
            "error_x": {
             "color": "#2a3f5f"
            },
            "error_y": {
             "color": "#2a3f5f"
            },
            "marker": {
             "line": {
              "color": "#E5ECF6",
              "width": 0.5
             },
             "pattern": {
              "fillmode": "overlay",
              "size": 10,
              "solidity": 0.2
             }
            },
            "type": "bar"
           }
          ],
          "barpolar": [
           {
            "marker": {
             "line": {
              "color": "#E5ECF6",
              "width": 0.5
             },
             "pattern": {
              "fillmode": "overlay",
              "size": 10,
              "solidity": 0.2
             }
            },
            "type": "barpolar"
           }
          ],
          "carpet": [
           {
            "aaxis": {
             "endlinecolor": "#2a3f5f",
             "gridcolor": "white",
             "linecolor": "white",
             "minorgridcolor": "white",
             "startlinecolor": "#2a3f5f"
            },
            "baxis": {
             "endlinecolor": "#2a3f5f",
             "gridcolor": "white",
             "linecolor": "white",
             "minorgridcolor": "white",
             "startlinecolor": "#2a3f5f"
            },
            "type": "carpet"
           }
          ],
          "choropleth": [
           {
            "colorbar": {
             "outlinewidth": 0,
             "ticks": ""
            },
            "type": "choropleth"
           }
          ],
          "contour": [
           {
            "colorbar": {
             "outlinewidth": 0,
             "ticks": ""
            },
            "colorscale": [
             [
              0,
              "#0d0887"
             ],
             [
              0.1111111111111111,
              "#46039f"
             ],
             [
              0.2222222222222222,
              "#7201a8"
             ],
             [
              0.3333333333333333,
              "#9c179e"
             ],
             [
              0.4444444444444444,
              "#bd3786"
             ],
             [
              0.5555555555555556,
              "#d8576b"
             ],
             [
              0.6666666666666666,
              "#ed7953"
             ],
             [
              0.7777777777777778,
              "#fb9f3a"
             ],
             [
              0.8888888888888888,
              "#fdca26"
             ],
             [
              1,
              "#f0f921"
             ]
            ],
            "type": "contour"
           }
          ],
          "contourcarpet": [
           {
            "colorbar": {
             "outlinewidth": 0,
             "ticks": ""
            },
            "type": "contourcarpet"
           }
          ],
          "heatmap": [
           {
            "colorbar": {
             "outlinewidth": 0,
             "ticks": ""
            },
            "colorscale": [
             [
              0,
              "#0d0887"
             ],
             [
              0.1111111111111111,
              "#46039f"
             ],
             [
              0.2222222222222222,
              "#7201a8"
             ],
             [
              0.3333333333333333,
              "#9c179e"
             ],
             [
              0.4444444444444444,
              "#bd3786"
             ],
             [
              0.5555555555555556,
              "#d8576b"
             ],
             [
              0.6666666666666666,
              "#ed7953"
             ],
             [
              0.7777777777777778,
              "#fb9f3a"
             ],
             [
              0.8888888888888888,
              "#fdca26"
             ],
             [
              1,
              "#f0f921"
             ]
            ],
            "type": "heatmap"
           }
          ],
          "heatmapgl": [
           {
            "colorbar": {
             "outlinewidth": 0,
             "ticks": ""
            },
            "colorscale": [
             [
              0,
              "#0d0887"
             ],
             [
              0.1111111111111111,
              "#46039f"
             ],
             [
              0.2222222222222222,
              "#7201a8"
             ],
             [
              0.3333333333333333,
              "#9c179e"
             ],
             [
              0.4444444444444444,
              "#bd3786"
             ],
             [
              0.5555555555555556,
              "#d8576b"
             ],
             [
              0.6666666666666666,
              "#ed7953"
             ],
             [
              0.7777777777777778,
              "#fb9f3a"
             ],
             [
              0.8888888888888888,
              "#fdca26"
             ],
             [
              1,
              "#f0f921"
             ]
            ],
            "type": "heatmapgl"
           }
          ],
          "histogram": [
           {
            "marker": {
             "pattern": {
              "fillmode": "overlay",
              "size": 10,
              "solidity": 0.2
             }
            },
            "type": "histogram"
           }
          ],
          "histogram2d": [
           {
            "colorbar": {
             "outlinewidth": 0,
             "ticks": ""
            },
            "colorscale": [
             [
              0,
              "#0d0887"
             ],
             [
              0.1111111111111111,
              "#46039f"
             ],
             [
              0.2222222222222222,
              "#7201a8"
             ],
             [
              0.3333333333333333,
              "#9c179e"
             ],
             [
              0.4444444444444444,
              "#bd3786"
             ],
             [
              0.5555555555555556,
              "#d8576b"
             ],
             [
              0.6666666666666666,
              "#ed7953"
             ],
             [
              0.7777777777777778,
              "#fb9f3a"
             ],
             [
              0.8888888888888888,
              "#fdca26"
             ],
             [
              1,
              "#f0f921"
             ]
            ],
            "type": "histogram2d"
           }
          ],
          "histogram2dcontour": [
           {
            "colorbar": {
             "outlinewidth": 0,
             "ticks": ""
            },
            "colorscale": [
             [
              0,
              "#0d0887"
             ],
             [
              0.1111111111111111,
              "#46039f"
             ],
             [
              0.2222222222222222,
              "#7201a8"
             ],
             [
              0.3333333333333333,
              "#9c179e"
             ],
             [
              0.4444444444444444,
              "#bd3786"
             ],
             [
              0.5555555555555556,
              "#d8576b"
             ],
             [
              0.6666666666666666,
              "#ed7953"
             ],
             [
              0.7777777777777778,
              "#fb9f3a"
             ],
             [
              0.8888888888888888,
              "#fdca26"
             ],
             [
              1,
              "#f0f921"
             ]
            ],
            "type": "histogram2dcontour"
           }
          ],
          "mesh3d": [
           {
            "colorbar": {
             "outlinewidth": 0,
             "ticks": ""
            },
            "type": "mesh3d"
           }
          ],
          "parcoords": [
           {
            "line": {
             "colorbar": {
              "outlinewidth": 0,
              "ticks": ""
             }
            },
            "type": "parcoords"
           }
          ],
          "pie": [
           {
            "automargin": true,
            "type": "pie"
           }
          ],
          "scatter": [
           {
            "marker": {
             "colorbar": {
              "outlinewidth": 0,
              "ticks": ""
             }
            },
            "type": "scatter"
           }
          ],
          "scatter3d": [
           {
            "line": {
             "colorbar": {
              "outlinewidth": 0,
              "ticks": ""
             }
            },
            "marker": {
             "colorbar": {
              "outlinewidth": 0,
              "ticks": ""
             }
            },
            "type": "scatter3d"
           }
          ],
          "scattercarpet": [
           {
            "marker": {
             "colorbar": {
              "outlinewidth": 0,
              "ticks": ""
             }
            },
            "type": "scattercarpet"
           }
          ],
          "scattergeo": [
           {
            "marker": {
             "colorbar": {
              "outlinewidth": 0,
              "ticks": ""
             }
            },
            "type": "scattergeo"
           }
          ],
          "scattergl": [
           {
            "marker": {
             "colorbar": {
              "outlinewidth": 0,
              "ticks": ""
             }
            },
            "type": "scattergl"
           }
          ],
          "scattermapbox": [
           {
            "marker": {
             "colorbar": {
              "outlinewidth": 0,
              "ticks": ""
             }
            },
            "type": "scattermapbox"
           }
          ],
          "scatterpolar": [
           {
            "marker": {
             "colorbar": {
              "outlinewidth": 0,
              "ticks": ""
             }
            },
            "type": "scatterpolar"
           }
          ],
          "scatterpolargl": [
           {
            "marker": {
             "colorbar": {
              "outlinewidth": 0,
              "ticks": ""
             }
            },
            "type": "scatterpolargl"
           }
          ],
          "scatterternary": [
           {
            "marker": {
             "colorbar": {
              "outlinewidth": 0,
              "ticks": ""
             }
            },
            "type": "scatterternary"
           }
          ],
          "surface": [
           {
            "colorbar": {
             "outlinewidth": 0,
             "ticks": ""
            },
            "colorscale": [
             [
              0,
              "#0d0887"
             ],
             [
              0.1111111111111111,
              "#46039f"
             ],
             [
              0.2222222222222222,
              "#7201a8"
             ],
             [
              0.3333333333333333,
              "#9c179e"
             ],
             [
              0.4444444444444444,
              "#bd3786"
             ],
             [
              0.5555555555555556,
              "#d8576b"
             ],
             [
              0.6666666666666666,
              "#ed7953"
             ],
             [
              0.7777777777777778,
              "#fb9f3a"
             ],
             [
              0.8888888888888888,
              "#fdca26"
             ],
             [
              1,
              "#f0f921"
             ]
            ],
            "type": "surface"
           }
          ],
          "table": [
           {
            "cells": {
             "fill": {
              "color": "#EBF0F8"
             },
             "line": {
              "color": "white"
             }
            },
            "header": {
             "fill": {
              "color": "#C8D4E3"
             },
             "line": {
              "color": "white"
             }
            },
            "type": "table"
           }
          ]
         },
         "layout": {
          "annotationdefaults": {
           "arrowcolor": "#2a3f5f",
           "arrowhead": 0,
           "arrowwidth": 1
          },
          "autotypenumbers": "strict",
          "coloraxis": {
           "colorbar": {
            "outlinewidth": 0,
            "ticks": ""
           }
          },
          "colorscale": {
           "diverging": [
            [
             0,
             "#8e0152"
            ],
            [
             0.1,
             "#c51b7d"
            ],
            [
             0.2,
             "#de77ae"
            ],
            [
             0.3,
             "#f1b6da"
            ],
            [
             0.4,
             "#fde0ef"
            ],
            [
             0.5,
             "#f7f7f7"
            ],
            [
             0.6,
             "#e6f5d0"
            ],
            [
             0.7,
             "#b8e186"
            ],
            [
             0.8,
             "#7fbc41"
            ],
            [
             0.9,
             "#4d9221"
            ],
            [
             1,
             "#276419"
            ]
           ],
           "sequential": [
            [
             0,
             "#0d0887"
            ],
            [
             0.1111111111111111,
             "#46039f"
            ],
            [
             0.2222222222222222,
             "#7201a8"
            ],
            [
             0.3333333333333333,
             "#9c179e"
            ],
            [
             0.4444444444444444,
             "#bd3786"
            ],
            [
             0.5555555555555556,
             "#d8576b"
            ],
            [
             0.6666666666666666,
             "#ed7953"
            ],
            [
             0.7777777777777778,
             "#fb9f3a"
            ],
            [
             0.8888888888888888,
             "#fdca26"
            ],
            [
             1,
             "#f0f921"
            ]
           ],
           "sequentialminus": [
            [
             0,
             "#0d0887"
            ],
            [
             0.1111111111111111,
             "#46039f"
            ],
            [
             0.2222222222222222,
             "#7201a8"
            ],
            [
             0.3333333333333333,
             "#9c179e"
            ],
            [
             0.4444444444444444,
             "#bd3786"
            ],
            [
             0.5555555555555556,
             "#d8576b"
            ],
            [
             0.6666666666666666,
             "#ed7953"
            ],
            [
             0.7777777777777778,
             "#fb9f3a"
            ],
            [
             0.8888888888888888,
             "#fdca26"
            ],
            [
             1,
             "#f0f921"
            ]
           ]
          },
          "colorway": [
           "#636efa",
           "#EF553B",
           "#00cc96",
           "#ab63fa",
           "#FFA15A",
           "#19d3f3",
           "#FF6692",
           "#B6E880",
           "#FF97FF",
           "#FECB52"
          ],
          "font": {
           "color": "#2a3f5f"
          },
          "geo": {
           "bgcolor": "white",
           "lakecolor": "white",
           "landcolor": "#E5ECF6",
           "showlakes": true,
           "showland": true,
           "subunitcolor": "white"
          },
          "hoverlabel": {
           "align": "left"
          },
          "hovermode": "closest",
          "mapbox": {
           "style": "light"
          },
          "paper_bgcolor": "white",
          "plot_bgcolor": "#E5ECF6",
          "polar": {
           "angularaxis": {
            "gridcolor": "white",
            "linecolor": "white",
            "ticks": ""
           },
           "bgcolor": "#E5ECF6",
           "radialaxis": {
            "gridcolor": "white",
            "linecolor": "white",
            "ticks": ""
           }
          },
          "scene": {
           "xaxis": {
            "backgroundcolor": "#E5ECF6",
            "gridcolor": "white",
            "gridwidth": 2,
            "linecolor": "white",
            "showbackground": true,
            "ticks": "",
            "zerolinecolor": "white"
           },
           "yaxis": {
            "backgroundcolor": "#E5ECF6",
            "gridcolor": "white",
            "gridwidth": 2,
            "linecolor": "white",
            "showbackground": true,
            "ticks": "",
            "zerolinecolor": "white"
           },
           "zaxis": {
            "backgroundcolor": "#E5ECF6",
            "gridcolor": "white",
            "gridwidth": 2,
            "linecolor": "white",
            "showbackground": true,
            "ticks": "",
            "zerolinecolor": "white"
           }
          },
          "shapedefaults": {
           "line": {
            "color": "#2a3f5f"
           }
          },
          "ternary": {
           "aaxis": {
            "gridcolor": "white",
            "linecolor": "white",
            "ticks": ""
           },
           "baxis": {
            "gridcolor": "white",
            "linecolor": "white",
            "ticks": ""
           },
           "bgcolor": "#E5ECF6",
           "caxis": {
            "gridcolor": "white",
            "linecolor": "white",
            "ticks": ""
           }
          },
          "title": {
           "x": 0.05
          },
          "xaxis": {
           "automargin": true,
           "gridcolor": "white",
           "linecolor": "white",
           "ticks": "",
           "title": {
            "standoff": 15
           },
           "zerolinecolor": "white",
           "zerolinewidth": 2
          },
          "yaxis": {
           "automargin": true,
           "gridcolor": "white",
           "linecolor": "white",
           "ticks": "",
           "title": {
            "standoff": 15
           },
           "zerolinecolor": "white",
           "zerolinewidth": 2
          }
         }
        },
        "xaxis": {
         "anchor": "y",
         "domain": [
          0,
          1
         ],
         "title": {
          "text": "시간대구분"
         }
        },
        "yaxis": {
         "anchor": "x",
         "domain": [
          0,
          1
         ],
         "title": {
          "text": "총생활인구수"
         }
        }
       }
      }
     },
     "metadata": {},
     "output_type": "display_data"
    }
   ],
   "source": [
    "fig = px.line(sub_query, x=sub_query['시간대구분'], y=sub_query['총생활인구수'], color='행정동명')\r\n",
    "fig.show()"
   ]
  },
  {
   "cell_type": "code",
   "execution_count": 349,
   "metadata": {},
   "outputs": [
    {
     "data": {
      "application/vnd.plotly.v1+json": {
       "config": {
        "plotlyServerURL": "https://plot.ly"
       },
       "data": [
        {
         "mode": "lines+markers+text",
         "text": [
          "990",
          "417",
          "569",
          "566",
          "464",
          "621",
          "496",
          "504",
          "449",
          "1119",
          "643",
          "613",
          "925",
          "646",
          "497",
          "437",
          "954",
          "418",
          "565",
          "584",
          "457",
          "631",
          "497",
          "498",
          "441",
          "1072",
          "635",
          "614",
          "910",
          "642",
          "500",
          "442",
          "951",
          "416",
          "563",
          "583",
          "455",
          "616",
          "497",
          "496",
          "438",
          "1035",
          "635",
          "614",
          "904",
          "636",
          "499",
          "442",
          "940",
          "419",
          "566",
          "598",
          "452",
          "631",
          "499",
          "494",
          "438",
          "1012",
          "627",
          "612",
          "903",
          "637",
          "497",
          "447",
          "954",
          "418",
          "574",
          "609",
          "450",
          "629",
          "503",
          "496",
          "438",
          "1013",
          "623",
          "613",
          "921",
          "644",
          "493",
          "448",
          "1023",
          "414",
          "602",
          "601",
          "455",
          "612",
          "495",
          "516",
          "454",
          "999",
          "630",
          "616",
          "974",
          "663",
          "500",
          "446",
          "1168",
          "405",
          "668",
          "575",
          "456",
          "624",
          "492",
          "548",
          "490",
          "1026",
          "634",
          "621",
          "1157",
          "714",
          "513",
          "436",
          "1736",
          "378",
          "766",
          "493",
          "502",
          "618",
          "482",
          "571",
          "501",
          "1076",
          "612",
          "643",
          "1566",
          "799",
          "520",
          "413",
          "2495",
          "339",
          "778",
          "422",
          "488",
          "648",
          "473",
          "555",
          "428",
          "1194",
          "586",
          "665",
          "1901",
          "862",
          "546",
          "388",
          "2781",
          "322",
          "769",
          "394",
          "468",
          "680",
          "470",
          "524",
          "397",
          "1230",
          "563",
          "681",
          "2087",
          "938",
          "542",
          "365",
          "2882",
          "302",
          "774",
          "384",
          "463",
          "660",
          "466",
          "511",
          "379",
          "1286",
          "555",
          "671",
          "2238",
          "976",
          "534",
          "358",
          "2981",
          "292",
          "752",
          "366",
          "472",
          "677",
          "470",
          "492",
          "352",
          "1351",
          "567",
          "688",
          "2381",
          "983",
          "539",
          "354",
          "2983",
          "292",
          "768",
          "363",
          "473",
          "685",
          "468",
          "471",
          "319",
          "1447",
          "582",
          "701",
          "2418",
          "990",
          "502",
          "350",
          "2926",
          "285",
          "796",
          "352",
          "479",
          "683",
          "474",
          "481",
          "323",
          "1493",
          "591",
          "678",
          "2498",
          "1020",
          "508",
          "346",
          "2877",
          "286",
          "767",
          "351",
          "478",
          "672",
          "462",
          "476",
          "321",
          "1520",
          "593",
          "676",
          "2488",
          "1028",
          "511",
          "338",
          "2897",
          "286",
          "772",
          "373",
          "464",
          "680",
          "465",
          "489",
          "337",
          "1546",
          "590",
          "664",
          "2521",
          "1022",
          "498",
          "339",
          "2947",
          "284",
          "741",
          "382",
          "466",
          "681",
          "460",
          "488",
          "345",
          "1545",
          "584",
          "664",
          "2422",
          "1011",
          "497",
          "341",
          "2817",
          "290",
          "732",
          "394",
          "457",
          "674",
          "449",
          "498",
          "363",
          "1588",
          "573",
          "639",
          "2346",
          "1006",
          "490",
          "341",
          "2683",
          "296",
          "730",
          "418",
          "486",
          "607",
          "419",
          "552",
          "436",
          "1733",
          "604",
          "625",
          "2178",
          "1000",
          "489",
          "343",
          "2223",
          "303",
          "696",
          "446",
          "483",
          "582",
          "394",
          "539",
          "414",
          "1801",
          "651",
          "617",
          "1865",
          "949",
          "502",
          "351",
          "1965",
          "317",
          "685",
          "465",
          "507",
          "571",
          "394",
          "518",
          "420",
          "1793",
          "647",
          "608",
          "1647",
          "898",
          "502",
          "365",
          "1775",
          "324",
          "669",
          "474",
          "507",
          "578",
          "398",
          "516",
          "443",
          "1728",
          "632",
          "588",
          "1482",
          "862",
          "540",
          "377",
          "1581",
          "336",
          "665",
          "503",
          "501",
          "588",
          "407",
          "526",
          "463",
          "1606",
          "607",
          "585",
          "1295",
          "810",
          "565",
          "385",
          "1130",
          "416",
          "585",
          "559",
          "477",
          "626",
          "499",
          "517",
          "466",
          "1327",
          "651",
          "610",
          "979",
          "668",
          "475",
          "432"
         ],
         "textposition": "top center",
         "texttemplate": "%{text:.3s}",
         "type": "scatter",
         "x": [
          0,
          0,
          0,
          0,
          0,
          0,
          0,
          0,
          0,
          0,
          0,
          0,
          0,
          0,
          0,
          0,
          1,
          1,
          1,
          1,
          1,
          1,
          1,
          1,
          1,
          1,
          1,
          1,
          1,
          1,
          1,
          1,
          2,
          2,
          2,
          2,
          2,
          2,
          2,
          2,
          2,
          2,
          2,
          2,
          2,
          2,
          2,
          2,
          3,
          3,
          3,
          3,
          3,
          3,
          3,
          3,
          3,
          3,
          3,
          3,
          3,
          3,
          3,
          3,
          4,
          4,
          4,
          4,
          4,
          4,
          4,
          4,
          4,
          4,
          4,
          4,
          4,
          4,
          4,
          4,
          5,
          5,
          5,
          5,
          5,
          5,
          5,
          5,
          5,
          5,
          5,
          5,
          5,
          5,
          5,
          5,
          6,
          6,
          6,
          6,
          6,
          6,
          6,
          6,
          6,
          6,
          6,
          6,
          6,
          6,
          6,
          6,
          7,
          7,
          7,
          7,
          7,
          7,
          7,
          7,
          7,
          7,
          7,
          7,
          7,
          7,
          7,
          7,
          8,
          8,
          8,
          8,
          8,
          8,
          8,
          8,
          8,
          8,
          8,
          8,
          8,
          8,
          8,
          8,
          9,
          9,
          9,
          9,
          9,
          9,
          9,
          9,
          9,
          9,
          9,
          9,
          9,
          9,
          9,
          9,
          10,
          10,
          10,
          10,
          10,
          10,
          10,
          10,
          10,
          10,
          10,
          10,
          10,
          10,
          10,
          10,
          11,
          11,
          11,
          11,
          11,
          11,
          11,
          11,
          11,
          11,
          11,
          11,
          11,
          11,
          11,
          11,
          12,
          12,
          12,
          12,
          12,
          12,
          12,
          12,
          12,
          12,
          12,
          12,
          12,
          12,
          12,
          12,
          13,
          13,
          13,
          13,
          13,
          13,
          13,
          13,
          13,
          13,
          13,
          13,
          13,
          13,
          13,
          13,
          14,
          14,
          14,
          14,
          14,
          14,
          14,
          14,
          14,
          14,
          14,
          14,
          14,
          14,
          14,
          14,
          15,
          15,
          15,
          15,
          15,
          15,
          15,
          15,
          15,
          15,
          15,
          15,
          15,
          15,
          15,
          15,
          16,
          16,
          16,
          16,
          16,
          16,
          16,
          16,
          16,
          16,
          16,
          16,
          16,
          16,
          16,
          16,
          17,
          17,
          17,
          17,
          17,
          17,
          17,
          17,
          17,
          17,
          17,
          17,
          17,
          17,
          17,
          17,
          18,
          18,
          18,
          18,
          18,
          18,
          18,
          18,
          18,
          18,
          18,
          18,
          18,
          18,
          18,
          18,
          19,
          19,
          19,
          19,
          19,
          19,
          19,
          19,
          19,
          19,
          19,
          19,
          19,
          19,
          19,
          19,
          20,
          20,
          20,
          20,
          20,
          20,
          20,
          20,
          20,
          20,
          20,
          20,
          20,
          20,
          20,
          20,
          21,
          21,
          21,
          21,
          21,
          21,
          21,
          21,
          21,
          21,
          21,
          21,
          21,
          21,
          21,
          21,
          22,
          22,
          22,
          22,
          22,
          22,
          22,
          22,
          22,
          22,
          22,
          22,
          22,
          22,
          22,
          22,
          23,
          23,
          23,
          23,
          23,
          23,
          23,
          23,
          23,
          23,
          23,
          23,
          23,
          23,
          23,
          23
         ],
         "y": [
          990,
          417,
          569,
          566,
          464,
          621,
          496,
          504,
          449,
          1119,
          643,
          613,
          925,
          646,
          497,
          437,
          954,
          418,
          565,
          584,
          457,
          631,
          497,
          498,
          441,
          1072,
          635,
          614,
          910,
          642,
          500,
          442,
          951,
          416,
          563,
          583,
          455,
          616,
          497,
          496,
          438,
          1035,
          635,
          614,
          904,
          636,
          499,
          442,
          940,
          419,
          566,
          598,
          452,
          631,
          499,
          494,
          438,
          1012,
          627,
          612,
          903,
          637,
          497,
          447,
          954,
          418,
          574,
          609,
          450,
          629,
          503,
          496,
          438,
          1013,
          623,
          613,
          921,
          644,
          493,
          448,
          1023,
          414,
          602,
          601,
          455,
          612,
          495,
          516,
          454,
          999,
          630,
          616,
          974,
          663,
          500,
          446,
          1168,
          405,
          668,
          575,
          456,
          624,
          492,
          548,
          490,
          1026,
          634,
          621,
          1157,
          714,
          513,
          436,
          1736,
          378,
          766,
          493,
          502,
          618,
          482,
          571,
          501,
          1076,
          612,
          643,
          1566,
          799,
          520,
          413,
          2495,
          339,
          778,
          422,
          488,
          648,
          473,
          555,
          428,
          1194,
          586,
          665,
          1901,
          862,
          546,
          388,
          2781,
          322,
          769,
          394,
          468,
          680,
          470,
          524,
          397,
          1230,
          563,
          681,
          2087,
          938,
          542,
          365,
          2882,
          302,
          774,
          384,
          463,
          660,
          466,
          511,
          379,
          1286,
          555,
          671,
          2238,
          976,
          534,
          358,
          2981,
          292,
          752,
          366,
          472,
          677,
          470,
          492,
          352,
          1351,
          567,
          688,
          2381,
          983,
          539,
          354,
          2983,
          292,
          768,
          363,
          473,
          685,
          468,
          471,
          319,
          1447,
          582,
          701,
          2418,
          990,
          502,
          350,
          2926,
          285,
          796,
          352,
          479,
          683,
          474,
          481,
          323,
          1493,
          591,
          678,
          2498,
          1020,
          508,
          346,
          2877,
          286,
          767,
          351,
          478,
          672,
          462,
          476,
          321,
          1520,
          593,
          676,
          2488,
          1028,
          511,
          338,
          2897,
          286,
          772,
          373,
          464,
          680,
          465,
          489,
          337,
          1546,
          590,
          664,
          2521,
          1022,
          498,
          339,
          2947,
          284,
          741,
          382,
          466,
          681,
          460,
          488,
          345,
          1545,
          584,
          664,
          2422,
          1011,
          497,
          341,
          2817,
          290,
          732,
          394,
          457,
          674,
          449,
          498,
          363,
          1588,
          573,
          639,
          2346,
          1006,
          490,
          341,
          2683,
          296,
          730,
          418,
          486,
          607,
          419,
          552,
          436,
          1733,
          604,
          625,
          2178,
          1000,
          489,
          343,
          2223,
          303,
          696,
          446,
          483,
          582,
          394,
          539,
          414,
          1801,
          651,
          617,
          1865,
          949,
          502,
          351,
          1965,
          317,
          685,
          465,
          507,
          571,
          394,
          518,
          420,
          1793,
          647,
          608,
          1647,
          898,
          502,
          365,
          1775,
          324,
          669,
          474,
          507,
          578,
          398,
          516,
          443,
          1728,
          632,
          588,
          1482,
          862,
          540,
          377,
          1581,
          336,
          665,
          503,
          501,
          588,
          407,
          526,
          463,
          1606,
          607,
          585,
          1295,
          810,
          565,
          385,
          1130,
          416,
          585,
          559,
          477,
          626,
          499,
          517,
          466,
          1327,
          651,
          610,
          979,
          668,
          475,
          432
         ]
        }
       ],
       "layout": {
        "template": {
         "data": {
          "bar": [
           {
            "error_x": {
             "color": "#2a3f5f"
            },
            "error_y": {
             "color": "#2a3f5f"
            },
            "marker": {
             "line": {
              "color": "#E5ECF6",
              "width": 0.5
             },
             "pattern": {
              "fillmode": "overlay",
              "size": 10,
              "solidity": 0.2
             }
            },
            "type": "bar"
           }
          ],
          "barpolar": [
           {
            "marker": {
             "line": {
              "color": "#E5ECF6",
              "width": 0.5
             },
             "pattern": {
              "fillmode": "overlay",
              "size": 10,
              "solidity": 0.2
             }
            },
            "type": "barpolar"
           }
          ],
          "carpet": [
           {
            "aaxis": {
             "endlinecolor": "#2a3f5f",
             "gridcolor": "white",
             "linecolor": "white",
             "minorgridcolor": "white",
             "startlinecolor": "#2a3f5f"
            },
            "baxis": {
             "endlinecolor": "#2a3f5f",
             "gridcolor": "white",
             "linecolor": "white",
             "minorgridcolor": "white",
             "startlinecolor": "#2a3f5f"
            },
            "type": "carpet"
           }
          ],
          "choropleth": [
           {
            "colorbar": {
             "outlinewidth": 0,
             "ticks": ""
            },
            "type": "choropleth"
           }
          ],
          "contour": [
           {
            "colorbar": {
             "outlinewidth": 0,
             "ticks": ""
            },
            "colorscale": [
             [
              0,
              "#0d0887"
             ],
             [
              0.1111111111111111,
              "#46039f"
             ],
             [
              0.2222222222222222,
              "#7201a8"
             ],
             [
              0.3333333333333333,
              "#9c179e"
             ],
             [
              0.4444444444444444,
              "#bd3786"
             ],
             [
              0.5555555555555556,
              "#d8576b"
             ],
             [
              0.6666666666666666,
              "#ed7953"
             ],
             [
              0.7777777777777778,
              "#fb9f3a"
             ],
             [
              0.8888888888888888,
              "#fdca26"
             ],
             [
              1,
              "#f0f921"
             ]
            ],
            "type": "contour"
           }
          ],
          "contourcarpet": [
           {
            "colorbar": {
             "outlinewidth": 0,
             "ticks": ""
            },
            "type": "contourcarpet"
           }
          ],
          "heatmap": [
           {
            "colorbar": {
             "outlinewidth": 0,
             "ticks": ""
            },
            "colorscale": [
             [
              0,
              "#0d0887"
             ],
             [
              0.1111111111111111,
              "#46039f"
             ],
             [
              0.2222222222222222,
              "#7201a8"
             ],
             [
              0.3333333333333333,
              "#9c179e"
             ],
             [
              0.4444444444444444,
              "#bd3786"
             ],
             [
              0.5555555555555556,
              "#d8576b"
             ],
             [
              0.6666666666666666,
              "#ed7953"
             ],
             [
              0.7777777777777778,
              "#fb9f3a"
             ],
             [
              0.8888888888888888,
              "#fdca26"
             ],
             [
              1,
              "#f0f921"
             ]
            ],
            "type": "heatmap"
           }
          ],
          "heatmapgl": [
           {
            "colorbar": {
             "outlinewidth": 0,
             "ticks": ""
            },
            "colorscale": [
             [
              0,
              "#0d0887"
             ],
             [
              0.1111111111111111,
              "#46039f"
             ],
             [
              0.2222222222222222,
              "#7201a8"
             ],
             [
              0.3333333333333333,
              "#9c179e"
             ],
             [
              0.4444444444444444,
              "#bd3786"
             ],
             [
              0.5555555555555556,
              "#d8576b"
             ],
             [
              0.6666666666666666,
              "#ed7953"
             ],
             [
              0.7777777777777778,
              "#fb9f3a"
             ],
             [
              0.8888888888888888,
              "#fdca26"
             ],
             [
              1,
              "#f0f921"
             ]
            ],
            "type": "heatmapgl"
           }
          ],
          "histogram": [
           {
            "marker": {
             "pattern": {
              "fillmode": "overlay",
              "size": 10,
              "solidity": 0.2
             }
            },
            "type": "histogram"
           }
          ],
          "histogram2d": [
           {
            "colorbar": {
             "outlinewidth": 0,
             "ticks": ""
            },
            "colorscale": [
             [
              0,
              "#0d0887"
             ],
             [
              0.1111111111111111,
              "#46039f"
             ],
             [
              0.2222222222222222,
              "#7201a8"
             ],
             [
              0.3333333333333333,
              "#9c179e"
             ],
             [
              0.4444444444444444,
              "#bd3786"
             ],
             [
              0.5555555555555556,
              "#d8576b"
             ],
             [
              0.6666666666666666,
              "#ed7953"
             ],
             [
              0.7777777777777778,
              "#fb9f3a"
             ],
             [
              0.8888888888888888,
              "#fdca26"
             ],
             [
              1,
              "#f0f921"
             ]
            ],
            "type": "histogram2d"
           }
          ],
          "histogram2dcontour": [
           {
            "colorbar": {
             "outlinewidth": 0,
             "ticks": ""
            },
            "colorscale": [
             [
              0,
              "#0d0887"
             ],
             [
              0.1111111111111111,
              "#46039f"
             ],
             [
              0.2222222222222222,
              "#7201a8"
             ],
             [
              0.3333333333333333,
              "#9c179e"
             ],
             [
              0.4444444444444444,
              "#bd3786"
             ],
             [
              0.5555555555555556,
              "#d8576b"
             ],
             [
              0.6666666666666666,
              "#ed7953"
             ],
             [
              0.7777777777777778,
              "#fb9f3a"
             ],
             [
              0.8888888888888888,
              "#fdca26"
             ],
             [
              1,
              "#f0f921"
             ]
            ],
            "type": "histogram2dcontour"
           }
          ],
          "mesh3d": [
           {
            "colorbar": {
             "outlinewidth": 0,
             "ticks": ""
            },
            "type": "mesh3d"
           }
          ],
          "parcoords": [
           {
            "line": {
             "colorbar": {
              "outlinewidth": 0,
              "ticks": ""
             }
            },
            "type": "parcoords"
           }
          ],
          "pie": [
           {
            "automargin": true,
            "type": "pie"
           }
          ],
          "scatter": [
           {
            "marker": {
             "colorbar": {
              "outlinewidth": 0,
              "ticks": ""
             }
            },
            "type": "scatter"
           }
          ],
          "scatter3d": [
           {
            "line": {
             "colorbar": {
              "outlinewidth": 0,
              "ticks": ""
             }
            },
            "marker": {
             "colorbar": {
              "outlinewidth": 0,
              "ticks": ""
             }
            },
            "type": "scatter3d"
           }
          ],
          "scattercarpet": [
           {
            "marker": {
             "colorbar": {
              "outlinewidth": 0,
              "ticks": ""
             }
            },
            "type": "scattercarpet"
           }
          ],
          "scattergeo": [
           {
            "marker": {
             "colorbar": {
              "outlinewidth": 0,
              "ticks": ""
             }
            },
            "type": "scattergeo"
           }
          ],
          "scattergl": [
           {
            "marker": {
             "colorbar": {
              "outlinewidth": 0,
              "ticks": ""
             }
            },
            "type": "scattergl"
           }
          ],
          "scattermapbox": [
           {
            "marker": {
             "colorbar": {
              "outlinewidth": 0,
              "ticks": ""
             }
            },
            "type": "scattermapbox"
           }
          ],
          "scatterpolar": [
           {
            "marker": {
             "colorbar": {
              "outlinewidth": 0,
              "ticks": ""
             }
            },
            "type": "scatterpolar"
           }
          ],
          "scatterpolargl": [
           {
            "marker": {
             "colorbar": {
              "outlinewidth": 0,
              "ticks": ""
             }
            },
            "type": "scatterpolargl"
           }
          ],
          "scatterternary": [
           {
            "marker": {
             "colorbar": {
              "outlinewidth": 0,
              "ticks": ""
             }
            },
            "type": "scatterternary"
           }
          ],
          "surface": [
           {
            "colorbar": {
             "outlinewidth": 0,
             "ticks": ""
            },
            "colorscale": [
             [
              0,
              "#0d0887"
             ],
             [
              0.1111111111111111,
              "#46039f"
             ],
             [
              0.2222222222222222,
              "#7201a8"
             ],
             [
              0.3333333333333333,
              "#9c179e"
             ],
             [
              0.4444444444444444,
              "#bd3786"
             ],
             [
              0.5555555555555556,
              "#d8576b"
             ],
             [
              0.6666666666666666,
              "#ed7953"
             ],
             [
              0.7777777777777778,
              "#fb9f3a"
             ],
             [
              0.8888888888888888,
              "#fdca26"
             ],
             [
              1,
              "#f0f921"
             ]
            ],
            "type": "surface"
           }
          ],
          "table": [
           {
            "cells": {
             "fill": {
              "color": "#EBF0F8"
             },
             "line": {
              "color": "white"
             }
            },
            "header": {
             "fill": {
              "color": "#C8D4E3"
             },
             "line": {
              "color": "white"
             }
            },
            "type": "table"
           }
          ]
         },
         "layout": {
          "annotationdefaults": {
           "arrowcolor": "#2a3f5f",
           "arrowhead": 0,
           "arrowwidth": 1
          },
          "autotypenumbers": "strict",
          "coloraxis": {
           "colorbar": {
            "outlinewidth": 0,
            "ticks": ""
           }
          },
          "colorscale": {
           "diverging": [
            [
             0,
             "#8e0152"
            ],
            [
             0.1,
             "#c51b7d"
            ],
            [
             0.2,
             "#de77ae"
            ],
            [
             0.3,
             "#f1b6da"
            ],
            [
             0.4,
             "#fde0ef"
            ],
            [
             0.5,
             "#f7f7f7"
            ],
            [
             0.6,
             "#e6f5d0"
            ],
            [
             0.7,
             "#b8e186"
            ],
            [
             0.8,
             "#7fbc41"
            ],
            [
             0.9,
             "#4d9221"
            ],
            [
             1,
             "#276419"
            ]
           ],
           "sequential": [
            [
             0,
             "#0d0887"
            ],
            [
             0.1111111111111111,
             "#46039f"
            ],
            [
             0.2222222222222222,
             "#7201a8"
            ],
            [
             0.3333333333333333,
             "#9c179e"
            ],
            [
             0.4444444444444444,
             "#bd3786"
            ],
            [
             0.5555555555555556,
             "#d8576b"
            ],
            [
             0.6666666666666666,
             "#ed7953"
            ],
            [
             0.7777777777777778,
             "#fb9f3a"
            ],
            [
             0.8888888888888888,
             "#fdca26"
            ],
            [
             1,
             "#f0f921"
            ]
           ],
           "sequentialminus": [
            [
             0,
             "#0d0887"
            ],
            [
             0.1111111111111111,
             "#46039f"
            ],
            [
             0.2222222222222222,
             "#7201a8"
            ],
            [
             0.3333333333333333,
             "#9c179e"
            ],
            [
             0.4444444444444444,
             "#bd3786"
            ],
            [
             0.5555555555555556,
             "#d8576b"
            ],
            [
             0.6666666666666666,
             "#ed7953"
            ],
            [
             0.7777777777777778,
             "#fb9f3a"
            ],
            [
             0.8888888888888888,
             "#fdca26"
            ],
            [
             1,
             "#f0f921"
            ]
           ]
          },
          "colorway": [
           "#636efa",
           "#EF553B",
           "#00cc96",
           "#ab63fa",
           "#FFA15A",
           "#19d3f3",
           "#FF6692",
           "#B6E880",
           "#FF97FF",
           "#FECB52"
          ],
          "font": {
           "color": "#2a3f5f"
          },
          "geo": {
           "bgcolor": "white",
           "lakecolor": "white",
           "landcolor": "#E5ECF6",
           "showlakes": true,
           "showland": true,
           "subunitcolor": "white"
          },
          "hoverlabel": {
           "align": "left"
          },
          "hovermode": "closest",
          "mapbox": {
           "style": "light"
          },
          "paper_bgcolor": "white",
          "plot_bgcolor": "#E5ECF6",
          "polar": {
           "angularaxis": {
            "gridcolor": "white",
            "linecolor": "white",
            "ticks": ""
           },
           "bgcolor": "#E5ECF6",
           "radialaxis": {
            "gridcolor": "white",
            "linecolor": "white",
            "ticks": ""
           }
          },
          "scene": {
           "xaxis": {
            "backgroundcolor": "#E5ECF6",
            "gridcolor": "white",
            "gridwidth": 2,
            "linecolor": "white",
            "showbackground": true,
            "ticks": "",
            "zerolinecolor": "white"
           },
           "yaxis": {
            "backgroundcolor": "#E5ECF6",
            "gridcolor": "white",
            "gridwidth": 2,
            "linecolor": "white",
            "showbackground": true,
            "ticks": "",
            "zerolinecolor": "white"
           },
           "zaxis": {
            "backgroundcolor": "#E5ECF6",
            "gridcolor": "white",
            "gridwidth": 2,
            "linecolor": "white",
            "showbackground": true,
            "ticks": "",
            "zerolinecolor": "white"
           }
          },
          "shapedefaults": {
           "line": {
            "color": "#2a3f5f"
           }
          },
          "ternary": {
           "aaxis": {
            "gridcolor": "white",
            "linecolor": "white",
            "ticks": ""
           },
           "baxis": {
            "gridcolor": "white",
            "linecolor": "white",
            "ticks": ""
           },
           "bgcolor": "#E5ECF6",
           "caxis": {
            "gridcolor": "white",
            "linecolor": "white",
            "ticks": ""
           }
          },
          "title": {
           "x": 0.05
          },
          "xaxis": {
           "automargin": true,
           "gridcolor": "white",
           "linecolor": "white",
           "ticks": "",
           "title": {
            "standoff": 15
           },
           "zerolinecolor": "white",
           "zerolinewidth": 2
          },
          "yaxis": {
           "automargin": true,
           "gridcolor": "white",
           "linecolor": "white",
           "ticks": "",
           "title": {
            "standoff": 15
           },
           "zerolinecolor": "white",
           "zerolinewidth": 2
          }
         }
        }
       }
      }
     },
     "metadata": {},
     "output_type": "display_data"
    }
   ],
   "source": [
    "fig = go.Figure()\r\n",
    "fig.add_trace(go.Scatter(x=sub_query['시간대구분'],y=sub_query['총생활인구수'],\r\n",
    "                            mode='lines+markers+text',\r\n",
    "                            #name = 'lines+makers',\r\n",
    "                            text = list(sub_query['총생활인구수']),\r\n",
    "                            textposition= 'top center',\r\n",
    "                            texttemplate='%{text:.3s}'\r\n",
    "\r\n",
    "                            ))\r\n",
    "\r\n",
    "fig.show()"
   ]
  },
  {
   "cell_type": "code",
   "execution_count": 350,
   "metadata": {},
   "outputs": [
    {
     "data": {
      "application/vnd.plotly.v1+json": {
       "config": {
        "plotlyServerURL": "https://plot.ly"
       },
       "data": [
        {
         "alignmentgroup": "True",
         "hovertemplate": "시간대구분=%{x}<br>총생활인구수=%{text}<extra></extra>",
         "legendgroup": "",
         "marker": {
          "color": "#636efa",
          "pattern": {
           "shape": ""
          }
         },
         "name": "",
         "offsetgroup": "",
         "orientation": "v",
         "showlegend": false,
         "text": [
          "990",
          "417",
          "569",
          "566",
          "464",
          "621",
          "496",
          "504",
          "449",
          "1119",
          "643",
          "613",
          "925",
          "646",
          "497",
          "437",
          "954",
          "418",
          "565",
          "584",
          "457",
          "631",
          "497",
          "498",
          "441",
          "1072",
          "635",
          "614",
          "910",
          "642",
          "500",
          "442",
          "951",
          "416",
          "563",
          "583",
          "455",
          "616",
          "497",
          "496",
          "438",
          "1035",
          "635",
          "614",
          "904",
          "636",
          "499",
          "442",
          "940",
          "419",
          "566",
          "598",
          "452",
          "631",
          "499",
          "494",
          "438",
          "1012",
          "627",
          "612",
          "903",
          "637",
          "497",
          "447",
          "954",
          "418",
          "574",
          "609",
          "450",
          "629",
          "503",
          "496",
          "438",
          "1013",
          "623",
          "613",
          "921",
          "644",
          "493",
          "448",
          "1023",
          "414",
          "602",
          "601",
          "455",
          "612",
          "495",
          "516",
          "454",
          "999",
          "630",
          "616",
          "974",
          "663",
          "500",
          "446",
          "1168",
          "405",
          "668",
          "575",
          "456",
          "624",
          "492",
          "548",
          "490",
          "1026",
          "634",
          "621",
          "1157",
          "714",
          "513",
          "436",
          "1736",
          "378",
          "766",
          "493",
          "502",
          "618",
          "482",
          "571",
          "501",
          "1076",
          "612",
          "643",
          "1566",
          "799",
          "520",
          "413",
          "2495",
          "339",
          "778",
          "422",
          "488",
          "648",
          "473",
          "555",
          "428",
          "1194",
          "586",
          "665",
          "1901",
          "862",
          "546",
          "388",
          "2781",
          "322",
          "769",
          "394",
          "468",
          "680",
          "470",
          "524",
          "397",
          "1230",
          "563",
          "681",
          "2087",
          "938",
          "542",
          "365",
          "2882",
          "302",
          "774",
          "384",
          "463",
          "660",
          "466",
          "511",
          "379",
          "1286",
          "555",
          "671",
          "2238",
          "976",
          "534",
          "358",
          "2981",
          "292",
          "752",
          "366",
          "472",
          "677",
          "470",
          "492",
          "352",
          "1351",
          "567",
          "688",
          "2381",
          "983",
          "539",
          "354",
          "2983",
          "292",
          "768",
          "363",
          "473",
          "685",
          "468",
          "471",
          "319",
          "1447",
          "582",
          "701",
          "2418",
          "990",
          "502",
          "350",
          "2926",
          "285",
          "796",
          "352",
          "479",
          "683",
          "474",
          "481",
          "323",
          "1493",
          "591",
          "678",
          "2498",
          "1020",
          "508",
          "346",
          "2877",
          "286",
          "767",
          "351",
          "478",
          "672",
          "462",
          "476",
          "321",
          "1520",
          "593",
          "676",
          "2488",
          "1028",
          "511",
          "338",
          "2897",
          "286",
          "772",
          "373",
          "464",
          "680",
          "465",
          "489",
          "337",
          "1546",
          "590",
          "664",
          "2521",
          "1022",
          "498",
          "339",
          "2947",
          "284",
          "741",
          "382",
          "466",
          "681",
          "460",
          "488",
          "345",
          "1545",
          "584",
          "664",
          "2422",
          "1011",
          "497",
          "341",
          "2817",
          "290",
          "732",
          "394",
          "457",
          "674",
          "449",
          "498",
          "363",
          "1588",
          "573",
          "639",
          "2346",
          "1006",
          "490",
          "341",
          "2683",
          "296",
          "730",
          "418",
          "486",
          "607",
          "419",
          "552",
          "436",
          "1733",
          "604",
          "625",
          "2178",
          "1000",
          "489",
          "343",
          "2223",
          "303",
          "696",
          "446",
          "483",
          "582",
          "394",
          "539",
          "414",
          "1801",
          "651",
          "617",
          "1865",
          "949",
          "502",
          "351",
          "1965",
          "317",
          "685",
          "465",
          "507",
          "571",
          "394",
          "518",
          "420",
          "1793",
          "647",
          "608",
          "1647",
          "898",
          "502",
          "365",
          "1775",
          "324",
          "669",
          "474",
          "507",
          "578",
          "398",
          "516",
          "443",
          "1728",
          "632",
          "588",
          "1482",
          "862",
          "540",
          "377",
          "1581",
          "336",
          "665",
          "503",
          "501",
          "588",
          "407",
          "526",
          "463",
          "1606",
          "607",
          "585",
          "1295",
          "810",
          "565",
          "385",
          "1130",
          "416",
          "585",
          "559",
          "477",
          "626",
          "499",
          "517",
          "466",
          "1327",
          "651",
          "610",
          "979",
          "668",
          "475",
          "432"
         ],
         "textposition": "outside",
         "texttemplate": "%{text:.2s}",
         "type": "bar",
         "x": [
          0,
          0,
          0,
          0,
          0,
          0,
          0,
          0,
          0,
          0,
          0,
          0,
          0,
          0,
          0,
          0,
          1,
          1,
          1,
          1,
          1,
          1,
          1,
          1,
          1,
          1,
          1,
          1,
          1,
          1,
          1,
          1,
          2,
          2,
          2,
          2,
          2,
          2,
          2,
          2,
          2,
          2,
          2,
          2,
          2,
          2,
          2,
          2,
          3,
          3,
          3,
          3,
          3,
          3,
          3,
          3,
          3,
          3,
          3,
          3,
          3,
          3,
          3,
          3,
          4,
          4,
          4,
          4,
          4,
          4,
          4,
          4,
          4,
          4,
          4,
          4,
          4,
          4,
          4,
          4,
          5,
          5,
          5,
          5,
          5,
          5,
          5,
          5,
          5,
          5,
          5,
          5,
          5,
          5,
          5,
          5,
          6,
          6,
          6,
          6,
          6,
          6,
          6,
          6,
          6,
          6,
          6,
          6,
          6,
          6,
          6,
          6,
          7,
          7,
          7,
          7,
          7,
          7,
          7,
          7,
          7,
          7,
          7,
          7,
          7,
          7,
          7,
          7,
          8,
          8,
          8,
          8,
          8,
          8,
          8,
          8,
          8,
          8,
          8,
          8,
          8,
          8,
          8,
          8,
          9,
          9,
          9,
          9,
          9,
          9,
          9,
          9,
          9,
          9,
          9,
          9,
          9,
          9,
          9,
          9,
          10,
          10,
          10,
          10,
          10,
          10,
          10,
          10,
          10,
          10,
          10,
          10,
          10,
          10,
          10,
          10,
          11,
          11,
          11,
          11,
          11,
          11,
          11,
          11,
          11,
          11,
          11,
          11,
          11,
          11,
          11,
          11,
          12,
          12,
          12,
          12,
          12,
          12,
          12,
          12,
          12,
          12,
          12,
          12,
          12,
          12,
          12,
          12,
          13,
          13,
          13,
          13,
          13,
          13,
          13,
          13,
          13,
          13,
          13,
          13,
          13,
          13,
          13,
          13,
          14,
          14,
          14,
          14,
          14,
          14,
          14,
          14,
          14,
          14,
          14,
          14,
          14,
          14,
          14,
          14,
          15,
          15,
          15,
          15,
          15,
          15,
          15,
          15,
          15,
          15,
          15,
          15,
          15,
          15,
          15,
          15,
          16,
          16,
          16,
          16,
          16,
          16,
          16,
          16,
          16,
          16,
          16,
          16,
          16,
          16,
          16,
          16,
          17,
          17,
          17,
          17,
          17,
          17,
          17,
          17,
          17,
          17,
          17,
          17,
          17,
          17,
          17,
          17,
          18,
          18,
          18,
          18,
          18,
          18,
          18,
          18,
          18,
          18,
          18,
          18,
          18,
          18,
          18,
          18,
          19,
          19,
          19,
          19,
          19,
          19,
          19,
          19,
          19,
          19,
          19,
          19,
          19,
          19,
          19,
          19,
          20,
          20,
          20,
          20,
          20,
          20,
          20,
          20,
          20,
          20,
          20,
          20,
          20,
          20,
          20,
          20,
          21,
          21,
          21,
          21,
          21,
          21,
          21,
          21,
          21,
          21,
          21,
          21,
          21,
          21,
          21,
          21,
          22,
          22,
          22,
          22,
          22,
          22,
          22,
          22,
          22,
          22,
          22,
          22,
          22,
          22,
          22,
          22,
          23,
          23,
          23,
          23,
          23,
          23,
          23,
          23,
          23,
          23,
          23,
          23,
          23,
          23,
          23,
          23
         ],
         "xaxis": "x",
         "y": [
          990,
          417,
          569,
          566,
          464,
          621,
          496,
          504,
          449,
          1119,
          643,
          613,
          925,
          646,
          497,
          437,
          954,
          418,
          565,
          584,
          457,
          631,
          497,
          498,
          441,
          1072,
          635,
          614,
          910,
          642,
          500,
          442,
          951,
          416,
          563,
          583,
          455,
          616,
          497,
          496,
          438,
          1035,
          635,
          614,
          904,
          636,
          499,
          442,
          940,
          419,
          566,
          598,
          452,
          631,
          499,
          494,
          438,
          1012,
          627,
          612,
          903,
          637,
          497,
          447,
          954,
          418,
          574,
          609,
          450,
          629,
          503,
          496,
          438,
          1013,
          623,
          613,
          921,
          644,
          493,
          448,
          1023,
          414,
          602,
          601,
          455,
          612,
          495,
          516,
          454,
          999,
          630,
          616,
          974,
          663,
          500,
          446,
          1168,
          405,
          668,
          575,
          456,
          624,
          492,
          548,
          490,
          1026,
          634,
          621,
          1157,
          714,
          513,
          436,
          1736,
          378,
          766,
          493,
          502,
          618,
          482,
          571,
          501,
          1076,
          612,
          643,
          1566,
          799,
          520,
          413,
          2495,
          339,
          778,
          422,
          488,
          648,
          473,
          555,
          428,
          1194,
          586,
          665,
          1901,
          862,
          546,
          388,
          2781,
          322,
          769,
          394,
          468,
          680,
          470,
          524,
          397,
          1230,
          563,
          681,
          2087,
          938,
          542,
          365,
          2882,
          302,
          774,
          384,
          463,
          660,
          466,
          511,
          379,
          1286,
          555,
          671,
          2238,
          976,
          534,
          358,
          2981,
          292,
          752,
          366,
          472,
          677,
          470,
          492,
          352,
          1351,
          567,
          688,
          2381,
          983,
          539,
          354,
          2983,
          292,
          768,
          363,
          473,
          685,
          468,
          471,
          319,
          1447,
          582,
          701,
          2418,
          990,
          502,
          350,
          2926,
          285,
          796,
          352,
          479,
          683,
          474,
          481,
          323,
          1493,
          591,
          678,
          2498,
          1020,
          508,
          346,
          2877,
          286,
          767,
          351,
          478,
          672,
          462,
          476,
          321,
          1520,
          593,
          676,
          2488,
          1028,
          511,
          338,
          2897,
          286,
          772,
          373,
          464,
          680,
          465,
          489,
          337,
          1546,
          590,
          664,
          2521,
          1022,
          498,
          339,
          2947,
          284,
          741,
          382,
          466,
          681,
          460,
          488,
          345,
          1545,
          584,
          664,
          2422,
          1011,
          497,
          341,
          2817,
          290,
          732,
          394,
          457,
          674,
          449,
          498,
          363,
          1588,
          573,
          639,
          2346,
          1006,
          490,
          341,
          2683,
          296,
          730,
          418,
          486,
          607,
          419,
          552,
          436,
          1733,
          604,
          625,
          2178,
          1000,
          489,
          343,
          2223,
          303,
          696,
          446,
          483,
          582,
          394,
          539,
          414,
          1801,
          651,
          617,
          1865,
          949,
          502,
          351,
          1965,
          317,
          685,
          465,
          507,
          571,
          394,
          518,
          420,
          1793,
          647,
          608,
          1647,
          898,
          502,
          365,
          1775,
          324,
          669,
          474,
          507,
          578,
          398,
          516,
          443,
          1728,
          632,
          588,
          1482,
          862,
          540,
          377,
          1581,
          336,
          665,
          503,
          501,
          588,
          407,
          526,
          463,
          1606,
          607,
          585,
          1295,
          810,
          565,
          385,
          1130,
          416,
          585,
          559,
          477,
          626,
          499,
          517,
          466,
          1327,
          651,
          610,
          979,
          668,
          475,
          432
         ],
         "yaxis": "y"
        },
        {
         "mode": "lines+markers",
         "name": "lines+markers",
         "type": "scatter",
         "x": [
          0,
          0,
          0,
          0,
          0,
          0,
          0,
          0,
          0,
          0,
          0,
          0,
          0,
          0,
          0,
          0,
          1,
          1,
          1,
          1,
          1,
          1,
          1,
          1,
          1,
          1,
          1,
          1,
          1,
          1,
          1,
          1,
          2,
          2,
          2,
          2,
          2,
          2,
          2,
          2,
          2,
          2,
          2,
          2,
          2,
          2,
          2,
          2,
          3,
          3,
          3,
          3,
          3,
          3,
          3,
          3,
          3,
          3,
          3,
          3,
          3,
          3,
          3,
          3,
          4,
          4,
          4,
          4,
          4,
          4,
          4,
          4,
          4,
          4,
          4,
          4,
          4,
          4,
          4,
          4,
          5,
          5,
          5,
          5,
          5,
          5,
          5,
          5,
          5,
          5,
          5,
          5,
          5,
          5,
          5,
          5,
          6,
          6,
          6,
          6,
          6,
          6,
          6,
          6,
          6,
          6,
          6,
          6,
          6,
          6,
          6,
          6,
          7,
          7,
          7,
          7,
          7,
          7,
          7,
          7,
          7,
          7,
          7,
          7,
          7,
          7,
          7,
          7,
          8,
          8,
          8,
          8,
          8,
          8,
          8,
          8,
          8,
          8,
          8,
          8,
          8,
          8,
          8,
          8,
          9,
          9,
          9,
          9,
          9,
          9,
          9,
          9,
          9,
          9,
          9,
          9,
          9,
          9,
          9,
          9,
          10,
          10,
          10,
          10,
          10,
          10,
          10,
          10,
          10,
          10,
          10,
          10,
          10,
          10,
          10,
          10,
          11,
          11,
          11,
          11,
          11,
          11,
          11,
          11,
          11,
          11,
          11,
          11,
          11,
          11,
          11,
          11,
          12,
          12,
          12,
          12,
          12,
          12,
          12,
          12,
          12,
          12,
          12,
          12,
          12,
          12,
          12,
          12,
          13,
          13,
          13,
          13,
          13,
          13,
          13,
          13,
          13,
          13,
          13,
          13,
          13,
          13,
          13,
          13,
          14,
          14,
          14,
          14,
          14,
          14,
          14,
          14,
          14,
          14,
          14,
          14,
          14,
          14,
          14,
          14,
          15,
          15,
          15,
          15,
          15,
          15,
          15,
          15,
          15,
          15,
          15,
          15,
          15,
          15,
          15,
          15,
          16,
          16,
          16,
          16,
          16,
          16,
          16,
          16,
          16,
          16,
          16,
          16,
          16,
          16,
          16,
          16,
          17,
          17,
          17,
          17,
          17,
          17,
          17,
          17,
          17,
          17,
          17,
          17,
          17,
          17,
          17,
          17,
          18,
          18,
          18,
          18,
          18,
          18,
          18,
          18,
          18,
          18,
          18,
          18,
          18,
          18,
          18,
          18,
          19,
          19,
          19,
          19,
          19,
          19,
          19,
          19,
          19,
          19,
          19,
          19,
          19,
          19,
          19,
          19,
          20,
          20,
          20,
          20,
          20,
          20,
          20,
          20,
          20,
          20,
          20,
          20,
          20,
          20,
          20,
          20,
          21,
          21,
          21,
          21,
          21,
          21,
          21,
          21,
          21,
          21,
          21,
          21,
          21,
          21,
          21,
          21,
          22,
          22,
          22,
          22,
          22,
          22,
          22,
          22,
          22,
          22,
          22,
          22,
          22,
          22,
          22,
          22,
          23,
          23,
          23,
          23,
          23,
          23,
          23,
          23,
          23,
          23,
          23,
          23,
          23,
          23,
          23,
          23
         ],
         "y": [
          990,
          417,
          569,
          566,
          464,
          621,
          496,
          504,
          449,
          1119,
          643,
          613,
          925,
          646,
          497,
          437,
          954,
          418,
          565,
          584,
          457,
          631,
          497,
          498,
          441,
          1072,
          635,
          614,
          910,
          642,
          500,
          442,
          951,
          416,
          563,
          583,
          455,
          616,
          497,
          496,
          438,
          1035,
          635,
          614,
          904,
          636,
          499,
          442,
          940,
          419,
          566,
          598,
          452,
          631,
          499,
          494,
          438,
          1012,
          627,
          612,
          903,
          637,
          497,
          447,
          954,
          418,
          574,
          609,
          450,
          629,
          503,
          496,
          438,
          1013,
          623,
          613,
          921,
          644,
          493,
          448,
          1023,
          414,
          602,
          601,
          455,
          612,
          495,
          516,
          454,
          999,
          630,
          616,
          974,
          663,
          500,
          446,
          1168,
          405,
          668,
          575,
          456,
          624,
          492,
          548,
          490,
          1026,
          634,
          621,
          1157,
          714,
          513,
          436,
          1736,
          378,
          766,
          493,
          502,
          618,
          482,
          571,
          501,
          1076,
          612,
          643,
          1566,
          799,
          520,
          413,
          2495,
          339,
          778,
          422,
          488,
          648,
          473,
          555,
          428,
          1194,
          586,
          665,
          1901,
          862,
          546,
          388,
          2781,
          322,
          769,
          394,
          468,
          680,
          470,
          524,
          397,
          1230,
          563,
          681,
          2087,
          938,
          542,
          365,
          2882,
          302,
          774,
          384,
          463,
          660,
          466,
          511,
          379,
          1286,
          555,
          671,
          2238,
          976,
          534,
          358,
          2981,
          292,
          752,
          366,
          472,
          677,
          470,
          492,
          352,
          1351,
          567,
          688,
          2381,
          983,
          539,
          354,
          2983,
          292,
          768,
          363,
          473,
          685,
          468,
          471,
          319,
          1447,
          582,
          701,
          2418,
          990,
          502,
          350,
          2926,
          285,
          796,
          352,
          479,
          683,
          474,
          481,
          323,
          1493,
          591,
          678,
          2498,
          1020,
          508,
          346,
          2877,
          286,
          767,
          351,
          478,
          672,
          462,
          476,
          321,
          1520,
          593,
          676,
          2488,
          1028,
          511,
          338,
          2897,
          286,
          772,
          373,
          464,
          680,
          465,
          489,
          337,
          1546,
          590,
          664,
          2521,
          1022,
          498,
          339,
          2947,
          284,
          741,
          382,
          466,
          681,
          460,
          488,
          345,
          1545,
          584,
          664,
          2422,
          1011,
          497,
          341,
          2817,
          290,
          732,
          394,
          457,
          674,
          449,
          498,
          363,
          1588,
          573,
          639,
          2346,
          1006,
          490,
          341,
          2683,
          296,
          730,
          418,
          486,
          607,
          419,
          552,
          436,
          1733,
          604,
          625,
          2178,
          1000,
          489,
          343,
          2223,
          303,
          696,
          446,
          483,
          582,
          394,
          539,
          414,
          1801,
          651,
          617,
          1865,
          949,
          502,
          351,
          1965,
          317,
          685,
          465,
          507,
          571,
          394,
          518,
          420,
          1793,
          647,
          608,
          1647,
          898,
          502,
          365,
          1775,
          324,
          669,
          474,
          507,
          578,
          398,
          516,
          443,
          1728,
          632,
          588,
          1482,
          862,
          540,
          377,
          1581,
          336,
          665,
          503,
          501,
          588,
          407,
          526,
          463,
          1606,
          607,
          585,
          1295,
          810,
          565,
          385,
          1130,
          416,
          585,
          559,
          477,
          626,
          499,
          517,
          466,
          1327,
          651,
          610,
          979,
          668,
          475,
          432
         ]
        }
       ],
       "layout": {
        "barmode": "relative",
        "legend": {
         "tracegroupgap": 0
        },
        "margin": {
         "t": 60
        },
        "template": {
         "data": {
          "bar": [
           {
            "error_x": {
             "color": "#2a3f5f"
            },
            "error_y": {
             "color": "#2a3f5f"
            },
            "marker": {
             "line": {
              "color": "#E5ECF6",
              "width": 0.5
             },
             "pattern": {
              "fillmode": "overlay",
              "size": 10,
              "solidity": 0.2
             }
            },
            "type": "bar"
           }
          ],
          "barpolar": [
           {
            "marker": {
             "line": {
              "color": "#E5ECF6",
              "width": 0.5
             },
             "pattern": {
              "fillmode": "overlay",
              "size": 10,
              "solidity": 0.2
             }
            },
            "type": "barpolar"
           }
          ],
          "carpet": [
           {
            "aaxis": {
             "endlinecolor": "#2a3f5f",
             "gridcolor": "white",
             "linecolor": "white",
             "minorgridcolor": "white",
             "startlinecolor": "#2a3f5f"
            },
            "baxis": {
             "endlinecolor": "#2a3f5f",
             "gridcolor": "white",
             "linecolor": "white",
             "minorgridcolor": "white",
             "startlinecolor": "#2a3f5f"
            },
            "type": "carpet"
           }
          ],
          "choropleth": [
           {
            "colorbar": {
             "outlinewidth": 0,
             "ticks": ""
            },
            "type": "choropleth"
           }
          ],
          "contour": [
           {
            "colorbar": {
             "outlinewidth": 0,
             "ticks": ""
            },
            "colorscale": [
             [
              0,
              "#0d0887"
             ],
             [
              0.1111111111111111,
              "#46039f"
             ],
             [
              0.2222222222222222,
              "#7201a8"
             ],
             [
              0.3333333333333333,
              "#9c179e"
             ],
             [
              0.4444444444444444,
              "#bd3786"
             ],
             [
              0.5555555555555556,
              "#d8576b"
             ],
             [
              0.6666666666666666,
              "#ed7953"
             ],
             [
              0.7777777777777778,
              "#fb9f3a"
             ],
             [
              0.8888888888888888,
              "#fdca26"
             ],
             [
              1,
              "#f0f921"
             ]
            ],
            "type": "contour"
           }
          ],
          "contourcarpet": [
           {
            "colorbar": {
             "outlinewidth": 0,
             "ticks": ""
            },
            "type": "contourcarpet"
           }
          ],
          "heatmap": [
           {
            "colorbar": {
             "outlinewidth": 0,
             "ticks": ""
            },
            "colorscale": [
             [
              0,
              "#0d0887"
             ],
             [
              0.1111111111111111,
              "#46039f"
             ],
             [
              0.2222222222222222,
              "#7201a8"
             ],
             [
              0.3333333333333333,
              "#9c179e"
             ],
             [
              0.4444444444444444,
              "#bd3786"
             ],
             [
              0.5555555555555556,
              "#d8576b"
             ],
             [
              0.6666666666666666,
              "#ed7953"
             ],
             [
              0.7777777777777778,
              "#fb9f3a"
             ],
             [
              0.8888888888888888,
              "#fdca26"
             ],
             [
              1,
              "#f0f921"
             ]
            ],
            "type": "heatmap"
           }
          ],
          "heatmapgl": [
           {
            "colorbar": {
             "outlinewidth": 0,
             "ticks": ""
            },
            "colorscale": [
             [
              0,
              "#0d0887"
             ],
             [
              0.1111111111111111,
              "#46039f"
             ],
             [
              0.2222222222222222,
              "#7201a8"
             ],
             [
              0.3333333333333333,
              "#9c179e"
             ],
             [
              0.4444444444444444,
              "#bd3786"
             ],
             [
              0.5555555555555556,
              "#d8576b"
             ],
             [
              0.6666666666666666,
              "#ed7953"
             ],
             [
              0.7777777777777778,
              "#fb9f3a"
             ],
             [
              0.8888888888888888,
              "#fdca26"
             ],
             [
              1,
              "#f0f921"
             ]
            ],
            "type": "heatmapgl"
           }
          ],
          "histogram": [
           {
            "marker": {
             "pattern": {
              "fillmode": "overlay",
              "size": 10,
              "solidity": 0.2
             }
            },
            "type": "histogram"
           }
          ],
          "histogram2d": [
           {
            "colorbar": {
             "outlinewidth": 0,
             "ticks": ""
            },
            "colorscale": [
             [
              0,
              "#0d0887"
             ],
             [
              0.1111111111111111,
              "#46039f"
             ],
             [
              0.2222222222222222,
              "#7201a8"
             ],
             [
              0.3333333333333333,
              "#9c179e"
             ],
             [
              0.4444444444444444,
              "#bd3786"
             ],
             [
              0.5555555555555556,
              "#d8576b"
             ],
             [
              0.6666666666666666,
              "#ed7953"
             ],
             [
              0.7777777777777778,
              "#fb9f3a"
             ],
             [
              0.8888888888888888,
              "#fdca26"
             ],
             [
              1,
              "#f0f921"
             ]
            ],
            "type": "histogram2d"
           }
          ],
          "histogram2dcontour": [
           {
            "colorbar": {
             "outlinewidth": 0,
             "ticks": ""
            },
            "colorscale": [
             [
              0,
              "#0d0887"
             ],
             [
              0.1111111111111111,
              "#46039f"
             ],
             [
              0.2222222222222222,
              "#7201a8"
             ],
             [
              0.3333333333333333,
              "#9c179e"
             ],
             [
              0.4444444444444444,
              "#bd3786"
             ],
             [
              0.5555555555555556,
              "#d8576b"
             ],
             [
              0.6666666666666666,
              "#ed7953"
             ],
             [
              0.7777777777777778,
              "#fb9f3a"
             ],
             [
              0.8888888888888888,
              "#fdca26"
             ],
             [
              1,
              "#f0f921"
             ]
            ],
            "type": "histogram2dcontour"
           }
          ],
          "mesh3d": [
           {
            "colorbar": {
             "outlinewidth": 0,
             "ticks": ""
            },
            "type": "mesh3d"
           }
          ],
          "parcoords": [
           {
            "line": {
             "colorbar": {
              "outlinewidth": 0,
              "ticks": ""
             }
            },
            "type": "parcoords"
           }
          ],
          "pie": [
           {
            "automargin": true,
            "type": "pie"
           }
          ],
          "scatter": [
           {
            "marker": {
             "colorbar": {
              "outlinewidth": 0,
              "ticks": ""
             }
            },
            "type": "scatter"
           }
          ],
          "scatter3d": [
           {
            "line": {
             "colorbar": {
              "outlinewidth": 0,
              "ticks": ""
             }
            },
            "marker": {
             "colorbar": {
              "outlinewidth": 0,
              "ticks": ""
             }
            },
            "type": "scatter3d"
           }
          ],
          "scattercarpet": [
           {
            "marker": {
             "colorbar": {
              "outlinewidth": 0,
              "ticks": ""
             }
            },
            "type": "scattercarpet"
           }
          ],
          "scattergeo": [
           {
            "marker": {
             "colorbar": {
              "outlinewidth": 0,
              "ticks": ""
             }
            },
            "type": "scattergeo"
           }
          ],
          "scattergl": [
           {
            "marker": {
             "colorbar": {
              "outlinewidth": 0,
              "ticks": ""
             }
            },
            "type": "scattergl"
           }
          ],
          "scattermapbox": [
           {
            "marker": {
             "colorbar": {
              "outlinewidth": 0,
              "ticks": ""
             }
            },
            "type": "scattermapbox"
           }
          ],
          "scatterpolar": [
           {
            "marker": {
             "colorbar": {
              "outlinewidth": 0,
              "ticks": ""
             }
            },
            "type": "scatterpolar"
           }
          ],
          "scatterpolargl": [
           {
            "marker": {
             "colorbar": {
              "outlinewidth": 0,
              "ticks": ""
             }
            },
            "type": "scatterpolargl"
           }
          ],
          "scatterternary": [
           {
            "marker": {
             "colorbar": {
              "outlinewidth": 0,
              "ticks": ""
             }
            },
            "type": "scatterternary"
           }
          ],
          "surface": [
           {
            "colorbar": {
             "outlinewidth": 0,
             "ticks": ""
            },
            "colorscale": [
             [
              0,
              "#0d0887"
             ],
             [
              0.1111111111111111,
              "#46039f"
             ],
             [
              0.2222222222222222,
              "#7201a8"
             ],
             [
              0.3333333333333333,
              "#9c179e"
             ],
             [
              0.4444444444444444,
              "#bd3786"
             ],
             [
              0.5555555555555556,
              "#d8576b"
             ],
             [
              0.6666666666666666,
              "#ed7953"
             ],
             [
              0.7777777777777778,
              "#fb9f3a"
             ],
             [
              0.8888888888888888,
              "#fdca26"
             ],
             [
              1,
              "#f0f921"
             ]
            ],
            "type": "surface"
           }
          ],
          "table": [
           {
            "cells": {
             "fill": {
              "color": "#EBF0F8"
             },
             "line": {
              "color": "white"
             }
            },
            "header": {
             "fill": {
              "color": "#C8D4E3"
             },
             "line": {
              "color": "white"
             }
            },
            "type": "table"
           }
          ]
         },
         "layout": {
          "annotationdefaults": {
           "arrowcolor": "#2a3f5f",
           "arrowhead": 0,
           "arrowwidth": 1
          },
          "autotypenumbers": "strict",
          "coloraxis": {
           "colorbar": {
            "outlinewidth": 0,
            "ticks": ""
           }
          },
          "colorscale": {
           "diverging": [
            [
             0,
             "#8e0152"
            ],
            [
             0.1,
             "#c51b7d"
            ],
            [
             0.2,
             "#de77ae"
            ],
            [
             0.3,
             "#f1b6da"
            ],
            [
             0.4,
             "#fde0ef"
            ],
            [
             0.5,
             "#f7f7f7"
            ],
            [
             0.6,
             "#e6f5d0"
            ],
            [
             0.7,
             "#b8e186"
            ],
            [
             0.8,
             "#7fbc41"
            ],
            [
             0.9,
             "#4d9221"
            ],
            [
             1,
             "#276419"
            ]
           ],
           "sequential": [
            [
             0,
             "#0d0887"
            ],
            [
             0.1111111111111111,
             "#46039f"
            ],
            [
             0.2222222222222222,
             "#7201a8"
            ],
            [
             0.3333333333333333,
             "#9c179e"
            ],
            [
             0.4444444444444444,
             "#bd3786"
            ],
            [
             0.5555555555555556,
             "#d8576b"
            ],
            [
             0.6666666666666666,
             "#ed7953"
            ],
            [
             0.7777777777777778,
             "#fb9f3a"
            ],
            [
             0.8888888888888888,
             "#fdca26"
            ],
            [
             1,
             "#f0f921"
            ]
           ],
           "sequentialminus": [
            [
             0,
             "#0d0887"
            ],
            [
             0.1111111111111111,
             "#46039f"
            ],
            [
             0.2222222222222222,
             "#7201a8"
            ],
            [
             0.3333333333333333,
             "#9c179e"
            ],
            [
             0.4444444444444444,
             "#bd3786"
            ],
            [
             0.5555555555555556,
             "#d8576b"
            ],
            [
             0.6666666666666666,
             "#ed7953"
            ],
            [
             0.7777777777777778,
             "#fb9f3a"
            ],
            [
             0.8888888888888888,
             "#fdca26"
            ],
            [
             1,
             "#f0f921"
            ]
           ]
          },
          "colorway": [
           "#636efa",
           "#EF553B",
           "#00cc96",
           "#ab63fa",
           "#FFA15A",
           "#19d3f3",
           "#FF6692",
           "#B6E880",
           "#FF97FF",
           "#FECB52"
          ],
          "font": {
           "color": "#2a3f5f"
          },
          "geo": {
           "bgcolor": "white",
           "lakecolor": "white",
           "landcolor": "#E5ECF6",
           "showlakes": true,
           "showland": true,
           "subunitcolor": "white"
          },
          "hoverlabel": {
           "align": "left"
          },
          "hovermode": "closest",
          "mapbox": {
           "style": "light"
          },
          "paper_bgcolor": "white",
          "plot_bgcolor": "#E5ECF6",
          "polar": {
           "angularaxis": {
            "gridcolor": "white",
            "linecolor": "white",
            "ticks": ""
           },
           "bgcolor": "#E5ECF6",
           "radialaxis": {
            "gridcolor": "white",
            "linecolor": "white",
            "ticks": ""
           }
          },
          "scene": {
           "xaxis": {
            "backgroundcolor": "#E5ECF6",
            "gridcolor": "white",
            "gridwidth": 2,
            "linecolor": "white",
            "showbackground": true,
            "ticks": "",
            "zerolinecolor": "white"
           },
           "yaxis": {
            "backgroundcolor": "#E5ECF6",
            "gridcolor": "white",
            "gridwidth": 2,
            "linecolor": "white",
            "showbackground": true,
            "ticks": "",
            "zerolinecolor": "white"
           },
           "zaxis": {
            "backgroundcolor": "#E5ECF6",
            "gridcolor": "white",
            "gridwidth": 2,
            "linecolor": "white",
            "showbackground": true,
            "ticks": "",
            "zerolinecolor": "white"
           }
          },
          "shapedefaults": {
           "line": {
            "color": "#2a3f5f"
           }
          },
          "ternary": {
           "aaxis": {
            "gridcolor": "white",
            "linecolor": "white",
            "ticks": ""
           },
           "baxis": {
            "gridcolor": "white",
            "linecolor": "white",
            "ticks": ""
           },
           "bgcolor": "#E5ECF6",
           "caxis": {
            "gridcolor": "white",
            "linecolor": "white",
            "ticks": ""
           }
          },
          "title": {
           "x": 0.05
          },
          "xaxis": {
           "automargin": true,
           "gridcolor": "white",
           "linecolor": "white",
           "ticks": "",
           "title": {
            "standoff": 15
           },
           "zerolinecolor": "white",
           "zerolinewidth": 2
          },
          "yaxis": {
           "automargin": true,
           "gridcolor": "white",
           "linecolor": "white",
           "ticks": "",
           "title": {
            "standoff": 15
           },
           "zerolinecolor": "white",
           "zerolinewidth": 2
          }
         }
        },
        "uniformtext": {
         "minsize": 8,
         "mode": "hide"
        },
        "xaxis": {
         "anchor": "y",
         "domain": [
          0,
          1
         ],
         "title": {
          "text": "시간대구분"
         }
        },
        "yaxis": {
         "anchor": "x",
         "domain": [
          0,
          1
         ],
         "title": {
          "text": "총생활인구수"
         }
        }
       }
      }
     },
     "metadata": {},
     "output_type": "display_data"
    }
   ],
   "source": [
    "fig = px.bar(sub_query, x=sub_query['시간대구분'] ,y=sub_query['총생활인구수'] , text=sub_query['총생활인구수'])\r\n",
    "fig.update_traces(texttemplate='%{text:.2s}', textposition='outside')\r\n",
    "fig.update_layout(uniformtext_minsize=8, uniformtext_mode='hide')\r\n",
    "\r\n",
    "fig.add_trace(go.Scatter(x=sub_query['시간대구분'],y=sub_query['총생활인구수'],\r\n",
    "                            mode='lines+markers',name = 'lines+markers'\r\n",
    "                            ))\r\n",
    "\r\n",
    "fig.show()"
   ]
  },
  {
   "cell_type": "code",
   "execution_count": 351,
   "metadata": {},
   "outputs": [
    {
     "ename": "KeyError",
     "evalue": "'지역'",
     "output_type": "error",
     "traceback": [
      "\u001b[1;31m---------------------------------------------------------------------------\u001b[0m",
      "\u001b[1;31mKeyError\u001b[0m                                  Traceback (most recent call last)",
      "\u001b[1;32mC:\\ananconda\\envs\\multi\\lib\\site-packages\\pandas\\core\\indexes\\base.py\u001b[0m in \u001b[0;36mget_loc\u001b[1;34m(self, key, method, tolerance)\u001b[0m\n\u001b[0;32m   3079\u001b[0m             \u001b[1;32mtry\u001b[0m\u001b[1;33m:\u001b[0m\u001b[1;33m\u001b[0m\u001b[1;33m\u001b[0m\u001b[0m\n\u001b[1;32m-> 3080\u001b[1;33m                 \u001b[1;32mreturn\u001b[0m \u001b[0mself\u001b[0m\u001b[1;33m.\u001b[0m\u001b[0m_engine\u001b[0m\u001b[1;33m.\u001b[0m\u001b[0mget_loc\u001b[0m\u001b[1;33m(\u001b[0m\u001b[0mcasted_key\u001b[0m\u001b[1;33m)\u001b[0m\u001b[1;33m\u001b[0m\u001b[1;33m\u001b[0m\u001b[0m\n\u001b[0m\u001b[0;32m   3081\u001b[0m             \u001b[1;32mexcept\u001b[0m \u001b[0mKeyError\u001b[0m \u001b[1;32mas\u001b[0m \u001b[0merr\u001b[0m\u001b[1;33m:\u001b[0m\u001b[1;33m\u001b[0m\u001b[1;33m\u001b[0m\u001b[0m\n",
      "\u001b[1;32mpandas\\_libs\\index.pyx\u001b[0m in \u001b[0;36mpandas._libs.index.IndexEngine.get_loc\u001b[1;34m()\u001b[0m\n",
      "\u001b[1;32mpandas\\_libs\\index.pyx\u001b[0m in \u001b[0;36mpandas._libs.index.IndexEngine.get_loc\u001b[1;34m()\u001b[0m\n",
      "\u001b[1;32mpandas\\_libs\\hashtable_class_helper.pxi\u001b[0m in \u001b[0;36mpandas._libs.hashtable.PyObjectHashTable.get_item\u001b[1;34m()\u001b[0m\n",
      "\u001b[1;32mpandas\\_libs\\hashtable_class_helper.pxi\u001b[0m in \u001b[0;36mpandas._libs.hashtable.PyObjectHashTable.get_item\u001b[1;34m()\u001b[0m\n",
      "\u001b[1;31mKeyError\u001b[0m: '지역'",
      "\nThe above exception was the direct cause of the following exception:\n",
      "\u001b[1;31mKeyError\u001b[0m                                  Traceback (most recent call last)",
      "\u001b[1;32m<ipython-input-351-62c0644d8e1f>\u001b[0m in \u001b[0;36m<module>\u001b[1;34m\u001b[0m\n\u001b[1;32m----> 1\u001b[1;33m \u001b[0msubset_ds\u001b[0m \u001b[1;33m=\u001b[0m \u001b[0mds\u001b[0m\u001b[1;33m[\u001b[0m\u001b[1;33m(\u001b[0m\u001b[0mds\u001b[0m\u001b[1;33m[\u001b[0m\u001b[1;34m'지역'\u001b[0m\u001b[1;33m]\u001b[0m\u001b[1;33m==\u001b[0m\u001b[1;34m'부산'\u001b[0m\u001b[1;33m)\u001b[0m\u001b[1;33m&\u001b[0m\u001b[1;33m(\u001b[0m\u001b[0mds\u001b[0m\u001b[1;33m[\u001b[0m\u001b[1;34m'년도'\u001b[0m\u001b[1;33m]\u001b[0m\u001b[1;33m==\u001b[0m\u001b[1;36m2020\u001b[0m\u001b[1;33m)\u001b[0m\u001b[1;33m]\u001b[0m\u001b[1;33m\u001b[0m\u001b[1;33m\u001b[0m\u001b[0m\n\u001b[0m",
      "\u001b[1;32mC:\\ananconda\\envs\\multi\\lib\\site-packages\\pandas\\core\\frame.py\u001b[0m in \u001b[0;36m__getitem__\u001b[1;34m(self, key)\u001b[0m\n\u001b[0;32m   3022\u001b[0m             \u001b[1;32mif\u001b[0m \u001b[0mself\u001b[0m\u001b[1;33m.\u001b[0m\u001b[0mcolumns\u001b[0m\u001b[1;33m.\u001b[0m\u001b[0mnlevels\u001b[0m \u001b[1;33m>\u001b[0m \u001b[1;36m1\u001b[0m\u001b[1;33m:\u001b[0m\u001b[1;33m\u001b[0m\u001b[1;33m\u001b[0m\u001b[0m\n\u001b[0;32m   3023\u001b[0m                 \u001b[1;32mreturn\u001b[0m \u001b[0mself\u001b[0m\u001b[1;33m.\u001b[0m\u001b[0m_getitem_multilevel\u001b[0m\u001b[1;33m(\u001b[0m\u001b[0mkey\u001b[0m\u001b[1;33m)\u001b[0m\u001b[1;33m\u001b[0m\u001b[1;33m\u001b[0m\u001b[0m\n\u001b[1;32m-> 3024\u001b[1;33m             \u001b[0mindexer\u001b[0m \u001b[1;33m=\u001b[0m \u001b[0mself\u001b[0m\u001b[1;33m.\u001b[0m\u001b[0mcolumns\u001b[0m\u001b[1;33m.\u001b[0m\u001b[0mget_loc\u001b[0m\u001b[1;33m(\u001b[0m\u001b[0mkey\u001b[0m\u001b[1;33m)\u001b[0m\u001b[1;33m\u001b[0m\u001b[1;33m\u001b[0m\u001b[0m\n\u001b[0m\u001b[0;32m   3025\u001b[0m             \u001b[1;32mif\u001b[0m \u001b[0mis_integer\u001b[0m\u001b[1;33m(\u001b[0m\u001b[0mindexer\u001b[0m\u001b[1;33m)\u001b[0m\u001b[1;33m:\u001b[0m\u001b[1;33m\u001b[0m\u001b[1;33m\u001b[0m\u001b[0m\n\u001b[0;32m   3026\u001b[0m                 \u001b[0mindexer\u001b[0m \u001b[1;33m=\u001b[0m \u001b[1;33m[\u001b[0m\u001b[0mindexer\u001b[0m\u001b[1;33m]\u001b[0m\u001b[1;33m\u001b[0m\u001b[1;33m\u001b[0m\u001b[0m\n",
      "\u001b[1;32mC:\\ananconda\\envs\\multi\\lib\\site-packages\\pandas\\core\\indexes\\base.py\u001b[0m in \u001b[0;36mget_loc\u001b[1;34m(self, key, method, tolerance)\u001b[0m\n\u001b[0;32m   3080\u001b[0m                 \u001b[1;32mreturn\u001b[0m \u001b[0mself\u001b[0m\u001b[1;33m.\u001b[0m\u001b[0m_engine\u001b[0m\u001b[1;33m.\u001b[0m\u001b[0mget_loc\u001b[0m\u001b[1;33m(\u001b[0m\u001b[0mcasted_key\u001b[0m\u001b[1;33m)\u001b[0m\u001b[1;33m\u001b[0m\u001b[1;33m\u001b[0m\u001b[0m\n\u001b[0;32m   3081\u001b[0m             \u001b[1;32mexcept\u001b[0m \u001b[0mKeyError\u001b[0m \u001b[1;32mas\u001b[0m \u001b[0merr\u001b[0m\u001b[1;33m:\u001b[0m\u001b[1;33m\u001b[0m\u001b[1;33m\u001b[0m\u001b[0m\n\u001b[1;32m-> 3082\u001b[1;33m                 \u001b[1;32mraise\u001b[0m \u001b[0mKeyError\u001b[0m\u001b[1;33m(\u001b[0m\u001b[0mkey\u001b[0m\u001b[1;33m)\u001b[0m \u001b[1;32mfrom\u001b[0m \u001b[0merr\u001b[0m\u001b[1;33m\u001b[0m\u001b[1;33m\u001b[0m\u001b[0m\n\u001b[0m\u001b[0;32m   3083\u001b[0m \u001b[1;33m\u001b[0m\u001b[0m\n\u001b[0;32m   3084\u001b[0m         \u001b[1;32mif\u001b[0m \u001b[0mtolerance\u001b[0m \u001b[1;32mis\u001b[0m \u001b[1;32mnot\u001b[0m \u001b[1;32mNone\u001b[0m\u001b[1;33m:\u001b[0m\u001b[1;33m\u001b[0m\u001b[1;33m\u001b[0m\u001b[0m\n",
      "\u001b[1;31mKeyError\u001b[0m: '지역'"
     ]
    }
   ],
   "source": [
    "subset_ds = ds[(ds['지역']=='부산')&(ds['년도']==2020)]"
   ]
  },
  {
   "cell_type": "code",
   "execution_count": null,
   "metadata": {},
   "outputs": [
    {
     "data": {
      "text/html": [
       "<div>\n",
       "<style scoped>\n",
       "    .dataframe tbody tr th:only-of-type {\n",
       "        vertical-align: middle;\n",
       "    }\n",
       "\n",
       "    .dataframe tbody tr th {\n",
       "        vertical-align: top;\n",
       "    }\n",
       "\n",
       "    .dataframe thead th {\n",
       "        text-align: right;\n",
       "    }\n",
       "</style>\n",
       "<table border=\"1\" class=\"dataframe\">\n",
       "  <thead>\n",
       "    <tr style=\"text-align: right;\">\n",
       "      <th></th>\n",
       "      <th>지역</th>\n",
       "      <th>지역분류</th>\n",
       "      <th>도심</th>\n",
       "      <th>년도</th>\n",
       "      <th>분기</th>\n",
       "      <th>공실률</th>\n",
       "      <th>임대료</th>\n",
       "      <th>순영업소득</th>\n",
       "    </tr>\n",
       "  </thead>\n",
       "  <tbody>\n",
       "    <tr>\n",
       "      <th>527</th>\n",
       "      <td>부산</td>\n",
       "      <td>부산지역</td>\n",
       "      <td>경성대/부경대</td>\n",
       "      <td>2017</td>\n",
       "      <td>1</td>\n",
       "      <td>0.0</td>\n",
       "      <td>174239</td>\n",
       "      <td>261360</td>\n",
       "    </tr>\n",
       "    <tr>\n",
       "      <th>528</th>\n",
       "      <td>부산</td>\n",
       "      <td>부산지역</td>\n",
       "      <td>경성대/부경대</td>\n",
       "      <td>2017</td>\n",
       "      <td>2</td>\n",
       "      <td>0.0</td>\n",
       "      <td>168630</td>\n",
       "      <td>265650</td>\n",
       "    </tr>\n",
       "    <tr>\n",
       "      <th>529</th>\n",
       "      <td>부산</td>\n",
       "      <td>부산지역</td>\n",
       "      <td>경성대/부경대</td>\n",
       "      <td>2017</td>\n",
       "      <td>3</td>\n",
       "      <td>10.4</td>\n",
       "      <td>168630</td>\n",
       "      <td>222420</td>\n",
       "    </tr>\n",
       "    <tr>\n",
       "      <th>530</th>\n",
       "      <td>부산</td>\n",
       "      <td>부산지역</td>\n",
       "      <td>경성대/부경대</td>\n",
       "      <td>2017</td>\n",
       "      <td>4</td>\n",
       "      <td>10.4</td>\n",
       "      <td>168630</td>\n",
       "      <td>259050</td>\n",
       "    </tr>\n",
       "    <tr>\n",
       "      <th>531</th>\n",
       "      <td>부산</td>\n",
       "      <td>부산지역</td>\n",
       "      <td>경성대/부경대</td>\n",
       "      <td>2018</td>\n",
       "      <td>1</td>\n",
       "      <td>10.4</td>\n",
       "      <td>166649</td>\n",
       "      <td>264989</td>\n",
       "    </tr>\n",
       "    <tr>\n",
       "      <th>...</th>\n",
       "      <td>...</td>\n",
       "      <td>...</td>\n",
       "      <td>...</td>\n",
       "      <td>...</td>\n",
       "      <td>...</td>\n",
       "      <td>...</td>\n",
       "      <td>...</td>\n",
       "      <td>...</td>\n",
       "    </tr>\n",
       "    <tr>\n",
       "      <th>743</th>\n",
       "      <td>부산</td>\n",
       "      <td>부산지역</td>\n",
       "      <td>현대백화점주변</td>\n",
       "      <td>2020</td>\n",
       "      <td>1</td>\n",
       "      <td>3.7</td>\n",
       "      <td>55769</td>\n",
       "      <td>142890</td>\n",
       "    </tr>\n",
       "    <tr>\n",
       "      <th>744</th>\n",
       "      <td>부산</td>\n",
       "      <td>부산지역</td>\n",
       "      <td>현대백화점주변</td>\n",
       "      <td>2020</td>\n",
       "      <td>2</td>\n",
       "      <td>3.7</td>\n",
       "      <td>56430</td>\n",
       "      <td>142560</td>\n",
       "    </tr>\n",
       "    <tr>\n",
       "      <th>745</th>\n",
       "      <td>부산</td>\n",
       "      <td>부산지역</td>\n",
       "      <td>현대백화점주변</td>\n",
       "      <td>2020</td>\n",
       "      <td>3</td>\n",
       "      <td>3.7</td>\n",
       "      <td>56430</td>\n",
       "      <td>89430</td>\n",
       "    </tr>\n",
       "    <tr>\n",
       "      <th>746</th>\n",
       "      <td>부산</td>\n",
       "      <td>부산지역</td>\n",
       "      <td>현대백화점주변</td>\n",
       "      <td>2020</td>\n",
       "      <td>4</td>\n",
       "      <td>3.7</td>\n",
       "      <td>56430</td>\n",
       "      <td>138930</td>\n",
       "    </tr>\n",
       "    <tr>\n",
       "      <th>747</th>\n",
       "      <td>부산</td>\n",
       "      <td>부산지역</td>\n",
       "      <td>현대백화점주변</td>\n",
       "      <td>2021</td>\n",
       "      <td>1</td>\n",
       "      <td>2.4</td>\n",
       "      <td>66330</td>\n",
       "      <td>130680</td>\n",
       "    </tr>\n",
       "  </tbody>\n",
       "</table>\n",
       "<p>221 rows × 8 columns</p>\n",
       "</div>"
      ],
      "text/plain": [
       "     지역  지역분류       도심    년도  분기   공실률     임대료   순영업소득\n",
       "527  부산  부산지역  경성대/부경대  2017   1   0.0  174239  261360\n",
       "528  부산  부산지역  경성대/부경대  2017   2   0.0  168630  265650\n",
       "529  부산  부산지역  경성대/부경대  2017   3  10.4  168630  222420\n",
       "530  부산  부산지역  경성대/부경대  2017   4  10.4  168630  259050\n",
       "531  부산  부산지역  경성대/부경대  2018   1  10.4  166649  264989\n",
       "..   ..   ...      ...   ...  ..   ...     ...     ...\n",
       "743  부산  부산지역  현대백화점주변  2020   1   3.7   55769  142890\n",
       "744  부산  부산지역  현대백화점주변  2020   2   3.7   56430  142560\n",
       "745  부산  부산지역  현대백화점주변  2020   3   3.7   56430   89430\n",
       "746  부산  부산지역  현대백화점주변  2020   4   3.7   56430  138930\n",
       "747  부산  부산지역  현대백화점주변  2021   1   2.4   66330  130680\n",
       "\n",
       "[221 rows x 8 columns]"
      ]
     },
     "execution_count": 117,
     "metadata": {},
     "output_type": "execute_result"
    }
   ],
   "source": [
    "subset_ds"
   ]
  },
  {
   "cell_type": "code",
   "execution_count": null,
   "metadata": {},
   "outputs": [
    {
     "data": {
      "application/vnd.plotly.v1+json": {
       "config": {
        "plotlyServerURL": "https://plot.ly"
       },
       "data": [
        {
         "alignmentgroup": "True",
         "hovertemplate": "년도=%{x}<br>공실률=%{y}<extra></extra>",
         "legendgroup": "",
         "marker": {
          "color": "#636efa",
          "pattern": {
           "shape": ""
          }
         },
         "name": "",
         "offsetgroup": "",
         "orientation": "v",
         "showlegend": false,
         "textposition": "auto",
         "type": "bar",
         "x": [
          2017,
          2017,
          2017,
          2017,
          2018,
          2018,
          2018,
          2018,
          2019,
          2019,
          2019,
          2019,
          2020,
          2020,
          2020,
          2020,
          2021,
          2017,
          2017,
          2017,
          2017,
          2018,
          2018,
          2018,
          2018,
          2019,
          2019,
          2019,
          2019,
          2020,
          2020,
          2020,
          2020,
          2021,
          2017,
          2017,
          2017,
          2017,
          2018,
          2018,
          2018,
          2018,
          2019,
          2019,
          2019,
          2019,
          2020,
          2020,
          2020,
          2020,
          2021,
          2017,
          2017,
          2017,
          2017,
          2018,
          2018,
          2018,
          2018,
          2019,
          2019,
          2019,
          2019,
          2020,
          2020,
          2020,
          2020,
          2021,
          2017,
          2017,
          2017,
          2017,
          2018,
          2018,
          2018,
          2018,
          2019,
          2019,
          2019,
          2019,
          2020,
          2020,
          2020,
          2020,
          2021,
          2017,
          2017,
          2017,
          2017,
          2018,
          2018,
          2018,
          2018,
          2019,
          2019,
          2019,
          2019,
          2020,
          2020,
          2020,
          2020,
          2021,
          2017,
          2017,
          2017,
          2017,
          2018,
          2018,
          2018,
          2018,
          2019,
          2019,
          2019,
          2019,
          2020,
          2020,
          2020,
          2020,
          2021,
          2017,
          2017,
          2017,
          2017,
          2018,
          2018,
          2018,
          2018,
          2019,
          2019,
          2019,
          2019,
          2020,
          2020,
          2020,
          2020,
          2021,
          2017,
          2017,
          2017,
          2017,
          2018,
          2018,
          2018,
          2018,
          2019,
          2019,
          2019,
          2019,
          2020,
          2020,
          2020,
          2020,
          2021,
          2017,
          2017,
          2017,
          2017,
          2018,
          2018,
          2018,
          2018,
          2019,
          2019,
          2019,
          2019,
          2020,
          2020,
          2020,
          2020,
          2021,
          2017,
          2017,
          2017,
          2017,
          2018,
          2018,
          2018,
          2018,
          2019,
          2019,
          2019,
          2019,
          2020,
          2020,
          2020,
          2020,
          2021,
          2017,
          2017,
          2017,
          2017,
          2018,
          2018,
          2018,
          2018,
          2019,
          2019,
          2019,
          2019,
          2020,
          2020,
          2020,
          2020,
          2021,
          2017,
          2017,
          2017,
          2017,
          2018,
          2018,
          2018,
          2018,
          2019,
          2019,
          2019,
          2019,
          2020,
          2020,
          2020,
          2020,
          2021
         ],
         "xaxis": "x",
         "y": [
          0,
          0,
          10.4,
          10.4,
          10.4,
          10.4,
          10.5,
          10.5,
          2.3,
          2.3,
          2.3,
          2.3,
          2.4,
          0,
          0,
          0,
          0,
          6.6,
          6.6,
          6.6,
          6.6,
          6.6,
          6.6,
          6.6,
          6.6,
          4.2,
          3.8,
          4.3,
          4.7,
          3.6,
          6.8,
          6.8,
          6.8,
          8.6,
          9.3,
          8.8,
          8.8,
          8.8,
          8.8,
          11.7,
          11.7,
          11.7,
          0,
          0,
          7.9,
          20.8,
          20,
          22.7,
          17,
          10.7,
          12.3,
          0,
          0,
          0,
          0,
          0,
          0,
          0,
          0,
          6.6,
          6.6,
          6.6,
          6.6,
          0,
          0,
          0,
          0,
          0,
          8.2,
          10.6,
          13.8,
          11.4,
          6.6,
          6.6,
          3.1,
          3.1,
          11.9,
          11.9,
          11.9,
          11.9,
          5.7,
          5.7,
          10.8,
          10.8,
          4.7,
          7.8,
          7.8,
          7.8,
          14.5,
          18.3,
          13.5,
          9.9,
          16.6,
          0,
          0,
          0,
          0,
          4.4,
          4.4,
          4.4,
          4.4,
          8.7,
          0,
          0,
          0,
          0,
          0,
          0,
          0,
          0,
          0,
          0,
          4.8,
          0,
          2.2,
          0,
          0,
          1,
          2.7,
          11.7,
          11.7,
          11.7,
          11.7,
          11.7,
          9.2,
          0,
          0,
          3.1,
          3.1,
          3.1,
          4.4,
          0,
          0,
          0,
          0,
          5,
          4.1,
          1.8,
          1.8,
          15.5,
          15.5,
          16.5,
          16.5,
          13.7,
          0,
          0,
          0,
          0,
          2.2,
          2.2,
          0,
          0,
          3.2,
          0,
          0,
          0,
          0,
          0,
          0,
          0,
          0,
          0,
          0,
          0,
          0,
          14.8,
          14.8,
          14.8,
          22.6,
          0,
          6.7,
          6.7,
          6.7,
          6.7,
          20.7,
          6.4,
          6.4,
          6.4,
          2.7,
          2.7,
          2.7,
          2.7,
          8.1,
          6.3,
          7,
          5.8,
          3.8,
          11.8,
          7.1,
          7.1,
          7.1,
          0,
          0,
          0,
          0,
          0,
          0,
          0,
          0,
          2,
          4.8,
          4.8,
          4.8,
          0,
          0,
          0,
          0,
          0,
          0,
          0,
          0,
          0,
          0,
          0,
          0,
          0,
          3.7,
          3.7,
          3.7,
          3.7,
          2.4
         ],
         "yaxis": "y"
        }
       ],
       "layout": {
        "barmode": "relative",
        "legend": {
         "tracegroupgap": 0
        },
        "margin": {
         "t": 60
        },
        "template": {
         "data": {
          "bar": [
           {
            "error_x": {
             "color": "#2a3f5f"
            },
            "error_y": {
             "color": "#2a3f5f"
            },
            "marker": {
             "line": {
              "color": "#E5ECF6",
              "width": 0.5
             },
             "pattern": {
              "fillmode": "overlay",
              "size": 10,
              "solidity": 0.2
             }
            },
            "type": "bar"
           }
          ],
          "barpolar": [
           {
            "marker": {
             "line": {
              "color": "#E5ECF6",
              "width": 0.5
             },
             "pattern": {
              "fillmode": "overlay",
              "size": 10,
              "solidity": 0.2
             }
            },
            "type": "barpolar"
           }
          ],
          "carpet": [
           {
            "aaxis": {
             "endlinecolor": "#2a3f5f",
             "gridcolor": "white",
             "linecolor": "white",
             "minorgridcolor": "white",
             "startlinecolor": "#2a3f5f"
            },
            "baxis": {
             "endlinecolor": "#2a3f5f",
             "gridcolor": "white",
             "linecolor": "white",
             "minorgridcolor": "white",
             "startlinecolor": "#2a3f5f"
            },
            "type": "carpet"
           }
          ],
          "choropleth": [
           {
            "colorbar": {
             "outlinewidth": 0,
             "ticks": ""
            },
            "type": "choropleth"
           }
          ],
          "contour": [
           {
            "colorbar": {
             "outlinewidth": 0,
             "ticks": ""
            },
            "colorscale": [
             [
              0,
              "#0d0887"
             ],
             [
              0.1111111111111111,
              "#46039f"
             ],
             [
              0.2222222222222222,
              "#7201a8"
             ],
             [
              0.3333333333333333,
              "#9c179e"
             ],
             [
              0.4444444444444444,
              "#bd3786"
             ],
             [
              0.5555555555555556,
              "#d8576b"
             ],
             [
              0.6666666666666666,
              "#ed7953"
             ],
             [
              0.7777777777777778,
              "#fb9f3a"
             ],
             [
              0.8888888888888888,
              "#fdca26"
             ],
             [
              1,
              "#f0f921"
             ]
            ],
            "type": "contour"
           }
          ],
          "contourcarpet": [
           {
            "colorbar": {
             "outlinewidth": 0,
             "ticks": ""
            },
            "type": "contourcarpet"
           }
          ],
          "heatmap": [
           {
            "colorbar": {
             "outlinewidth": 0,
             "ticks": ""
            },
            "colorscale": [
             [
              0,
              "#0d0887"
             ],
             [
              0.1111111111111111,
              "#46039f"
             ],
             [
              0.2222222222222222,
              "#7201a8"
             ],
             [
              0.3333333333333333,
              "#9c179e"
             ],
             [
              0.4444444444444444,
              "#bd3786"
             ],
             [
              0.5555555555555556,
              "#d8576b"
             ],
             [
              0.6666666666666666,
              "#ed7953"
             ],
             [
              0.7777777777777778,
              "#fb9f3a"
             ],
             [
              0.8888888888888888,
              "#fdca26"
             ],
             [
              1,
              "#f0f921"
             ]
            ],
            "type": "heatmap"
           }
          ],
          "heatmapgl": [
           {
            "colorbar": {
             "outlinewidth": 0,
             "ticks": ""
            },
            "colorscale": [
             [
              0,
              "#0d0887"
             ],
             [
              0.1111111111111111,
              "#46039f"
             ],
             [
              0.2222222222222222,
              "#7201a8"
             ],
             [
              0.3333333333333333,
              "#9c179e"
             ],
             [
              0.4444444444444444,
              "#bd3786"
             ],
             [
              0.5555555555555556,
              "#d8576b"
             ],
             [
              0.6666666666666666,
              "#ed7953"
             ],
             [
              0.7777777777777778,
              "#fb9f3a"
             ],
             [
              0.8888888888888888,
              "#fdca26"
             ],
             [
              1,
              "#f0f921"
             ]
            ],
            "type": "heatmapgl"
           }
          ],
          "histogram": [
           {
            "marker": {
             "pattern": {
              "fillmode": "overlay",
              "size": 10,
              "solidity": 0.2
             }
            },
            "type": "histogram"
           }
          ],
          "histogram2d": [
           {
            "colorbar": {
             "outlinewidth": 0,
             "ticks": ""
            },
            "colorscale": [
             [
              0,
              "#0d0887"
             ],
             [
              0.1111111111111111,
              "#46039f"
             ],
             [
              0.2222222222222222,
              "#7201a8"
             ],
             [
              0.3333333333333333,
              "#9c179e"
             ],
             [
              0.4444444444444444,
              "#bd3786"
             ],
             [
              0.5555555555555556,
              "#d8576b"
             ],
             [
              0.6666666666666666,
              "#ed7953"
             ],
             [
              0.7777777777777778,
              "#fb9f3a"
             ],
             [
              0.8888888888888888,
              "#fdca26"
             ],
             [
              1,
              "#f0f921"
             ]
            ],
            "type": "histogram2d"
           }
          ],
          "histogram2dcontour": [
           {
            "colorbar": {
             "outlinewidth": 0,
             "ticks": ""
            },
            "colorscale": [
             [
              0,
              "#0d0887"
             ],
             [
              0.1111111111111111,
              "#46039f"
             ],
             [
              0.2222222222222222,
              "#7201a8"
             ],
             [
              0.3333333333333333,
              "#9c179e"
             ],
             [
              0.4444444444444444,
              "#bd3786"
             ],
             [
              0.5555555555555556,
              "#d8576b"
             ],
             [
              0.6666666666666666,
              "#ed7953"
             ],
             [
              0.7777777777777778,
              "#fb9f3a"
             ],
             [
              0.8888888888888888,
              "#fdca26"
             ],
             [
              1,
              "#f0f921"
             ]
            ],
            "type": "histogram2dcontour"
           }
          ],
          "mesh3d": [
           {
            "colorbar": {
             "outlinewidth": 0,
             "ticks": ""
            },
            "type": "mesh3d"
           }
          ],
          "parcoords": [
           {
            "line": {
             "colorbar": {
              "outlinewidth": 0,
              "ticks": ""
             }
            },
            "type": "parcoords"
           }
          ],
          "pie": [
           {
            "automargin": true,
            "type": "pie"
           }
          ],
          "scatter": [
           {
            "marker": {
             "colorbar": {
              "outlinewidth": 0,
              "ticks": ""
             }
            },
            "type": "scatter"
           }
          ],
          "scatter3d": [
           {
            "line": {
             "colorbar": {
              "outlinewidth": 0,
              "ticks": ""
             }
            },
            "marker": {
             "colorbar": {
              "outlinewidth": 0,
              "ticks": ""
             }
            },
            "type": "scatter3d"
           }
          ],
          "scattercarpet": [
           {
            "marker": {
             "colorbar": {
              "outlinewidth": 0,
              "ticks": ""
             }
            },
            "type": "scattercarpet"
           }
          ],
          "scattergeo": [
           {
            "marker": {
             "colorbar": {
              "outlinewidth": 0,
              "ticks": ""
             }
            },
            "type": "scattergeo"
           }
          ],
          "scattergl": [
           {
            "marker": {
             "colorbar": {
              "outlinewidth": 0,
              "ticks": ""
             }
            },
            "type": "scattergl"
           }
          ],
          "scattermapbox": [
           {
            "marker": {
             "colorbar": {
              "outlinewidth": 0,
              "ticks": ""
             }
            },
            "type": "scattermapbox"
           }
          ],
          "scatterpolar": [
           {
            "marker": {
             "colorbar": {
              "outlinewidth": 0,
              "ticks": ""
             }
            },
            "type": "scatterpolar"
           }
          ],
          "scatterpolargl": [
           {
            "marker": {
             "colorbar": {
              "outlinewidth": 0,
              "ticks": ""
             }
            },
            "type": "scatterpolargl"
           }
          ],
          "scatterternary": [
           {
            "marker": {
             "colorbar": {
              "outlinewidth": 0,
              "ticks": ""
             }
            },
            "type": "scatterternary"
           }
          ],
          "surface": [
           {
            "colorbar": {
             "outlinewidth": 0,
             "ticks": ""
            },
            "colorscale": [
             [
              0,
              "#0d0887"
             ],
             [
              0.1111111111111111,
              "#46039f"
             ],
             [
              0.2222222222222222,
              "#7201a8"
             ],
             [
              0.3333333333333333,
              "#9c179e"
             ],
             [
              0.4444444444444444,
              "#bd3786"
             ],
             [
              0.5555555555555556,
              "#d8576b"
             ],
             [
              0.6666666666666666,
              "#ed7953"
             ],
             [
              0.7777777777777778,
              "#fb9f3a"
             ],
             [
              0.8888888888888888,
              "#fdca26"
             ],
             [
              1,
              "#f0f921"
             ]
            ],
            "type": "surface"
           }
          ],
          "table": [
           {
            "cells": {
             "fill": {
              "color": "#EBF0F8"
             },
             "line": {
              "color": "white"
             }
            },
            "header": {
             "fill": {
              "color": "#C8D4E3"
             },
             "line": {
              "color": "white"
             }
            },
            "type": "table"
           }
          ]
         },
         "layout": {
          "annotationdefaults": {
           "arrowcolor": "#2a3f5f",
           "arrowhead": 0,
           "arrowwidth": 1
          },
          "autotypenumbers": "strict",
          "coloraxis": {
           "colorbar": {
            "outlinewidth": 0,
            "ticks": ""
           }
          },
          "colorscale": {
           "diverging": [
            [
             0,
             "#8e0152"
            ],
            [
             0.1,
             "#c51b7d"
            ],
            [
             0.2,
             "#de77ae"
            ],
            [
             0.3,
             "#f1b6da"
            ],
            [
             0.4,
             "#fde0ef"
            ],
            [
             0.5,
             "#f7f7f7"
            ],
            [
             0.6,
             "#e6f5d0"
            ],
            [
             0.7,
             "#b8e186"
            ],
            [
             0.8,
             "#7fbc41"
            ],
            [
             0.9,
             "#4d9221"
            ],
            [
             1,
             "#276419"
            ]
           ],
           "sequential": [
            [
             0,
             "#0d0887"
            ],
            [
             0.1111111111111111,
             "#46039f"
            ],
            [
             0.2222222222222222,
             "#7201a8"
            ],
            [
             0.3333333333333333,
             "#9c179e"
            ],
            [
             0.4444444444444444,
             "#bd3786"
            ],
            [
             0.5555555555555556,
             "#d8576b"
            ],
            [
             0.6666666666666666,
             "#ed7953"
            ],
            [
             0.7777777777777778,
             "#fb9f3a"
            ],
            [
             0.8888888888888888,
             "#fdca26"
            ],
            [
             1,
             "#f0f921"
            ]
           ],
           "sequentialminus": [
            [
             0,
             "#0d0887"
            ],
            [
             0.1111111111111111,
             "#46039f"
            ],
            [
             0.2222222222222222,
             "#7201a8"
            ],
            [
             0.3333333333333333,
             "#9c179e"
            ],
            [
             0.4444444444444444,
             "#bd3786"
            ],
            [
             0.5555555555555556,
             "#d8576b"
            ],
            [
             0.6666666666666666,
             "#ed7953"
            ],
            [
             0.7777777777777778,
             "#fb9f3a"
            ],
            [
             0.8888888888888888,
             "#fdca26"
            ],
            [
             1,
             "#f0f921"
            ]
           ]
          },
          "colorway": [
           "#636efa",
           "#EF553B",
           "#00cc96",
           "#ab63fa",
           "#FFA15A",
           "#19d3f3",
           "#FF6692",
           "#B6E880",
           "#FF97FF",
           "#FECB52"
          ],
          "font": {
           "color": "#2a3f5f"
          },
          "geo": {
           "bgcolor": "white",
           "lakecolor": "white",
           "landcolor": "#E5ECF6",
           "showlakes": true,
           "showland": true,
           "subunitcolor": "white"
          },
          "hoverlabel": {
           "align": "left"
          },
          "hovermode": "closest",
          "mapbox": {
           "style": "light"
          },
          "paper_bgcolor": "white",
          "plot_bgcolor": "#E5ECF6",
          "polar": {
           "angularaxis": {
            "gridcolor": "white",
            "linecolor": "white",
            "ticks": ""
           },
           "bgcolor": "#E5ECF6",
           "radialaxis": {
            "gridcolor": "white",
            "linecolor": "white",
            "ticks": ""
           }
          },
          "scene": {
           "xaxis": {
            "backgroundcolor": "#E5ECF6",
            "gridcolor": "white",
            "gridwidth": 2,
            "linecolor": "white",
            "showbackground": true,
            "ticks": "",
            "zerolinecolor": "white"
           },
           "yaxis": {
            "backgroundcolor": "#E5ECF6",
            "gridcolor": "white",
            "gridwidth": 2,
            "linecolor": "white",
            "showbackground": true,
            "ticks": "",
            "zerolinecolor": "white"
           },
           "zaxis": {
            "backgroundcolor": "#E5ECF6",
            "gridcolor": "white",
            "gridwidth": 2,
            "linecolor": "white",
            "showbackground": true,
            "ticks": "",
            "zerolinecolor": "white"
           }
          },
          "shapedefaults": {
           "line": {
            "color": "#2a3f5f"
           }
          },
          "ternary": {
           "aaxis": {
            "gridcolor": "white",
            "linecolor": "white",
            "ticks": ""
           },
           "baxis": {
            "gridcolor": "white",
            "linecolor": "white",
            "ticks": ""
           },
           "bgcolor": "#E5ECF6",
           "caxis": {
            "gridcolor": "white",
            "linecolor": "white",
            "ticks": ""
           }
          },
          "title": {
           "x": 0.05
          },
          "xaxis": {
           "automargin": true,
           "gridcolor": "white",
           "linecolor": "white",
           "ticks": "",
           "title": {
            "standoff": 15
           },
           "zerolinecolor": "white",
           "zerolinewidth": 2
          },
          "yaxis": {
           "automargin": true,
           "gridcolor": "white",
           "linecolor": "white",
           "ticks": "",
           "title": {
            "standoff": 15
           },
           "zerolinecolor": "white",
           "zerolinewidth": 2
          }
         }
        },
        "xaxis": {
         "anchor": "y",
         "domain": [
          0,
          1
         ],
         "title": {
          "text": "년도"
         }
        },
        "yaxis": {
         "anchor": "x",
         "domain": [
          0,
          1
         ],
         "title": {
          "text": "공실률"
         }
        }
       }
      }
     },
     "metadata": {},
     "output_type": "display_data"
    }
   ],
   "source": [
    "fig = px.bar(subset_ds,\r\n",
    "            x='년도',y='공실률')\r\n",
    "fig.show()"
   ]
  },
  {
   "cell_type": "code",
   "execution_count": null,
   "metadata": {},
   "outputs": [
    {
     "data": {
      "text/html": [
       "<div>\n",
       "<style scoped>\n",
       "    .dataframe tbody tr th:only-of-type {\n",
       "        vertical-align: middle;\n",
       "    }\n",
       "\n",
       "    .dataframe tbody tr th {\n",
       "        vertical-align: top;\n",
       "    }\n",
       "\n",
       "    .dataframe thead th {\n",
       "        text-align: right;\n",
       "    }\n",
       "</style>\n",
       "<table border=\"1\" class=\"dataframe\">\n",
       "  <thead>\n",
       "    <tr style=\"text-align: right;\">\n",
       "      <th></th>\n",
       "      <th>행정동코드</th>\n",
       "      <th>총생활인구수</th>\n",
       "      <th>시도명</th>\n",
       "      <th>시군구명</th>\n",
       "      <th>행정동명</th>\n",
       "      <th>년</th>\n",
       "      <th>월</th>\n",
       "    </tr>\n",
       "    <tr>\n",
       "      <th>시간대구분</th>\n",
       "      <th></th>\n",
       "      <th></th>\n",
       "      <th></th>\n",
       "      <th></th>\n",
       "      <th></th>\n",
       "      <th></th>\n",
       "      <th></th>\n",
       "    </tr>\n",
       "  </thead>\n",
       "  <tbody>\n",
       "    <tr>\n",
       "      <th>0</th>\n",
       "      <td>11170510</td>\n",
       "      <td>455</td>\n",
       "      <td>서울</td>\n",
       "      <td>용산구</td>\n",
       "      <td>후암동</td>\n",
       "      <td>2019</td>\n",
       "      <td>1</td>\n",
       "    </tr>\n",
       "    <tr>\n",
       "      <th>0</th>\n",
       "      <td>11170520</td>\n",
       "      <td>470</td>\n",
       "      <td>서울</td>\n",
       "      <td>용산구</td>\n",
       "      <td>용산2가동</td>\n",
       "      <td>2019</td>\n",
       "      <td>1</td>\n",
       "    </tr>\n",
       "    <tr>\n",
       "      <th>0</th>\n",
       "      <td>11170530</td>\n",
       "      <td>856</td>\n",
       "      <td>서울</td>\n",
       "      <td>용산구</td>\n",
       "      <td>남영동</td>\n",
       "      <td>2019</td>\n",
       "      <td>1</td>\n",
       "    </tr>\n",
       "  </tbody>\n",
       "</table>\n",
       "</div>"
      ],
      "text/plain": [
       "          행정동코드  총생활인구수 시도명 시군구명   행정동명     년  월\n",
       "시간대구분                                           \n",
       "0      11170510     455  서울  용산구    후암동  2019  1\n",
       "0      11170520     470  서울  용산구  용산2가동  2019  1\n",
       "0      11170530     856  서울  용산구    남영동  2019  1"
      ]
     },
     "execution_count": 11,
     "metadata": {},
     "output_type": "execute_result"
    }
   ],
   "source": [
    "ds.head(3)"
   ]
  },
  {
   "cell_type": "code",
   "execution_count": null,
   "metadata": {},
   "outputs": [],
   "source": [
    "sub_query = ds.query('(행정동명 in [\"이태원2동\",\"이태원1동\"])& (시간대구분==23)')#&(시간대구분 in [12,13,16,18,23,24])"
   ]
  },
  {
   "cell_type": "code",
   "execution_count": null,
   "metadata": {},
   "outputs": [
    {
     "data": {
      "text/html": [
       "<div>\n",
       "<style scoped>\n",
       "    .dataframe tbody tr th:only-of-type {\n",
       "        vertical-align: middle;\n",
       "    }\n",
       "\n",
       "    .dataframe tbody tr th {\n",
       "        vertical-align: top;\n",
       "    }\n",
       "\n",
       "    .dataframe thead th {\n",
       "        text-align: right;\n",
       "    }\n",
       "</style>\n",
       "<table border=\"1\" class=\"dataframe\">\n",
       "  <thead>\n",
       "    <tr style=\"text-align: right;\">\n",
       "      <th></th>\n",
       "      <th>시간대구분</th>\n",
       "      <th>행정동코드</th>\n",
       "      <th>총생활인구수</th>\n",
       "      <th>시도명</th>\n",
       "      <th>시군구명</th>\n",
       "      <th>행정동명</th>\n",
       "      <th>년</th>\n",
       "      <th>월</th>\n",
       "    </tr>\n",
       "  </thead>\n",
       "  <tbody>\n",
       "    <tr>\n",
       "      <th>379</th>\n",
       "      <td>23</td>\n",
       "      <td>11170650</td>\n",
       "      <td>1147</td>\n",
       "      <td>서울</td>\n",
       "      <td>용산구</td>\n",
       "      <td>이태원1동</td>\n",
       "      <td>2019</td>\n",
       "      <td>1</td>\n",
       "    </tr>\n",
       "    <tr>\n",
       "      <th>380</th>\n",
       "      <td>23</td>\n",
       "      <td>11170660</td>\n",
       "      <td>672</td>\n",
       "      <td>서울</td>\n",
       "      <td>용산구</td>\n",
       "      <td>이태원2동</td>\n",
       "      <td>2019</td>\n",
       "      <td>1</td>\n",
       "    </tr>\n",
       "    <tr>\n",
       "      <th>763</th>\n",
       "      <td>23</td>\n",
       "      <td>11170650</td>\n",
       "      <td>1764</td>\n",
       "      <td>서울</td>\n",
       "      <td>용산구</td>\n",
       "      <td>이태원1동</td>\n",
       "      <td>2019</td>\n",
       "      <td>2</td>\n",
       "    </tr>\n",
       "    <tr>\n",
       "      <th>764</th>\n",
       "      <td>23</td>\n",
       "      <td>11170660</td>\n",
       "      <td>716</td>\n",
       "      <td>서울</td>\n",
       "      <td>용산구</td>\n",
       "      <td>이태원2동</td>\n",
       "      <td>2019</td>\n",
       "      <td>2</td>\n",
       "    </tr>\n",
       "    <tr>\n",
       "      <th>1147</th>\n",
       "      <td>23</td>\n",
       "      <td>11170650</td>\n",
       "      <td>1486</td>\n",
       "      <td>서울</td>\n",
       "      <td>용산구</td>\n",
       "      <td>이태원1동</td>\n",
       "      <td>2019</td>\n",
       "      <td>3</td>\n",
       "    </tr>\n",
       "  </tbody>\n",
       "</table>\n",
       "</div>"
      ],
      "text/plain": [
       "      시간대구분     행정동코드  총생활인구수 시도명 시군구명   행정동명     년  월\n",
       "379      23  11170650    1147  서울  용산구  이태원1동  2019  1\n",
       "380      23  11170660     672  서울  용산구  이태원2동  2019  1\n",
       "763      23  11170650    1764  서울  용산구  이태원1동  2019  2\n",
       "764      23  11170660     716  서울  용산구  이태원2동  2019  2\n",
       "1147     23  11170650    1486  서울  용산구  이태원1동  2019  3"
      ]
     },
     "execution_count": 64,
     "metadata": {},
     "output_type": "execute_result"
    }
   ],
   "source": [
    "sub_query.head()"
   ]
  },
  {
   "cell_type": "code",
   "execution_count": null,
   "metadata": {},
   "outputs": [
    {
     "data": {
      "application/vnd.plotly.v1+json": {
       "config": {
        "plotlyServerURL": "https://plot.ly"
       },
       "data": [
        {
         "hovertemplate": "행정동명=이태원1동<br>월=%{x}<br>총생활인구수=%{y}<extra></extra>",
         "legendgroup": "이태원1동",
         "marker": {
          "color": "#636efa",
          "symbol": "circle"
         },
         "mode": "markers",
         "name": "이태원1동",
         "orientation": "v",
         "showlegend": true,
         "type": "scatter",
         "x": [
          1,
          2,
          3,
          4,
          5,
          6,
          7,
          8,
          9,
          10,
          11,
          12
         ],
         "xaxis": "x",
         "y": [
          1147,
          1764,
          1486,
          1140,
          1516,
          1805,
          1131,
          1867,
          1107,
          956,
          2175,
          1642
         ],
         "yaxis": "y"
        },
        {
         "hovertemplate": "<b>LOWESS trendline</b><br><br>행정동명=이태원1동<br>월=%{x}<br>총생활인구수=%{y} <b>(trend)</b><extra></extra>",
         "legendgroup": "이태원1동",
         "marker": {
          "color": "#636efa",
          "symbol": "circle"
         },
         "mode": "lines",
         "name": "이태원1동",
         "showlegend": false,
         "type": "scatter",
         "x": [
          1,
          2,
          3,
          4,
          5,
          6,
          7,
          8,
          9,
          10,
          11,
          12
         ],
         "xaxis": "x",
         "y": [
          1366.3193574863958,
          1396.6193255766361,
          1434.6178696495242,
          1474.6309717531938,
          1463.4367290624027,
          1476.0899659595682,
          1462.944009587375,
          1411.8148704276164,
          1438.2417042140225,
          1524.2932170951979,
          1604.1726341996296,
          1706.3603471773438
         ],
         "yaxis": "y"
        },
        {
         "hovertemplate": "행정동명=이태원2동<br>월=%{x}<br>총생활인구수=%{y}<extra></extra>",
         "legendgroup": "이태원2동",
         "marker": {
          "color": "#EF553B",
          "symbol": "circle"
         },
         "mode": "markers",
         "name": "이태원2동",
         "orientation": "v",
         "showlegend": true,
         "type": "scatter",
         "x": [
          1,
          2,
          3,
          4,
          5,
          6,
          7,
          8,
          9,
          10,
          11,
          12
         ],
         "xaxis": "x",
         "y": [
          672,
          716,
          736,
          709,
          740,
          800,
          707,
          777,
          692,
          681,
          830,
          828
         ],
         "yaxis": "y"
        },
        {
         "hovertemplate": "<b>LOWESS trendline</b><br><br>행정동명=이태원2동<br>월=%{x}<br>총생활인구수=%{y} <b>(trend)</b><extra></extra>",
         "legendgroup": "이태원2동",
         "marker": {
          "color": "#EF553B",
          "symbol": "circle"
         },
         "mode": "lines",
         "name": "이태원2동",
         "showlegend": false,
         "type": "scatter",
         "x": [
          1,
          2,
          3,
          4,
          5,
          6,
          7,
          8,
          9,
          10,
          11,
          12
         ],
         "xaxis": "x",
         "y": [
          686.69053156935,
          701.8703049319283,
          717.127593333389,
          732.4972555243951,
          739.5074254872583,
          743.1887741299859,
          741.3500251714377,
          737.0331775854875,
          746.509155234162,
          769.6783252328407,
          792.3320765534324,
          818.2622613956177
         ],
         "yaxis": "y"
        }
       ],
       "layout": {
        "legend": {
         "title": {
          "text": "행정동명"
         },
         "tracegroupgap": 0
        },
        "margin": {
         "t": 60
        },
        "template": {
         "data": {
          "bar": [
           {
            "error_x": {
             "color": "#2a3f5f"
            },
            "error_y": {
             "color": "#2a3f5f"
            },
            "marker": {
             "line": {
              "color": "#E5ECF6",
              "width": 0.5
             },
             "pattern": {
              "fillmode": "overlay",
              "size": 10,
              "solidity": 0.2
             }
            },
            "type": "bar"
           }
          ],
          "barpolar": [
           {
            "marker": {
             "line": {
              "color": "#E5ECF6",
              "width": 0.5
             },
             "pattern": {
              "fillmode": "overlay",
              "size": 10,
              "solidity": 0.2
             }
            },
            "type": "barpolar"
           }
          ],
          "carpet": [
           {
            "aaxis": {
             "endlinecolor": "#2a3f5f",
             "gridcolor": "white",
             "linecolor": "white",
             "minorgridcolor": "white",
             "startlinecolor": "#2a3f5f"
            },
            "baxis": {
             "endlinecolor": "#2a3f5f",
             "gridcolor": "white",
             "linecolor": "white",
             "minorgridcolor": "white",
             "startlinecolor": "#2a3f5f"
            },
            "type": "carpet"
           }
          ],
          "choropleth": [
           {
            "colorbar": {
             "outlinewidth": 0,
             "ticks": ""
            },
            "type": "choropleth"
           }
          ],
          "contour": [
           {
            "colorbar": {
             "outlinewidth": 0,
             "ticks": ""
            },
            "colorscale": [
             [
              0,
              "#0d0887"
             ],
             [
              0.1111111111111111,
              "#46039f"
             ],
             [
              0.2222222222222222,
              "#7201a8"
             ],
             [
              0.3333333333333333,
              "#9c179e"
             ],
             [
              0.4444444444444444,
              "#bd3786"
             ],
             [
              0.5555555555555556,
              "#d8576b"
             ],
             [
              0.6666666666666666,
              "#ed7953"
             ],
             [
              0.7777777777777778,
              "#fb9f3a"
             ],
             [
              0.8888888888888888,
              "#fdca26"
             ],
             [
              1,
              "#f0f921"
             ]
            ],
            "type": "contour"
           }
          ],
          "contourcarpet": [
           {
            "colorbar": {
             "outlinewidth": 0,
             "ticks": ""
            },
            "type": "contourcarpet"
           }
          ],
          "heatmap": [
           {
            "colorbar": {
             "outlinewidth": 0,
             "ticks": ""
            },
            "colorscale": [
             [
              0,
              "#0d0887"
             ],
             [
              0.1111111111111111,
              "#46039f"
             ],
             [
              0.2222222222222222,
              "#7201a8"
             ],
             [
              0.3333333333333333,
              "#9c179e"
             ],
             [
              0.4444444444444444,
              "#bd3786"
             ],
             [
              0.5555555555555556,
              "#d8576b"
             ],
             [
              0.6666666666666666,
              "#ed7953"
             ],
             [
              0.7777777777777778,
              "#fb9f3a"
             ],
             [
              0.8888888888888888,
              "#fdca26"
             ],
             [
              1,
              "#f0f921"
             ]
            ],
            "type": "heatmap"
           }
          ],
          "heatmapgl": [
           {
            "colorbar": {
             "outlinewidth": 0,
             "ticks": ""
            },
            "colorscale": [
             [
              0,
              "#0d0887"
             ],
             [
              0.1111111111111111,
              "#46039f"
             ],
             [
              0.2222222222222222,
              "#7201a8"
             ],
             [
              0.3333333333333333,
              "#9c179e"
             ],
             [
              0.4444444444444444,
              "#bd3786"
             ],
             [
              0.5555555555555556,
              "#d8576b"
             ],
             [
              0.6666666666666666,
              "#ed7953"
             ],
             [
              0.7777777777777778,
              "#fb9f3a"
             ],
             [
              0.8888888888888888,
              "#fdca26"
             ],
             [
              1,
              "#f0f921"
             ]
            ],
            "type": "heatmapgl"
           }
          ],
          "histogram": [
           {
            "marker": {
             "pattern": {
              "fillmode": "overlay",
              "size": 10,
              "solidity": 0.2
             }
            },
            "type": "histogram"
           }
          ],
          "histogram2d": [
           {
            "colorbar": {
             "outlinewidth": 0,
             "ticks": ""
            },
            "colorscale": [
             [
              0,
              "#0d0887"
             ],
             [
              0.1111111111111111,
              "#46039f"
             ],
             [
              0.2222222222222222,
              "#7201a8"
             ],
             [
              0.3333333333333333,
              "#9c179e"
             ],
             [
              0.4444444444444444,
              "#bd3786"
             ],
             [
              0.5555555555555556,
              "#d8576b"
             ],
             [
              0.6666666666666666,
              "#ed7953"
             ],
             [
              0.7777777777777778,
              "#fb9f3a"
             ],
             [
              0.8888888888888888,
              "#fdca26"
             ],
             [
              1,
              "#f0f921"
             ]
            ],
            "type": "histogram2d"
           }
          ],
          "histogram2dcontour": [
           {
            "colorbar": {
             "outlinewidth": 0,
             "ticks": ""
            },
            "colorscale": [
             [
              0,
              "#0d0887"
             ],
             [
              0.1111111111111111,
              "#46039f"
             ],
             [
              0.2222222222222222,
              "#7201a8"
             ],
             [
              0.3333333333333333,
              "#9c179e"
             ],
             [
              0.4444444444444444,
              "#bd3786"
             ],
             [
              0.5555555555555556,
              "#d8576b"
             ],
             [
              0.6666666666666666,
              "#ed7953"
             ],
             [
              0.7777777777777778,
              "#fb9f3a"
             ],
             [
              0.8888888888888888,
              "#fdca26"
             ],
             [
              1,
              "#f0f921"
             ]
            ],
            "type": "histogram2dcontour"
           }
          ],
          "mesh3d": [
           {
            "colorbar": {
             "outlinewidth": 0,
             "ticks": ""
            },
            "type": "mesh3d"
           }
          ],
          "parcoords": [
           {
            "line": {
             "colorbar": {
              "outlinewidth": 0,
              "ticks": ""
             }
            },
            "type": "parcoords"
           }
          ],
          "pie": [
           {
            "automargin": true,
            "type": "pie"
           }
          ],
          "scatter": [
           {
            "marker": {
             "colorbar": {
              "outlinewidth": 0,
              "ticks": ""
             }
            },
            "type": "scatter"
           }
          ],
          "scatter3d": [
           {
            "line": {
             "colorbar": {
              "outlinewidth": 0,
              "ticks": ""
             }
            },
            "marker": {
             "colorbar": {
              "outlinewidth": 0,
              "ticks": ""
             }
            },
            "type": "scatter3d"
           }
          ],
          "scattercarpet": [
           {
            "marker": {
             "colorbar": {
              "outlinewidth": 0,
              "ticks": ""
             }
            },
            "type": "scattercarpet"
           }
          ],
          "scattergeo": [
           {
            "marker": {
             "colorbar": {
              "outlinewidth": 0,
              "ticks": ""
             }
            },
            "type": "scattergeo"
           }
          ],
          "scattergl": [
           {
            "marker": {
             "colorbar": {
              "outlinewidth": 0,
              "ticks": ""
             }
            },
            "type": "scattergl"
           }
          ],
          "scattermapbox": [
           {
            "marker": {
             "colorbar": {
              "outlinewidth": 0,
              "ticks": ""
             }
            },
            "type": "scattermapbox"
           }
          ],
          "scatterpolar": [
           {
            "marker": {
             "colorbar": {
              "outlinewidth": 0,
              "ticks": ""
             }
            },
            "type": "scatterpolar"
           }
          ],
          "scatterpolargl": [
           {
            "marker": {
             "colorbar": {
              "outlinewidth": 0,
              "ticks": ""
             }
            },
            "type": "scatterpolargl"
           }
          ],
          "scatterternary": [
           {
            "marker": {
             "colorbar": {
              "outlinewidth": 0,
              "ticks": ""
             }
            },
            "type": "scatterternary"
           }
          ],
          "surface": [
           {
            "colorbar": {
             "outlinewidth": 0,
             "ticks": ""
            },
            "colorscale": [
             [
              0,
              "#0d0887"
             ],
             [
              0.1111111111111111,
              "#46039f"
             ],
             [
              0.2222222222222222,
              "#7201a8"
             ],
             [
              0.3333333333333333,
              "#9c179e"
             ],
             [
              0.4444444444444444,
              "#bd3786"
             ],
             [
              0.5555555555555556,
              "#d8576b"
             ],
             [
              0.6666666666666666,
              "#ed7953"
             ],
             [
              0.7777777777777778,
              "#fb9f3a"
             ],
             [
              0.8888888888888888,
              "#fdca26"
             ],
             [
              1,
              "#f0f921"
             ]
            ],
            "type": "surface"
           }
          ],
          "table": [
           {
            "cells": {
             "fill": {
              "color": "#EBF0F8"
             },
             "line": {
              "color": "white"
             }
            },
            "header": {
             "fill": {
              "color": "#C8D4E3"
             },
             "line": {
              "color": "white"
             }
            },
            "type": "table"
           }
          ]
         },
         "layout": {
          "annotationdefaults": {
           "arrowcolor": "#2a3f5f",
           "arrowhead": 0,
           "arrowwidth": 1
          },
          "autotypenumbers": "strict",
          "coloraxis": {
           "colorbar": {
            "outlinewidth": 0,
            "ticks": ""
           }
          },
          "colorscale": {
           "diverging": [
            [
             0,
             "#8e0152"
            ],
            [
             0.1,
             "#c51b7d"
            ],
            [
             0.2,
             "#de77ae"
            ],
            [
             0.3,
             "#f1b6da"
            ],
            [
             0.4,
             "#fde0ef"
            ],
            [
             0.5,
             "#f7f7f7"
            ],
            [
             0.6,
             "#e6f5d0"
            ],
            [
             0.7,
             "#b8e186"
            ],
            [
             0.8,
             "#7fbc41"
            ],
            [
             0.9,
             "#4d9221"
            ],
            [
             1,
             "#276419"
            ]
           ],
           "sequential": [
            [
             0,
             "#0d0887"
            ],
            [
             0.1111111111111111,
             "#46039f"
            ],
            [
             0.2222222222222222,
             "#7201a8"
            ],
            [
             0.3333333333333333,
             "#9c179e"
            ],
            [
             0.4444444444444444,
             "#bd3786"
            ],
            [
             0.5555555555555556,
             "#d8576b"
            ],
            [
             0.6666666666666666,
             "#ed7953"
            ],
            [
             0.7777777777777778,
             "#fb9f3a"
            ],
            [
             0.8888888888888888,
             "#fdca26"
            ],
            [
             1,
             "#f0f921"
            ]
           ],
           "sequentialminus": [
            [
             0,
             "#0d0887"
            ],
            [
             0.1111111111111111,
             "#46039f"
            ],
            [
             0.2222222222222222,
             "#7201a8"
            ],
            [
             0.3333333333333333,
             "#9c179e"
            ],
            [
             0.4444444444444444,
             "#bd3786"
            ],
            [
             0.5555555555555556,
             "#d8576b"
            ],
            [
             0.6666666666666666,
             "#ed7953"
            ],
            [
             0.7777777777777778,
             "#fb9f3a"
            ],
            [
             0.8888888888888888,
             "#fdca26"
            ],
            [
             1,
             "#f0f921"
            ]
           ]
          },
          "colorway": [
           "#636efa",
           "#EF553B",
           "#00cc96",
           "#ab63fa",
           "#FFA15A",
           "#19d3f3",
           "#FF6692",
           "#B6E880",
           "#FF97FF",
           "#FECB52"
          ],
          "font": {
           "color": "#2a3f5f"
          },
          "geo": {
           "bgcolor": "white",
           "lakecolor": "white",
           "landcolor": "#E5ECF6",
           "showlakes": true,
           "showland": true,
           "subunitcolor": "white"
          },
          "hoverlabel": {
           "align": "left"
          },
          "hovermode": "closest",
          "mapbox": {
           "style": "light"
          },
          "paper_bgcolor": "white",
          "plot_bgcolor": "#E5ECF6",
          "polar": {
           "angularaxis": {
            "gridcolor": "white",
            "linecolor": "white",
            "ticks": ""
           },
           "bgcolor": "#E5ECF6",
           "radialaxis": {
            "gridcolor": "white",
            "linecolor": "white",
            "ticks": ""
           }
          },
          "scene": {
           "xaxis": {
            "backgroundcolor": "#E5ECF6",
            "gridcolor": "white",
            "gridwidth": 2,
            "linecolor": "white",
            "showbackground": true,
            "ticks": "",
            "zerolinecolor": "white"
           },
           "yaxis": {
            "backgroundcolor": "#E5ECF6",
            "gridcolor": "white",
            "gridwidth": 2,
            "linecolor": "white",
            "showbackground": true,
            "ticks": "",
            "zerolinecolor": "white"
           },
           "zaxis": {
            "backgroundcolor": "#E5ECF6",
            "gridcolor": "white",
            "gridwidth": 2,
            "linecolor": "white",
            "showbackground": true,
            "ticks": "",
            "zerolinecolor": "white"
           }
          },
          "shapedefaults": {
           "line": {
            "color": "#2a3f5f"
           }
          },
          "ternary": {
           "aaxis": {
            "gridcolor": "white",
            "linecolor": "white",
            "ticks": ""
           },
           "baxis": {
            "gridcolor": "white",
            "linecolor": "white",
            "ticks": ""
           },
           "bgcolor": "#E5ECF6",
           "caxis": {
            "gridcolor": "white",
            "linecolor": "white",
            "ticks": ""
           }
          },
          "title": {
           "x": 0.05
          },
          "xaxis": {
           "automargin": true,
           "gridcolor": "white",
           "linecolor": "white",
           "ticks": "",
           "title": {
            "standoff": 15
           },
           "zerolinecolor": "white",
           "zerolinewidth": 2
          },
          "yaxis": {
           "automargin": true,
           "gridcolor": "white",
           "linecolor": "white",
           "ticks": "",
           "title": {
            "standoff": 15
           },
           "zerolinecolor": "white",
           "zerolinewidth": 2
          }
         }
        },
        "xaxis": {
         "anchor": "y",
         "domain": [
          0,
          1
         ],
         "title": {
          "text": "월"
         }
        },
        "yaxis": {
         "anchor": "x",
         "domain": [
          0,
          1
         ],
         "title": {
          "text": "총생활인구수"
         }
        }
       }
      }
     },
     "metadata": {},
     "output_type": "display_data"
    }
   ],
   "source": [
    "fig = px.scatter(sub_query,\r\n",
    "                x='월', y='총생활인구수',# size=\"공실률\",\r\n",
    "                color='행정동명',trendline=\"lowess\"#,# hover_name='country',\r\n",
    "                 )\r\n",
    "fig.show()"
   ]
  },
  {
   "cell_type": "code",
   "execution_count": null,
   "metadata": {},
   "outputs": [],
   "source": [
    "subset_ds1 = ds.query('지역== \"서울\"')"
   ]
  },
  {
   "cell_type": "code",
   "execution_count": null,
   "metadata": {},
   "outputs": [
    {
     "data": {
      "text/html": [
       "<div>\n",
       "<style scoped>\n",
       "    .dataframe tbody tr th:only-of-type {\n",
       "        vertical-align: middle;\n",
       "    }\n",
       "\n",
       "    .dataframe tbody tr th {\n",
       "        vertical-align: top;\n",
       "    }\n",
       "\n",
       "    .dataframe thead th {\n",
       "        text-align: right;\n",
       "    }\n",
       "</style>\n",
       "<table border=\"1\" class=\"dataframe\">\n",
       "  <thead>\n",
       "    <tr style=\"text-align: right;\">\n",
       "      <th></th>\n",
       "      <th>지역</th>\n",
       "      <th>지역분류</th>\n",
       "      <th>도심</th>\n",
       "      <th>년도</th>\n",
       "      <th>분기</th>\n",
       "      <th>공실률</th>\n",
       "      <th>임대료</th>\n",
       "      <th>순영업소득</th>\n",
       "    </tr>\n",
       "  </thead>\n",
       "  <tbody>\n",
       "    <tr>\n",
       "      <th>731</th>\n",
       "      <td>부산</td>\n",
       "      <td>부산지역</td>\n",
       "      <td>현대백화점주변</td>\n",
       "      <td>2017</td>\n",
       "      <td>1</td>\n",
       "      <td>0.0</td>\n",
       "      <td>89759</td>\n",
       "      <td>208890</td>\n",
       "    </tr>\n",
       "    <tr>\n",
       "      <th>732</th>\n",
       "      <td>부산</td>\n",
       "      <td>부산지역</td>\n",
       "      <td>현대백화점주변</td>\n",
       "      <td>2017</td>\n",
       "      <td>2</td>\n",
       "      <td>0.0</td>\n",
       "      <td>89759</td>\n",
       "      <td>209549</td>\n",
       "    </tr>\n",
       "    <tr>\n",
       "      <th>733</th>\n",
       "      <td>부산</td>\n",
       "      <td>부산지역</td>\n",
       "      <td>현대백화점주변</td>\n",
       "      <td>2017</td>\n",
       "      <td>3</td>\n",
       "      <td>0.0</td>\n",
       "      <td>91410</td>\n",
       "      <td>174570</td>\n",
       "    </tr>\n",
       "    <tr>\n",
       "      <th>734</th>\n",
       "      <td>부산</td>\n",
       "      <td>부산지역</td>\n",
       "      <td>현대백화점주변</td>\n",
       "      <td>2017</td>\n",
       "      <td>4</td>\n",
       "      <td>0.0</td>\n",
       "      <td>91410</td>\n",
       "      <td>210540</td>\n",
       "    </tr>\n",
       "    <tr>\n",
       "      <th>735</th>\n",
       "      <td>부산</td>\n",
       "      <td>부산지역</td>\n",
       "      <td>현대백화점주변</td>\n",
       "      <td>2018</td>\n",
       "      <td>1</td>\n",
       "      <td>0.0</td>\n",
       "      <td>91410</td>\n",
       "      <td>195030</td>\n",
       "    </tr>\n",
       "    <tr>\n",
       "      <th>736</th>\n",
       "      <td>부산</td>\n",
       "      <td>부산지역</td>\n",
       "      <td>현대백화점주변</td>\n",
       "      <td>2018</td>\n",
       "      <td>2</td>\n",
       "      <td>0.0</td>\n",
       "      <td>91080</td>\n",
       "      <td>199980</td>\n",
       "    </tr>\n",
       "    <tr>\n",
       "      <th>737</th>\n",
       "      <td>부산</td>\n",
       "      <td>부산지역</td>\n",
       "      <td>현대백화점주변</td>\n",
       "      <td>2018</td>\n",
       "      <td>3</td>\n",
       "      <td>0.0</td>\n",
       "      <td>91080</td>\n",
       "      <td>169950</td>\n",
       "    </tr>\n",
       "    <tr>\n",
       "      <th>738</th>\n",
       "      <td>부산</td>\n",
       "      <td>부산지역</td>\n",
       "      <td>현대백화점주변</td>\n",
       "      <td>2018</td>\n",
       "      <td>4</td>\n",
       "      <td>0.0</td>\n",
       "      <td>90750</td>\n",
       "      <td>201960</td>\n",
       "    </tr>\n",
       "    <tr>\n",
       "      <th>739</th>\n",
       "      <td>부산</td>\n",
       "      <td>부산지역</td>\n",
       "      <td>현대백화점주변</td>\n",
       "      <td>2019</td>\n",
       "      <td>1</td>\n",
       "      <td>0.0</td>\n",
       "      <td>59730</td>\n",
       "      <td>119460</td>\n",
       "    </tr>\n",
       "    <tr>\n",
       "      <th>740</th>\n",
       "      <td>부산</td>\n",
       "      <td>부산지역</td>\n",
       "      <td>현대백화점주변</td>\n",
       "      <td>2019</td>\n",
       "      <td>2</td>\n",
       "      <td>0.0</td>\n",
       "      <td>59730</td>\n",
       "      <td>119460</td>\n",
       "    </tr>\n",
       "    <tr>\n",
       "      <th>741</th>\n",
       "      <td>부산</td>\n",
       "      <td>부산지역</td>\n",
       "      <td>현대백화점주변</td>\n",
       "      <td>2019</td>\n",
       "      <td>3</td>\n",
       "      <td>0.0</td>\n",
       "      <td>59400</td>\n",
       "      <td>90090</td>\n",
       "    </tr>\n",
       "    <tr>\n",
       "      <th>742</th>\n",
       "      <td>부산</td>\n",
       "      <td>부산지역</td>\n",
       "      <td>현대백화점주변</td>\n",
       "      <td>2019</td>\n",
       "      <td>4</td>\n",
       "      <td>0.0</td>\n",
       "      <td>59400</td>\n",
       "      <td>118800</td>\n",
       "    </tr>\n",
       "    <tr>\n",
       "      <th>743</th>\n",
       "      <td>부산</td>\n",
       "      <td>부산지역</td>\n",
       "      <td>현대백화점주변</td>\n",
       "      <td>2020</td>\n",
       "      <td>1</td>\n",
       "      <td>3.7</td>\n",
       "      <td>55769</td>\n",
       "      <td>142890</td>\n",
       "    </tr>\n",
       "    <tr>\n",
       "      <th>744</th>\n",
       "      <td>부산</td>\n",
       "      <td>부산지역</td>\n",
       "      <td>현대백화점주변</td>\n",
       "      <td>2020</td>\n",
       "      <td>2</td>\n",
       "      <td>3.7</td>\n",
       "      <td>56430</td>\n",
       "      <td>142560</td>\n",
       "    </tr>\n",
       "    <tr>\n",
       "      <th>745</th>\n",
       "      <td>부산</td>\n",
       "      <td>부산지역</td>\n",
       "      <td>현대백화점주변</td>\n",
       "      <td>2020</td>\n",
       "      <td>3</td>\n",
       "      <td>3.7</td>\n",
       "      <td>56430</td>\n",
       "      <td>89430</td>\n",
       "    </tr>\n",
       "    <tr>\n",
       "      <th>746</th>\n",
       "      <td>부산</td>\n",
       "      <td>부산지역</td>\n",
       "      <td>현대백화점주변</td>\n",
       "      <td>2020</td>\n",
       "      <td>4</td>\n",
       "      <td>3.7</td>\n",
       "      <td>56430</td>\n",
       "      <td>138930</td>\n",
       "    </tr>\n",
       "    <tr>\n",
       "      <th>747</th>\n",
       "      <td>부산</td>\n",
       "      <td>부산지역</td>\n",
       "      <td>현대백화점주변</td>\n",
       "      <td>2021</td>\n",
       "      <td>1</td>\n",
       "      <td>2.4</td>\n",
       "      <td>66330</td>\n",
       "      <td>130680</td>\n",
       "    </tr>\n",
       "  </tbody>\n",
       "</table>\n",
       "</div>"
      ],
      "text/plain": [
       "     지역  지역분류       도심    년도  분기  공실률    임대료   순영업소득\n",
       "731  부산  부산지역  현대백화점주변  2017   1  0.0  89759  208890\n",
       "732  부산  부산지역  현대백화점주변  2017   2  0.0  89759  209549\n",
       "733  부산  부산지역  현대백화점주변  2017   3  0.0  91410  174570\n",
       "734  부산  부산지역  현대백화점주변  2017   4  0.0  91410  210540\n",
       "735  부산  부산지역  현대백화점주변  2018   1  0.0  91410  195030\n",
       "736  부산  부산지역  현대백화점주변  2018   2  0.0  91080  199980\n",
       "737  부산  부산지역  현대백화점주변  2018   3  0.0  91080  169950\n",
       "738  부산  부산지역  현대백화점주변  2018   4  0.0  90750  201960\n",
       "739  부산  부산지역  현대백화점주변  2019   1  0.0  59730  119460\n",
       "740  부산  부산지역  현대백화점주변  2019   2  0.0  59730  119460\n",
       "741  부산  부산지역  현대백화점주변  2019   3  0.0  59400   90090\n",
       "742  부산  부산지역  현대백화점주변  2019   4  0.0  59400  118800\n",
       "743  부산  부산지역  현대백화점주변  2020   1  3.7  55769  142890\n",
       "744  부산  부산지역  현대백화점주변  2020   2  3.7  56430  142560\n",
       "745  부산  부산지역  현대백화점주변  2020   3  3.7  56430   89430\n",
       "746  부산  부산지역  현대백화점주변  2020   4  3.7  56430  138930\n",
       "747  부산  부산지역  현대백화점주변  2021   1  2.4  66330  130680"
      ]
     },
     "execution_count": 100,
     "metadata": {},
     "output_type": "execute_result"
    }
   ],
   "source": [
    "subset_ds1"
   ]
  },
  {
   "cell_type": "code",
   "execution_count": null,
   "metadata": {},
   "outputs": [
    {
     "data": {
      "application/vnd.plotly.v1+json": {
       "config": {
        "plotlyServerURL": "https://plot.ly"
       },
       "data": [
        {
         "alignmentgroup": "True",
         "bingroup": "x",
         "histfunc": "sum",
         "hovertemplate": "년도=2017<br>분기=%{x}<br>sum of 임대료=%{y}<extra></extra>",
         "legendgroup": "2017",
         "marker": {
          "color": "#636efa",
          "pattern": {
           "shape": ""
          }
         },
         "name": "2017",
         "offsetgroup": "2017",
         "orientation": "v",
         "showlegend": true,
         "type": "histogram",
         "x": [
          1,
          2,
          3,
          4,
          1,
          2,
          3,
          4,
          1,
          2,
          3,
          4,
          1,
          2,
          3,
          4,
          1,
          2,
          3,
          4,
          1,
          2,
          3,
          4,
          1,
          2,
          3,
          4,
          1,
          2,
          3,
          4,
          1,
          2,
          3,
          4,
          1,
          2,
          3,
          4,
          1,
          2,
          3,
          4,
          1,
          2,
          3,
          4,
          1,
          2,
          3,
          4,
          1,
          2,
          3,
          4,
          1,
          2,
          3,
          4,
          1,
          2,
          3,
          4,
          1,
          2,
          3,
          4,
          1,
          2,
          3,
          4,
          1,
          2,
          3,
          4,
          1,
          2,
          3,
          4,
          1,
          2,
          3,
          4,
          1,
          2,
          3,
          4,
          1,
          2,
          3,
          4,
          1,
          2,
          3,
          4,
          1,
          2,
          3,
          4,
          1,
          2,
          3,
          4,
          1,
          2,
          3,
          4,
          1,
          2,
          3,
          4,
          1,
          2,
          3,
          4,
          1,
          2,
          3,
          4,
          1,
          2,
          3,
          4
         ],
         "xaxis": "x",
         "y": [
          217470,
          217470,
          217140,
          217799,
          800579,
          797280,
          797280,
          794640,
          225390,
          226049,
          226049,
          227370,
          185460,
          185790,
          185790,
          186119,
          203939,
          203939,
          203939,
          206250,
          145530,
          145530,
          145530,
          145530,
          172589,
          168960,
          168960,
          168960,
          192390,
          191730,
          191730,
          191730,
          239250,
          236939,
          236939,
          236939,
          212520,
          220109,
          220109,
          220109,
          145200,
          145200,
          145200,
          145200,
          140910,
          140910,
          140910,
          140910,
          107580,
          107580,
          107910,
          107910,
          104940,
          104940,
          104940,
          106260,
          87780,
          87780,
          87780,
          87780,
          106589,
          106589,
          106589,
          106919,
          198660,
          201299,
          201299,
          201299,
          283470,
          283470,
          283470,
          283470,
          183149,
          183149,
          183149,
          183149,
          138269,
          138269,
          138269,
          138269,
          416460,
          416460,
          407879,
          407879,
          128369,
          128369,
          128369,
          128699,
          149160,
          149160,
          149160,
          149489,
          104940,
          105600,
          105929,
          106260,
          145860,
          145860,
          145860,
          145860,
          117810,
          117810,
          117810,
          117810,
          106589,
          107580,
          108570,
          108570,
          259709,
          259709,
          259709,
          259709,
          83160,
          83160,
          83160,
          83160,
          92730,
          93059,
          92730,
          93059,
          105270,
          105270,
          105270,
          105270
         ],
         "yaxis": "y"
        },
        {
         "alignmentgroup": "True",
         "bingroup": "x",
         "histfunc": "sum",
         "hovertemplate": "년도=2018<br>분기=%{x}<br>sum of 임대료=%{y}<extra></extra>",
         "legendgroup": "2018",
         "marker": {
          "color": "#EF553B",
          "pattern": {
           "shape": ""
          }
         },
         "name": "2018",
         "offsetgroup": "2018",
         "orientation": "v",
         "showlegend": true,
         "type": "histogram",
         "x": [
          1,
          2,
          3,
          4,
          1,
          2,
          3,
          4,
          1,
          2,
          3,
          4,
          1,
          2,
          3,
          4,
          1,
          2,
          3,
          4,
          1,
          2,
          3,
          4,
          1,
          2,
          3,
          4,
          1,
          2,
          3,
          4,
          1,
          2,
          3,
          4,
          1,
          2,
          3,
          4,
          1,
          2,
          3,
          4,
          1,
          2,
          3,
          4,
          1,
          2,
          3,
          4,
          1,
          2,
          3,
          4,
          1,
          2,
          3,
          4,
          1,
          2,
          3,
          4,
          1,
          2,
          3,
          4,
          1,
          2,
          3,
          4,
          1,
          2,
          3,
          4,
          1,
          2,
          3,
          4,
          1,
          2,
          3,
          4,
          1,
          2,
          3,
          4,
          1,
          2,
          3,
          4,
          1,
          2,
          3,
          4,
          1,
          2,
          3,
          4,
          1,
          2,
          3,
          4,
          1,
          2,
          3,
          4,
          1,
          2,
          3,
          4,
          1,
          2,
          3,
          4,
          1,
          2,
          3,
          4,
          1,
          2,
          3,
          4
         ],
         "xaxis": "x",
         "y": [
          218129,
          220439,
          221100,
          223079,
          794640,
          794640,
          794640,
          793979,
          228359,
          228689,
          231329,
          231329,
          192060,
          191399,
          191730,
          191730,
          206250,
          205920,
          205589,
          205260,
          145530,
          144869,
          144869,
          144869,
          175890,
          175890,
          175890,
          176220,
          224399,
          231989,
          231989,
          231989,
          236939,
          235620,
          235950,
          235620,
          220109,
          213510,
          215489,
          215489,
          145530,
          140910,
          140910,
          141239,
          140910,
          140910,
          140910,
          140910,
          107580,
          105929,
          106919,
          107580,
          106260,
          101640,
          101640,
          101640,
          87780,
          87780,
          87780,
          87780,
          106919,
          107580,
          107910,
          107910,
          201299,
          200969,
          200969,
          200969,
          283470,
          285780,
          289409,
          290400,
          184799,
          183149,
          182820,
          182820,
          139589,
          139920,
          141570,
          141570,
          412170,
          412170,
          409860,
          405570,
          132660,
          133650,
          133650,
          132660,
          151140,
          152460,
          152460,
          152460,
          108570,
          109230,
          110219,
          110550,
          146519,
          146519,
          165000,
          165989,
          117810,
          118139,
          117480,
          117480,
          108239,
          108899,
          108899,
          109230,
          247829,
          247829,
          246839,
          245520,
          83160,
          83820,
          83820,
          83490,
          89759,
          89759,
          88440,
          88110,
          104609,
          105270,
          105929,
          105600
         ],
         "yaxis": "y"
        },
        {
         "alignmentgroup": "True",
         "bingroup": "x",
         "histfunc": "sum",
         "hovertemplate": "년도=2019<br>분기=%{x}<br>sum of 임대료=%{y}<extra></extra>",
         "legendgroup": "2019",
         "marker": {
          "color": "#00cc96",
          "pattern": {
           "shape": ""
          }
         },
         "name": "2019",
         "offsetgroup": "2019",
         "orientation": "v",
         "showlegend": true,
         "type": "histogram",
         "x": [
          1,
          2,
          3,
          4,
          1,
          2,
          3,
          4,
          1,
          2,
          3,
          4,
          1,
          2,
          3,
          4,
          1,
          2,
          3,
          4,
          1,
          2,
          3,
          4,
          1,
          2,
          3,
          4,
          1,
          2,
          3,
          4,
          1,
          2,
          3,
          4,
          1,
          2,
          3,
          4,
          1,
          2,
          3,
          4,
          1,
          2,
          3,
          4,
          1,
          2,
          3,
          4,
          1,
          2,
          3,
          4,
          1,
          2,
          3,
          4,
          1,
          2,
          3,
          4,
          1,
          2,
          3,
          4,
          1,
          2,
          3,
          4,
          1,
          2,
          3,
          4,
          1,
          2,
          3,
          4,
          1,
          2,
          3,
          4,
          1,
          2,
          3,
          4,
          1,
          2,
          3,
          4,
          1,
          2,
          3,
          4,
          1,
          2,
          3,
          4,
          1,
          2,
          3,
          4,
          1,
          2,
          3,
          4,
          1,
          2,
          3,
          4,
          1,
          2,
          3,
          4,
          1,
          2,
          3,
          4,
          1,
          2,
          3,
          4
         ],
         "xaxis": "x",
         "y": [
          313500,
          313500,
          313500,
          313830,
          145860,
          145530,
          145530,
          145200,
          864930,
          864930,
          864930,
          864599,
          245850,
          246510,
          248489,
          248820,
          160710,
          160710,
          160049,
          161369,
          325710,
          325710,
          325710,
          326700,
          168960,
          168960,
          168960,
          168630,
          152130,
          152130,
          152130,
          152130,
          273239,
          273239,
          273570,
          273570,
          122429,
          126389,
          126389,
          127380,
          211859,
          211859,
          211859,
          209880,
          207570,
          207570,
          207570,
          208560,
          180839,
          186780,
          188760,
          188760,
          173910,
          173910,
          174239,
          175890,
          127710,
          128039,
          128039,
          128039,
          101640,
          102630,
          102630,
          102630,
          87780,
          87780,
          87449,
          87449,
          113850,
          113850,
          113850,
          113850,
          186450,
          186450,
          186450,
          186450,
          288750,
          288750,
          288750,
          288750,
          177540,
          178530,
          178530,
          178530,
          123750,
          123089,
          123089,
          122760,
          178200,
          178200,
          178200,
          182820,
          152130,
          152460,
          151470,
          151799,
          145530,
          144540,
          143549,
          140579,
          222420,
          222420,
          222420,
          222420,
          121439,
          121439,
          121439,
          103949,
          160710,
          164670,
          164670,
          166980,
          109889,
          109889,
          109889,
          109560,
          225390,
          225390,
          225390,
          225390,
          83160,
          83160,
          83160,
          83160
         ],
         "yaxis": "y"
        },
        {
         "alignmentgroup": "True",
         "bingroup": "x",
         "histfunc": "sum",
         "hovertemplate": "년도=2020<br>분기=%{x}<br>sum of 임대료=%{y}<extra></extra>",
         "legendgroup": "2020",
         "marker": {
          "color": "#ab63fa",
          "pattern": {
           "shape": ""
          }
         },
         "name": "2020",
         "offsetgroup": "2020",
         "orientation": "v",
         "showlegend": true,
         "type": "histogram",
         "x": [
          1,
          2,
          3,
          4,
          1,
          2,
          3,
          4,
          1,
          2,
          3,
          4,
          1,
          2,
          3,
          4,
          1,
          2,
          3,
          4,
          1,
          2,
          3,
          4,
          1,
          2,
          3,
          4,
          1,
          2,
          3,
          4,
          1,
          2,
          3,
          4,
          1,
          2,
          3,
          4,
          1,
          2,
          3,
          4,
          1,
          2,
          3,
          4,
          1,
          2,
          3,
          4,
          1,
          2,
          3,
          4,
          1,
          2,
          3,
          4,
          1,
          2,
          3,
          4,
          1,
          2,
          3,
          4,
          1,
          2,
          3,
          4,
          1,
          2,
          3,
          4,
          1,
          2,
          3,
          4,
          1,
          2,
          3,
          4,
          1,
          2,
          3,
          4,
          1,
          2,
          3,
          4,
          1,
          2,
          3,
          4,
          1,
          2,
          3,
          4,
          1,
          2,
          3,
          4,
          1,
          2,
          3,
          4,
          1,
          2,
          3,
          4,
          1,
          2,
          3,
          4,
          1,
          2,
          3,
          4,
          1,
          2,
          3,
          4
         ],
         "xaxis": "x",
         "y": [
          268289,
          268289,
          268289,
          262019,
          147180,
          146189,
          145200,
          144869,
          714449,
          697949,
          687720,
          646800,
          251129,
          252450,
          243539,
          237600,
          164339,
          164010,
          163680,
          163350,
          318780,
          317460,
          317460,
          316470,
          213839,
          213510,
          213510,
          213510,
          146519,
          146519,
          146519,
          146519,
          256409,
          256079,
          254429,
          254429,
          132000,
          139589,
          138600,
          138600,
          172920,
          172920,
          172920,
          172589,
          216149,
          216149,
          215820,
          211859,
          184799,
          184799,
          184140,
          181500,
          147839,
          147839,
          143549,
          143220,
          88110,
          87780,
          87449,
          85469,
          84149,
          84149,
          84149,
          84149,
          145530,
          145200,
          145200,
          145200,
          273900,
          273900,
          272909,
          271920,
          172260,
          170939,
          168299,
          166980,
          126060,
          125730,
          125399,
          125070,
          239579,
          239579,
          239579,
          238920,
          146519,
          146519,
          145860,
          158070,
          97350,
          97020,
          96360,
          94050,
          125730,
          125730,
          125730,
          114839,
          114510,
          114179,
          114179,
          113520,
          183810,
          183480,
          183480,
          182489,
          85140,
          84809,
          84809,
          84480,
          88770,
          88110,
          87780,
          86460,
          100649,
          100320,
          96690,
          96360,
          68309,
          68309,
          68309,
          67980,
          181170,
          178200,
          178200,
          167640
         ],
         "yaxis": "y"
        },
        {
         "alignmentgroup": "True",
         "bingroup": "x",
         "histfunc": "sum",
         "hovertemplate": "년도=2021<br>분기=%{x}<br>sum of 임대료=%{y}<extra></extra>",
         "legendgroup": "2021",
         "marker": {
          "color": "#FFA15A",
          "pattern": {
           "shape": ""
          }
         },
         "name": "2021",
         "offsetgroup": "2021",
         "orientation": "v",
         "showlegend": true,
         "type": "histogram",
         "x": [
          1,
          1,
          1,
          1,
          1,
          1,
          1,
          1,
          1,
          1,
          1,
          1,
          1,
          1,
          1,
          1,
          1,
          1,
          1,
          1,
          1,
          1,
          1,
          1,
          1,
          1,
          1,
          1,
          1,
          1,
          1
         ],
         "xaxis": "x",
         "y": [
          254760,
          153119,
          570240,
          236279,
          164339,
          316470,
          209219,
          154110,
          254429,
          138600,
          172920,
          220109,
          187439,
          156089,
          158730,
          85140,
          126719,
          111539,
          147180,
          194040,
          164010,
          121110,
          258390,
          156420,
          148829,
          212189,
          110550,
          177210,
          131009,
          181500,
          86789
         ],
         "yaxis": "y"
        }
       ],
       "layout": {
        "barmode": "relative",
        "legend": {
         "title": {
          "text": "년도"
         },
         "tracegroupgap": 0
        },
        "template": {
         "data": {
          "bar": [
           {
            "error_x": {
             "color": "#2a3f5f"
            },
            "error_y": {
             "color": "#2a3f5f"
            },
            "marker": {
             "line": {
              "color": "#E5ECF6",
              "width": 0.5
             },
             "pattern": {
              "fillmode": "overlay",
              "size": 10,
              "solidity": 0.2
             }
            },
            "type": "bar"
           }
          ],
          "barpolar": [
           {
            "marker": {
             "line": {
              "color": "#E5ECF6",
              "width": 0.5
             },
             "pattern": {
              "fillmode": "overlay",
              "size": 10,
              "solidity": 0.2
             }
            },
            "type": "barpolar"
           }
          ],
          "carpet": [
           {
            "aaxis": {
             "endlinecolor": "#2a3f5f",
             "gridcolor": "white",
             "linecolor": "white",
             "minorgridcolor": "white",
             "startlinecolor": "#2a3f5f"
            },
            "baxis": {
             "endlinecolor": "#2a3f5f",
             "gridcolor": "white",
             "linecolor": "white",
             "minorgridcolor": "white",
             "startlinecolor": "#2a3f5f"
            },
            "type": "carpet"
           }
          ],
          "choropleth": [
           {
            "colorbar": {
             "outlinewidth": 0,
             "ticks": ""
            },
            "type": "choropleth"
           }
          ],
          "contour": [
           {
            "colorbar": {
             "outlinewidth": 0,
             "ticks": ""
            },
            "colorscale": [
             [
              0,
              "#0d0887"
             ],
             [
              0.1111111111111111,
              "#46039f"
             ],
             [
              0.2222222222222222,
              "#7201a8"
             ],
             [
              0.3333333333333333,
              "#9c179e"
             ],
             [
              0.4444444444444444,
              "#bd3786"
             ],
             [
              0.5555555555555556,
              "#d8576b"
             ],
             [
              0.6666666666666666,
              "#ed7953"
             ],
             [
              0.7777777777777778,
              "#fb9f3a"
             ],
             [
              0.8888888888888888,
              "#fdca26"
             ],
             [
              1,
              "#f0f921"
             ]
            ],
            "type": "contour"
           }
          ],
          "contourcarpet": [
           {
            "colorbar": {
             "outlinewidth": 0,
             "ticks": ""
            },
            "type": "contourcarpet"
           }
          ],
          "heatmap": [
           {
            "colorbar": {
             "outlinewidth": 0,
             "ticks": ""
            },
            "colorscale": [
             [
              0,
              "#0d0887"
             ],
             [
              0.1111111111111111,
              "#46039f"
             ],
             [
              0.2222222222222222,
              "#7201a8"
             ],
             [
              0.3333333333333333,
              "#9c179e"
             ],
             [
              0.4444444444444444,
              "#bd3786"
             ],
             [
              0.5555555555555556,
              "#d8576b"
             ],
             [
              0.6666666666666666,
              "#ed7953"
             ],
             [
              0.7777777777777778,
              "#fb9f3a"
             ],
             [
              0.8888888888888888,
              "#fdca26"
             ],
             [
              1,
              "#f0f921"
             ]
            ],
            "type": "heatmap"
           }
          ],
          "heatmapgl": [
           {
            "colorbar": {
             "outlinewidth": 0,
             "ticks": ""
            },
            "colorscale": [
             [
              0,
              "#0d0887"
             ],
             [
              0.1111111111111111,
              "#46039f"
             ],
             [
              0.2222222222222222,
              "#7201a8"
             ],
             [
              0.3333333333333333,
              "#9c179e"
             ],
             [
              0.4444444444444444,
              "#bd3786"
             ],
             [
              0.5555555555555556,
              "#d8576b"
             ],
             [
              0.6666666666666666,
              "#ed7953"
             ],
             [
              0.7777777777777778,
              "#fb9f3a"
             ],
             [
              0.8888888888888888,
              "#fdca26"
             ],
             [
              1,
              "#f0f921"
             ]
            ],
            "type": "heatmapgl"
           }
          ],
          "histogram": [
           {
            "marker": {
             "pattern": {
              "fillmode": "overlay",
              "size": 10,
              "solidity": 0.2
             }
            },
            "type": "histogram"
           }
          ],
          "histogram2d": [
           {
            "colorbar": {
             "outlinewidth": 0,
             "ticks": ""
            },
            "colorscale": [
             [
              0,
              "#0d0887"
             ],
             [
              0.1111111111111111,
              "#46039f"
             ],
             [
              0.2222222222222222,
              "#7201a8"
             ],
             [
              0.3333333333333333,
              "#9c179e"
             ],
             [
              0.4444444444444444,
              "#bd3786"
             ],
             [
              0.5555555555555556,
              "#d8576b"
             ],
             [
              0.6666666666666666,
              "#ed7953"
             ],
             [
              0.7777777777777778,
              "#fb9f3a"
             ],
             [
              0.8888888888888888,
              "#fdca26"
             ],
             [
              1,
              "#f0f921"
             ]
            ],
            "type": "histogram2d"
           }
          ],
          "histogram2dcontour": [
           {
            "colorbar": {
             "outlinewidth": 0,
             "ticks": ""
            },
            "colorscale": [
             [
              0,
              "#0d0887"
             ],
             [
              0.1111111111111111,
              "#46039f"
             ],
             [
              0.2222222222222222,
              "#7201a8"
             ],
             [
              0.3333333333333333,
              "#9c179e"
             ],
             [
              0.4444444444444444,
              "#bd3786"
             ],
             [
              0.5555555555555556,
              "#d8576b"
             ],
             [
              0.6666666666666666,
              "#ed7953"
             ],
             [
              0.7777777777777778,
              "#fb9f3a"
             ],
             [
              0.8888888888888888,
              "#fdca26"
             ],
             [
              1,
              "#f0f921"
             ]
            ],
            "type": "histogram2dcontour"
           }
          ],
          "mesh3d": [
           {
            "colorbar": {
             "outlinewidth": 0,
             "ticks": ""
            },
            "type": "mesh3d"
           }
          ],
          "parcoords": [
           {
            "line": {
             "colorbar": {
              "outlinewidth": 0,
              "ticks": ""
             }
            },
            "type": "parcoords"
           }
          ],
          "pie": [
           {
            "automargin": true,
            "type": "pie"
           }
          ],
          "scatter": [
           {
            "marker": {
             "colorbar": {
              "outlinewidth": 0,
              "ticks": ""
             }
            },
            "type": "scatter"
           }
          ],
          "scatter3d": [
           {
            "line": {
             "colorbar": {
              "outlinewidth": 0,
              "ticks": ""
             }
            },
            "marker": {
             "colorbar": {
              "outlinewidth": 0,
              "ticks": ""
             }
            },
            "type": "scatter3d"
           }
          ],
          "scattercarpet": [
           {
            "marker": {
             "colorbar": {
              "outlinewidth": 0,
              "ticks": ""
             }
            },
            "type": "scattercarpet"
           }
          ],
          "scattergeo": [
           {
            "marker": {
             "colorbar": {
              "outlinewidth": 0,
              "ticks": ""
             }
            },
            "type": "scattergeo"
           }
          ],
          "scattergl": [
           {
            "marker": {
             "colorbar": {
              "outlinewidth": 0,
              "ticks": ""
             }
            },
            "type": "scattergl"
           }
          ],
          "scattermapbox": [
           {
            "marker": {
             "colorbar": {
              "outlinewidth": 0,
              "ticks": ""
             }
            },
            "type": "scattermapbox"
           }
          ],
          "scatterpolar": [
           {
            "marker": {
             "colorbar": {
              "outlinewidth": 0,
              "ticks": ""
             }
            },
            "type": "scatterpolar"
           }
          ],
          "scatterpolargl": [
           {
            "marker": {
             "colorbar": {
              "outlinewidth": 0,
              "ticks": ""
             }
            },
            "type": "scatterpolargl"
           }
          ],
          "scatterternary": [
           {
            "marker": {
             "colorbar": {
              "outlinewidth": 0,
              "ticks": ""
             }
            },
            "type": "scatterternary"
           }
          ],
          "surface": [
           {
            "colorbar": {
             "outlinewidth": 0,
             "ticks": ""
            },
            "colorscale": [
             [
              0,
              "#0d0887"
             ],
             [
              0.1111111111111111,
              "#46039f"
             ],
             [
              0.2222222222222222,
              "#7201a8"
             ],
             [
              0.3333333333333333,
              "#9c179e"
             ],
             [
              0.4444444444444444,
              "#bd3786"
             ],
             [
              0.5555555555555556,
              "#d8576b"
             ],
             [
              0.6666666666666666,
              "#ed7953"
             ],
             [
              0.7777777777777778,
              "#fb9f3a"
             ],
             [
              0.8888888888888888,
              "#fdca26"
             ],
             [
              1,
              "#f0f921"
             ]
            ],
            "type": "surface"
           }
          ],
          "table": [
           {
            "cells": {
             "fill": {
              "color": "#EBF0F8"
             },
             "line": {
              "color": "white"
             }
            },
            "header": {
             "fill": {
              "color": "#C8D4E3"
             },
             "line": {
              "color": "white"
             }
            },
            "type": "table"
           }
          ]
         },
         "layout": {
          "annotationdefaults": {
           "arrowcolor": "#2a3f5f",
           "arrowhead": 0,
           "arrowwidth": 1
          },
          "autotypenumbers": "strict",
          "coloraxis": {
           "colorbar": {
            "outlinewidth": 0,
            "ticks": ""
           }
          },
          "colorscale": {
           "diverging": [
            [
             0,
             "#8e0152"
            ],
            [
             0.1,
             "#c51b7d"
            ],
            [
             0.2,
             "#de77ae"
            ],
            [
             0.3,
             "#f1b6da"
            ],
            [
             0.4,
             "#fde0ef"
            ],
            [
             0.5,
             "#f7f7f7"
            ],
            [
             0.6,
             "#e6f5d0"
            ],
            [
             0.7,
             "#b8e186"
            ],
            [
             0.8,
             "#7fbc41"
            ],
            [
             0.9,
             "#4d9221"
            ],
            [
             1,
             "#276419"
            ]
           ],
           "sequential": [
            [
             0,
             "#0d0887"
            ],
            [
             0.1111111111111111,
             "#46039f"
            ],
            [
             0.2222222222222222,
             "#7201a8"
            ],
            [
             0.3333333333333333,
             "#9c179e"
            ],
            [
             0.4444444444444444,
             "#bd3786"
            ],
            [
             0.5555555555555556,
             "#d8576b"
            ],
            [
             0.6666666666666666,
             "#ed7953"
            ],
            [
             0.7777777777777778,
             "#fb9f3a"
            ],
            [
             0.8888888888888888,
             "#fdca26"
            ],
            [
             1,
             "#f0f921"
            ]
           ],
           "sequentialminus": [
            [
             0,
             "#0d0887"
            ],
            [
             0.1111111111111111,
             "#46039f"
            ],
            [
             0.2222222222222222,
             "#7201a8"
            ],
            [
             0.3333333333333333,
             "#9c179e"
            ],
            [
             0.4444444444444444,
             "#bd3786"
            ],
            [
             0.5555555555555556,
             "#d8576b"
            ],
            [
             0.6666666666666666,
             "#ed7953"
            ],
            [
             0.7777777777777778,
             "#fb9f3a"
            ],
            [
             0.8888888888888888,
             "#fdca26"
            ],
            [
             1,
             "#f0f921"
            ]
           ]
          },
          "colorway": [
           "#636efa",
           "#EF553B",
           "#00cc96",
           "#ab63fa",
           "#FFA15A",
           "#19d3f3",
           "#FF6692",
           "#B6E880",
           "#FF97FF",
           "#FECB52"
          ],
          "font": {
           "color": "#2a3f5f"
          },
          "geo": {
           "bgcolor": "white",
           "lakecolor": "white",
           "landcolor": "#E5ECF6",
           "showlakes": true,
           "showland": true,
           "subunitcolor": "white"
          },
          "hoverlabel": {
           "align": "left"
          },
          "hovermode": "closest",
          "mapbox": {
           "style": "light"
          },
          "paper_bgcolor": "white",
          "plot_bgcolor": "#E5ECF6",
          "polar": {
           "angularaxis": {
            "gridcolor": "white",
            "linecolor": "white",
            "ticks": ""
           },
           "bgcolor": "#E5ECF6",
           "radialaxis": {
            "gridcolor": "white",
            "linecolor": "white",
            "ticks": ""
           }
          },
          "scene": {
           "xaxis": {
            "backgroundcolor": "#E5ECF6",
            "gridcolor": "white",
            "gridwidth": 2,
            "linecolor": "white",
            "showbackground": true,
            "ticks": "",
            "zerolinecolor": "white"
           },
           "yaxis": {
            "backgroundcolor": "#E5ECF6",
            "gridcolor": "white",
            "gridwidth": 2,
            "linecolor": "white",
            "showbackground": true,
            "ticks": "",
            "zerolinecolor": "white"
           },
           "zaxis": {
            "backgroundcolor": "#E5ECF6",
            "gridcolor": "white",
            "gridwidth": 2,
            "linecolor": "white",
            "showbackground": true,
            "ticks": "",
            "zerolinecolor": "white"
           }
          },
          "shapedefaults": {
           "line": {
            "color": "#2a3f5f"
           }
          },
          "ternary": {
           "aaxis": {
            "gridcolor": "white",
            "linecolor": "white",
            "ticks": ""
           },
           "baxis": {
            "gridcolor": "white",
            "linecolor": "white",
            "ticks": ""
           },
           "bgcolor": "#E5ECF6",
           "caxis": {
            "gridcolor": "white",
            "linecolor": "white",
            "ticks": ""
           }
          },
          "title": {
           "x": 0.05
          },
          "xaxis": {
           "automargin": true,
           "gridcolor": "white",
           "linecolor": "white",
           "ticks": "",
           "title": {
            "standoff": 15
           },
           "zerolinecolor": "white",
           "zerolinewidth": 2
          },
          "yaxis": {
           "automargin": true,
           "gridcolor": "white",
           "linecolor": "white",
           "ticks": "",
           "title": {
            "standoff": 15
           },
           "zerolinecolor": "white",
           "zerolinewidth": 2
          }
         }
        },
        "title": {
         "text": "2020"
        },
        "xaxis": {
         "anchor": "y",
         "domain": [
          0,
          1
         ],
         "title": {
          "text": "분기"
         }
        },
        "yaxis": {
         "anchor": "x",
         "domain": [
          0,
          1
         ],
         "title": {
          "text": "sum of 임대료"
         }
        }
       }
      }
     },
     "metadata": {},
     "output_type": "display_data"
    }
   ],
   "source": [
    "fig = px.histogram(subset_ds1,\r\n",
    "                x='분기', y='임대료',\r\n",
    "                color='년도',title='2020')#, trendline='lowess')\r\n",
    "fig.show()"
   ]
  },
  {
   "cell_type": "code",
   "execution_count": null,
   "metadata": {},
   "outputs": [
    {
     "data": {
      "application/vnd.plotly.v1+json": {
       "config": {
        "plotlyServerURL": "https://plot.ly"
       },
       "data": [
        {
         "hovertemplate": "임대료=%{x}<br>공실률=%{y}<br>년도=%{marker.color}<extra></extra>",
         "legendgroup": "",
         "marker": {
          "color": [
           2017,
           2017,
           2017,
           2017,
           2018,
           2018,
           2018,
           2018,
           2019,
           2019,
           2019,
           2019,
           2020,
           2020,
           2020,
           2020,
           2021,
           2017,
           2017,
           2017,
           2017,
           2018,
           2018,
           2018,
           2018,
           2019,
           2019,
           2019,
           2019,
           2020,
           2020,
           2020,
           2020,
           2021,
           2017,
           2017,
           2017,
           2017,
           2018,
           2018,
           2018,
           2018,
           2019,
           2019,
           2019,
           2019,
           2020,
           2020,
           2020,
           2020,
           2021,
           2017,
           2017,
           2017,
           2017,
           2018,
           2018,
           2018,
           2018,
           2019,
           2019,
           2019,
           2019,
           2020,
           2020,
           2020,
           2020,
           2021,
           2017,
           2017,
           2017,
           2017,
           2018,
           2018,
           2018,
           2018,
           2019,
           2019,
           2019,
           2019,
           2020,
           2020,
           2020,
           2020,
           2021,
           2017,
           2017,
           2017,
           2017,
           2018,
           2018,
           2018,
           2018,
           2019,
           2019,
           2019,
           2019,
           2020,
           2020,
           2020,
           2020,
           2021,
           2017,
           2017,
           2017,
           2017,
           2018,
           2018,
           2018,
           2018,
           2019,
           2019,
           2019,
           2019,
           2020,
           2020,
           2020,
           2020,
           2021,
           2017,
           2017,
           2017,
           2017,
           2018,
           2018,
           2018,
           2018,
           2019,
           2019,
           2019,
           2019,
           2020,
           2020,
           2020,
           2020,
           2021,
           2017,
           2017,
           2017,
           2017,
           2018,
           2018,
           2018,
           2018,
           2019,
           2019,
           2019,
           2019,
           2020,
           2020,
           2020,
           2020,
           2021,
           2017,
           2017,
           2017,
           2017,
           2018,
           2018,
           2018,
           2018,
           2019,
           2019,
           2019,
           2019,
           2020,
           2020,
           2020,
           2020,
           2021,
           2017,
           2017,
           2017,
           2017,
           2018,
           2018,
           2018,
           2018,
           2019,
           2019,
           2019,
           2019,
           2020,
           2020,
           2020,
           2020,
           2021,
           2017,
           2017,
           2017,
           2017,
           2018,
           2018,
           2018,
           2018,
           2019,
           2019,
           2019,
           2019,
           2020,
           2020,
           2020,
           2020,
           2021,
           2017,
           2017,
           2017,
           2017,
           2018,
           2018,
           2018,
           2018,
           2019,
           2019,
           2019,
           2019,
           2020,
           2020,
           2020,
           2020,
           2021,
           2017,
           2017,
           2017,
           2017,
           2018,
           2018,
           2018,
           2018,
           2019,
           2019,
           2019,
           2019,
           2020,
           2020,
           2020,
           2020,
           2021,
           2017,
           2017,
           2017,
           2017,
           2018,
           2018,
           2018,
           2018,
           2019,
           2019,
           2019,
           2019,
           2020,
           2020,
           2020,
           2020,
           2021,
           2017,
           2017,
           2017,
           2017,
           2018,
           2018,
           2018,
           2018,
           2019,
           2019,
           2019,
           2019,
           2020,
           2020,
           2020,
           2020,
           2021,
           2017,
           2017,
           2017,
           2017,
           2018,
           2018,
           2018,
           2018,
           2019,
           2019,
           2019,
           2019,
           2020,
           2020,
           2020,
           2020,
           2021,
           2017,
           2017,
           2017,
           2017,
           2018,
           2018,
           2018,
           2018,
           2019,
           2019,
           2019,
           2019,
           2020,
           2020,
           2020,
           2020,
           2021,
           2017,
           2017,
           2017,
           2017,
           2018,
           2018,
           2018,
           2018,
           2019,
           2019,
           2019,
           2019,
           2020,
           2020,
           2020,
           2020,
           2021,
           2017,
           2017,
           2017,
           2017,
           2018,
           2018,
           2018,
           2018,
           2019,
           2019,
           2019,
           2019,
           2020,
           2020,
           2020,
           2020,
           2021,
           2017,
           2017,
           2017,
           2017,
           2018,
           2018,
           2018,
           2018,
           2019,
           2019,
           2019,
           2019,
           2020,
           2020,
           2020,
           2020,
           2021,
           2017,
           2017,
           2017,
           2017,
           2018,
           2018,
           2018,
           2018,
           2019,
           2019,
           2019,
           2019,
           2020,
           2020,
           2020,
           2020,
           2021,
           2017,
           2017,
           2017,
           2017,
           2018,
           2018,
           2018,
           2018,
           2019,
           2019,
           2019,
           2019,
           2020,
           2020,
           2020,
           2020,
           2021,
           2017,
           2017,
           2017,
           2017,
           2018,
           2018,
           2018,
           2018,
           2019,
           2019,
           2019,
           2019,
           2020,
           2020,
           2020,
           2020,
           2021,
           2017,
           2017,
           2017,
           2017,
           2018,
           2018,
           2018,
           2018,
           2019,
           2019,
           2019,
           2019,
           2020,
           2020,
           2020,
           2020,
           2021,
           2017,
           2017,
           2017,
           2017,
           2018,
           2018,
           2018,
           2018,
           2019,
           2019,
           2019,
           2019,
           2020,
           2020,
           2020,
           2020,
           2021,
           2017,
           2017,
           2017,
           2017,
           2018,
           2018,
           2018,
           2018,
           2019,
           2019,
           2019,
           2019,
           2020,
           2020,
           2020,
           2020,
           2021,
           2017,
           2017,
           2017,
           2017,
           2018,
           2018,
           2018,
           2018,
           2019,
           2019,
           2019,
           2019,
           2020,
           2020,
           2020,
           2020,
           2021,
           2017,
           2017,
           2017,
           2017,
           2018,
           2018,
           2018,
           2018,
           2019,
           2019,
           2019,
           2019,
           2020,
           2020,
           2020,
           2020,
           2021,
           2017,
           2017,
           2017,
           2017,
           2018,
           2018,
           2018,
           2018,
           2019,
           2019,
           2019,
           2019,
           2020,
           2020,
           2020,
           2020,
           2021,
           2017,
           2017,
           2017,
           2017,
           2018,
           2018,
           2018,
           2018,
           2019,
           2019,
           2019,
           2019,
           2020,
           2020,
           2020,
           2020,
           2021
          ],
          "coloraxis": "coloraxis",
          "symbol": "circle"
         },
         "mode": "markers",
         "name": "",
         "orientation": "v",
         "showlegend": false,
         "type": "scatter",
         "x": [
          217470,
          217470,
          217140,
          217799,
          218129,
          220439,
          221100,
          223079,
          313500,
          313500,
          313500,
          313830,
          268289,
          268289,
          268289,
          262019,
          254760,
          800579,
          797280,
          797280,
          794640,
          794640,
          794640,
          794640,
          793979,
          145860,
          145530,
          145530,
          145200,
          147180,
          146189,
          145200,
          144869,
          153119,
          225390,
          226049,
          226049,
          227370,
          228359,
          228689,
          231329,
          231329,
          864930,
          864930,
          864930,
          864599,
          714449,
          697949,
          687720,
          646800,
          570240,
          185460,
          185790,
          185790,
          186119,
          192060,
          191399,
          191730,
          191730,
          245850,
          246510,
          248489,
          248820,
          251129,
          252450,
          243539,
          237600,
          236279,
          203939,
          203939,
          203939,
          206250,
          206250,
          205920,
          205589,
          205260,
          160710,
          160710,
          160049,
          161369,
          164339,
          164010,
          163680,
          163350,
          164339,
          145530,
          145530,
          145530,
          145530,
          145530,
          144869,
          144869,
          144869,
          325710,
          325710,
          325710,
          326700,
          318780,
          317460,
          317460,
          316470,
          316470,
          172589,
          168960,
          168960,
          168960,
          175890,
          175890,
          175890,
          176220,
          168960,
          168960,
          168960,
          168630,
          213839,
          213510,
          213510,
          213510,
          209219,
          192390,
          191730,
          191730,
          191730,
          224399,
          231989,
          231989,
          231989,
          152130,
          152130,
          152130,
          152130,
          146519,
          146519,
          146519,
          146519,
          154110,
          239250,
          236939,
          236939,
          236939,
          236939,
          235620,
          235950,
          235620,
          273239,
          273239,
          273570,
          273570,
          256409,
          256079,
          254429,
          254429,
          254429,
          212520,
          220109,
          220109,
          220109,
          220109,
          213510,
          215489,
          215489,
          122429,
          126389,
          126389,
          127380,
          132000,
          139589,
          138600,
          138600,
          138600,
          145200,
          145200,
          145200,
          145200,
          145530,
          140910,
          140910,
          141239,
          211859,
          211859,
          211859,
          209880,
          172920,
          172920,
          172920,
          172589,
          172920,
          140910,
          140910,
          140910,
          140910,
          140910,
          140910,
          140910,
          140910,
          207570,
          207570,
          207570,
          208560,
          216149,
          216149,
          215820,
          211859,
          220109,
          107580,
          107580,
          107910,
          107910,
          107580,
          105929,
          106919,
          107580,
          180839,
          186780,
          188760,
          188760,
          184799,
          184799,
          184140,
          181500,
          187439,
          104940,
          104940,
          104940,
          106260,
          106260,
          101640,
          101640,
          101640,
          173910,
          173910,
          174239,
          175890,
          147839,
          147839,
          143549,
          143220,
          156089,
          87780,
          87780,
          87780,
          87780,
          87780,
          87780,
          87780,
          87780,
          127710,
          128039,
          128039,
          128039,
          88110,
          87780,
          87449,
          85469,
          158730,
          106589,
          106589,
          106589,
          106919,
          106919,
          107580,
          107910,
          107910,
          101640,
          102630,
          102630,
          102630,
          84149,
          84149,
          84149,
          84149,
          85140,
          198660,
          201299,
          201299,
          201299,
          201299,
          200969,
          200969,
          200969,
          87780,
          87780,
          87449,
          87449,
          145530,
          145200,
          145200,
          145200,
          126719,
          283470,
          283470,
          283470,
          283470,
          283470,
          285780,
          289409,
          290400,
          113850,
          113850,
          113850,
          113850,
          273900,
          273900,
          272909,
          271920,
          111539,
          183149,
          183149,
          183149,
          183149,
          184799,
          183149,
          182820,
          182820,
          186450,
          186450,
          186450,
          186450,
          172260,
          170939,
          168299,
          166980,
          147180,
          138269,
          138269,
          138269,
          138269,
          139589,
          139920,
          141570,
          141570,
          288750,
          288750,
          288750,
          288750,
          126060,
          125730,
          125399,
          125070,
          194040,
          416460,
          416460,
          407879,
          407879,
          412170,
          412170,
          409860,
          405570,
          177540,
          178530,
          178530,
          178530,
          239579,
          239579,
          239579,
          238920,
          164010,
          128369,
          128369,
          128369,
          128699,
          132660,
          133650,
          133650,
          132660,
          123750,
          123089,
          123089,
          122760,
          146519,
          146519,
          145860,
          158070,
          121110,
          149160,
          149160,
          149160,
          149489,
          151140,
          152460,
          152460,
          152460,
          178200,
          178200,
          178200,
          182820,
          97350,
          97020,
          96360,
          94050,
          258390,
          104940,
          105600,
          105929,
          106260,
          108570,
          109230,
          110219,
          110550,
          152130,
          152460,
          151470,
          151799,
          125730,
          125730,
          125730,
          114839,
          156420,
          145860,
          145860,
          145860,
          145860,
          146519,
          146519,
          165000,
          165989,
          145530,
          144540,
          143549,
          140579,
          114510,
          114179,
          114179,
          113520,
          148829,
          117810,
          117810,
          117810,
          117810,
          117810,
          118139,
          117480,
          117480,
          222420,
          222420,
          222420,
          222420,
          183810,
          183480,
          183480,
          182489,
          212189,
          106589,
          107580,
          108570,
          108570,
          108239,
          108899,
          108899,
          109230,
          121439,
          121439,
          121439,
          103949,
          85140,
          84809,
          84809,
          84480,
          110550,
          259709,
          259709,
          259709,
          259709,
          247829,
          247829,
          246839,
          245520,
          160710,
          164670,
          164670,
          166980,
          88770,
          88110,
          87780,
          86460,
          177210,
          83160,
          83160,
          83160,
          83160,
          83160,
          83820,
          83820,
          83490,
          109889,
          109889,
          109889,
          109560,
          100649,
          100320,
          96690,
          96360,
          131009,
          92730,
          93059,
          92730,
          93059,
          89759,
          89759,
          88440,
          88110,
          225390,
          225390,
          225390,
          225390,
          68309,
          68309,
          68309,
          67980,
          181500,
          105270,
          105270,
          105270,
          105270,
          104609,
          105270,
          105929,
          105600,
          83160,
          83160,
          83160,
          83160,
          181170,
          178200,
          178200,
          167640,
          86789
         ],
         "xaxis": "x",
         "y": [
          2.2,
          2.2,
          2.2,
          2.2,
          2.2,
          0,
          0,
          1.5,
          0.7,
          0.7,
          0.7,
          0.7,
          0,
          4.3,
          4.3,
          4.3,
          4.2,
          1.3,
          1.3,
          1.3,
          1.3,
          1.3,
          1.3,
          1.3,
          1.3,
          6.2,
          6.2,
          11.3,
          13.3,
          2.5,
          2.5,
          2.5,
          2.5,
          2.5,
          0,
          0,
          0,
          0,
          0,
          0,
          0,
          0,
          0,
          3.5,
          3.5,
          4.6,
          0,
          0,
          28.5,
          41.2,
          38.3,
          4.5,
          4.5,
          4.5,
          10.2,
          3.8,
          4.2,
          4.2,
          9.1,
          2.1,
          2.1,
          2.1,
          6.6,
          1.5,
          2.9,
          10.2,
          12.8,
          6.6,
          2.1,
          2.8,
          2.8,
          4.2,
          2.2,
          1.5,
          0,
          0,
          6.1,
          6.1,
          6.1,
          6.1,
          2.1,
          5.3,
          10.9,
          10.9,
          10.4,
          0,
          0,
          0,
          0,
          0,
          0,
          0,
          0,
          0.8,
          0.8,
          1.3,
          0.8,
          2,
          2,
          2,
          2,
          2,
          9.2,
          9.2,
          9.2,
          9.2,
          9.2,
          9.2,
          9.2,
          9.2,
          4.5,
          4.5,
          2.1,
          3.1,
          8.4,
          8.4,
          8.4,
          8.4,
          7.3,
          0,
          0,
          0,
          0,
          0,
          0,
          0,
          0,
          2.1,
          2.1,
          2.1,
          2.1,
          0,
          0,
          0,
          0,
          14.7,
          0,
          0,
          0,
          0,
          16.5,
          0,
          0,
          0,
          0,
          0,
          0,
          0,
          0,
          0,
          0,
          0,
          3.4,
          5.6,
          0,
          0,
          6.8,
          6.8,
          6.8,
          6.8,
          6.8,
          0,
          0,
          0,
          0,
          6,
          0,
          0,
          0,
          0,
          0,
          0,
          0,
          0,
          4.3,
          0,
          0,
          0,
          18.2,
          18.2,
          0,
          0,
          0,
          0,
          0,
          0,
          0,
          10.4,
          1.8,
          1.8,
          1.8,
          1.8,
          1.8,
          1.8,
          1.8,
          6.7,
          6.4,
          6.4,
          14.5,
          1.4,
          9.2,
          9.2,
          9.2,
          5.3,
          0,
          0,
          0,
          0,
          0,
          12.8,
          0,
          0,
          1.8,
          1.8,
          1.8,
          1.8,
          0,
          0,
          0,
          0,
          0,
          7.1,
          0,
          0,
          0,
          0,
          0,
          0,
          0,
          4.3,
          1.4,
          6.3,
          7.3,
          0,
          0,
          0,
          0,
          0,
          0,
          0,
          0,
          21.8,
          21.8,
          0,
          0,
          0,
          2.2,
          2.4,
          3.5,
          3.9,
          0,
          0,
          0,
          0,
          2.8,
          4.1,
          4.1,
          4.1,
          4.1,
          4.1,
          0,
          0,
          0,
          0,
          0,
          0,
          0,
          8.5,
          8.5,
          8.5,
          8.5,
          0,
          0,
          0,
          0,
          0,
          0,
          0,
          0,
          0,
          0,
          3.2,
          0,
          0,
          6.6,
          6.6,
          6.6,
          6.6,
          10.6,
          0,
          0,
          0,
          0,
          0,
          0,
          0,
          0,
          0,
          0,
          0,
          0,
          7.5,
          7.5,
          7.5,
          7.5,
          0,
          3.2,
          3.2,
          3.2,
          3.2,
          3.2,
          3.2,
          3.2,
          3.2,
          0,
          0,
          28.6,
          28.6,
          1.1,
          1.1,
          1.1,
          2.6,
          6,
          4,
          4,
          4,
          4,
          4,
          4,
          4,
          4,
          0,
          0,
          0,
          0,
          0,
          0,
          0,
          0,
          7.5,
          0,
          0,
          0,
          0,
          0,
          1.2,
          1.2,
          1.2,
          9,
          9,
          9,
          9,
          1.4,
          1.4,
          1.4,
          1.4,
          2.3,
          0,
          0,
          0,
          0,
          0,
          0,
          0,
          0,
          5.5,
          5.5,
          5.5,
          5.5,
          0,
          0,
          2.5,
          7,
          7.4,
          1.2,
          1.2,
          1.2,
          1.2,
          0,
          0,
          0,
          0,
          0,
          0,
          2.5,
          2.5,
          5,
          5,
          6.2,
          8.2,
          1.4,
          0,
          0,
          0,
          0,
          0,
          0,
          0,
          0,
          0,
          0,
          0,
          7,
          9.7,
          9.7,
          9.7,
          9.4,
          11.1,
          6.2,
          6.2,
          6.2,
          6.2,
          0,
          0,
          0,
          0,
          0,
          0,
          8.3,
          1.4,
          0,
          0,
          0,
          0,
          3.4,
          0,
          0,
          0,
          0,
          0,
          0,
          0,
          0,
          0,
          3.4,
          3.4,
          3.4,
          0,
          0,
          3.3,
          24.7,
          31.9,
          0,
          0,
          0,
          0,
          0,
          0,
          0,
          0,
          0,
          0,
          0,
          0,
          1.3,
          1.3,
          1.3,
          1.3,
          16.2,
          11.1,
          11.1,
          3.8,
          3.8,
          3.8,
          3.8,
          3.8,
          3.8,
          2,
          2,
          2,
          2,
          4.5,
          6,
          5.3,
          5,
          21.3,
          3.1,
          3.1,
          1.9,
          1.9,
          3.3,
          1.9,
          1.9,
          1.9,
          0,
          0,
          0,
          4.8,
          19.7,
          19.7,
          0,
          0,
          3.7,
          0,
          0,
          0,
          0,
          0,
          0,
          0,
          0,
          6.5,
          1.4,
          1.4,
          0,
          4.7,
          4.7,
          4.7,
          4.7,
          1,
          2.3,
          2.3,
          2.3,
          2.3,
          2.3,
          2.3,
          2.3,
          2.3,
          2.4,
          3.8,
          3.9,
          3.9,
          8.8,
          10.1,
          10.1,
          10.1,
          7.1
         ],
         "yaxis": "y"
        },
        {
         "hovertemplate": "<b>OLS trendline</b><br>공실률 = 3.66043e-06 * 임대료 + 2.51179<br>R<sup>2</sup>=0.008116<br><br>임대료=%{x}<br>공실률=%{y} <b>(trend)</b><extra></extra>",
         "legendgroup": "",
         "marker": {
          "symbol": "circle"
         },
         "mode": "lines",
         "name": "",
         "showlegend": false,
         "type": "scatter",
         "x": [
          67980,
          68309,
          68309,
          68309,
          83160,
          83160,
          83160,
          83160,
          83160,
          83160,
          83160,
          83160,
          83160,
          83490,
          83820,
          83820,
          84149,
          84149,
          84149,
          84149,
          84480,
          84809,
          84809,
          85140,
          85140,
          85469,
          86460,
          86789,
          87449,
          87449,
          87449,
          87780,
          87780,
          87780,
          87780,
          87780,
          87780,
          87780,
          87780,
          87780,
          87780,
          87780,
          87780,
          88110,
          88110,
          88110,
          88440,
          88770,
          89759,
          89759,
          92730,
          92730,
          93059,
          93059,
          94050,
          96360,
          96360,
          96690,
          97020,
          97350,
          100320,
          100649,
          101640,
          101640,
          101640,
          101640,
          102630,
          102630,
          102630,
          103949,
          104609,
          104940,
          104940,
          104940,
          104940,
          105270,
          105270,
          105270,
          105270,
          105270,
          105600,
          105600,
          105929,
          105929,
          105929,
          106260,
          106260,
          106260,
          106589,
          106589,
          106589,
          106589,
          106919,
          106919,
          106919,
          107580,
          107580,
          107580,
          107580,
          107580,
          107580,
          107910,
          107910,
          107910,
          107910,
          108239,
          108570,
          108570,
          108570,
          108899,
          108899,
          109230,
          109230,
          109560,
          109889,
          109889,
          109889,
          110219,
          110550,
          110550,
          111539,
          113520,
          113850,
          113850,
          113850,
          113850,
          114179,
          114179,
          114510,
          114839,
          117480,
          117480,
          117810,
          117810,
          117810,
          117810,
          117810,
          118139,
          121110,
          121439,
          121439,
          121439,
          122429,
          122760,
          123089,
          123089,
          123750,
          125070,
          125399,
          125730,
          125730,
          125730,
          125730,
          126060,
          126389,
          126389,
          126719,
          127380,
          127710,
          128039,
          128039,
          128039,
          128369,
          128369,
          128369,
          128699,
          131009,
          132000,
          132660,
          132660,
          133650,
          133650,
          138269,
          138269,
          138269,
          138269,
          138600,
          138600,
          138600,
          139589,
          139589,
          139920,
          140579,
          140910,
          140910,
          140910,
          140910,
          140910,
          140910,
          140910,
          140910,
          140910,
          140910,
          141239,
          141570,
          141570,
          143220,
          143549,
          143549,
          144540,
          144869,
          144869,
          144869,
          144869,
          145200,
          145200,
          145200,
          145200,
          145200,
          145200,
          145200,
          145200,
          145200,
          145530,
          145530,
          145530,
          145530,
          145530,
          145530,
          145530,
          145530,
          145530,
          145530,
          145860,
          145860,
          145860,
          145860,
          145860,
          145860,
          146189,
          146519,
          146519,
          146519,
          146519,
          146519,
          146519,
          146519,
          146519,
          147180,
          147180,
          147839,
          147839,
          148829,
          149160,
          149160,
          149160,
          149489,
          151140,
          151470,
          151799,
          152130,
          152130,
          152130,
          152130,
          152130,
          152460,
          152460,
          152460,
          152460,
          153119,
          154110,
          156089,
          156420,
          158070,
          158730,
          160049,
          160710,
          160710,
          160710,
          161369,
          163350,
          163680,
          164010,
          164010,
          164339,
          164339,
          164670,
          164670,
          165000,
          165989,
          166980,
          166980,
          167640,
          168299,
          168630,
          168960,
          168960,
          168960,
          168960,
          168960,
          168960,
          170939,
          172260,
          172589,
          172589,
          172920,
          172920,
          172920,
          172920,
          173910,
          173910,
          174239,
          175890,
          175890,
          175890,
          175890,
          176220,
          177210,
          177540,
          178200,
          178200,
          178200,
          178200,
          178200,
          178530,
          178530,
          178530,
          180839,
          181170,
          181500,
          181500,
          182489,
          182820,
          182820,
          182820,
          183149,
          183149,
          183149,
          183149,
          183149,
          183480,
          183480,
          183810,
          184140,
          184799,
          184799,
          184799,
          185460,
          185790,
          185790,
          186119,
          186450,
          186450,
          186450,
          186450,
          186780,
          187439,
          188760,
          188760,
          191399,
          191730,
          191730,
          191730,
          191730,
          191730,
          192060,
          192390,
          194040,
          198660,
          200969,
          200969,
          200969,
          201299,
          201299,
          201299,
          201299,
          203939,
          203939,
          203939,
          205260,
          205589,
          205920,
          206250,
          206250,
          207570,
          207570,
          207570,
          208560,
          209219,
          209880,
          211859,
          211859,
          211859,
          211859,
          212189,
          212520,
          213510,
          213510,
          213510,
          213510,
          213839,
          215489,
          215489,
          215820,
          216149,
          216149,
          217140,
          217470,
          217470,
          217799,
          218129,
          220109,
          220109,
          220109,
          220109,
          220109,
          220439,
          221100,
          222420,
          222420,
          222420,
          222420,
          223079,
          224399,
          225390,
          225390,
          225390,
          225390,
          225390,
          226049,
          226049,
          227370,
          228359,
          228689,
          231329,
          231329,
          231989,
          231989,
          231989,
          235620,
          235620,
          235950,
          236279,
          236939,
          236939,
          236939,
          236939,
          237600,
          238920,
          239250,
          239579,
          239579,
          239579,
          243539,
          245520,
          245850,
          246510,
          246839,
          247829,
          247829,
          248489,
          248820,
          251129,
          252450,
          254429,
          254429,
          254429,
          254760,
          256079,
          256409,
          258390,
          259709,
          259709,
          259709,
          259709,
          262019,
          268289,
          268289,
          268289,
          271920,
          272909,
          273239,
          273239,
          273570,
          273570,
          273900,
          273900,
          283470,
          283470,
          283470,
          283470,
          283470,
          285780,
          288750,
          288750,
          288750,
          288750,
          289409,
          290400,
          313500,
          313500,
          313500,
          313830,
          316470,
          316470,
          317460,
          317460,
          318780,
          325710,
          325710,
          325710,
          326700,
          405570,
          407879,
          407879,
          409860,
          412170,
          412170,
          416460,
          416460,
          570240,
          646800,
          687720,
          697949,
          714449,
          793979,
          794640,
          794640,
          794640,
          794640,
          797280,
          797280,
          800579,
          864599,
          864930,
          864930,
          864930
         ],
         "xaxis": "x",
         "y": [
          2.7606248286251813,
          2.761829109197531,
          2.761829109197531,
          2.761829109197531,
          2.816190114607767,
          2.816190114607767,
          2.816190114607767,
          2.816190114607767,
          2.816190114607767,
          2.816190114607767,
          2.816190114607767,
          2.816190114607767,
          2.816190114607767,
          2.8173980556073883,
          2.8186059966070096,
          2.8186059966070096,
          2.81981027717936,
          2.81981027717936,
          2.81981027717936,
          2.81981027717936,
          2.8210218786062526,
          2.8222261591786024,
          2.8222261591786024,
          2.8234377606054957,
          2.8234377606054957,
          2.8246420411778455,
          2.8282695246039813,
          2.829473805176331,
          2.831889687175574,
          2.831889687175574,
          2.831889687175574,
          2.833101288602467,
          2.833101288602467,
          2.833101288602467,
          2.833101288602467,
          2.833101288602467,
          2.833101288602467,
          2.833101288602467,
          2.833101288602467,
          2.833101288602467,
          2.833101288602467,
          2.833101288602467,
          2.833101288602467,
          2.834309229602088,
          2.834309229602088,
          2.834309229602088,
          2.83551717060171,
          2.8367251116013312,
          2.840345274172924,
          2.840345274172924,
          2.8512204035967885,
          2.8512204035967885,
          2.8524246841691383,
          2.8524246841691383,
          2.856052167595274,
          2.864507754592624,
          2.864507754592624,
          2.865715695592246,
          2.866923636591867,
          2.8681315775914884,
          2.8790030465880814,
          2.880207327160431,
          2.883834810586567,
          2.883834810586567,
          2.883834810586567,
          2.883834810586567,
          2.8874586335854313,
          2.8874586335854313,
          2.8874586335854313,
          2.8922867371566454,
          2.8947026191558884,
          2.8959142205827813,
          2.8959142205827813,
          2.8959142205827813,
          2.8959142205827813,
          2.897122161582403,
          2.897122161582403,
          2.897122161582403,
          2.897122161582403,
          2.897122161582403,
          2.8983301025820243,
          2.8983301025820243,
          2.899534383154374,
          2.899534383154374,
          2.899534383154374,
          2.900745984581267,
          2.900745984581267,
          2.900745984581267,
          2.9019502651536166,
          2.9019502651536166,
          2.9019502651536166,
          2.9019502651536166,
          2.9031582061532384,
          2.9031582061532384,
          2.9031582061532384,
          2.905577748579753,
          2.905577748579753,
          2.905577748579753,
          2.905577748579753,
          2.905577748579753,
          2.905577748579753,
          2.906785689579374,
          2.906785689579374,
          2.906785689579374,
          2.906785689579374,
          2.907989970151724,
          2.909201571578617,
          2.909201571578617,
          2.909201571578617,
          2.910405852150967,
          2.910405852150967,
          2.91161745357786,
          2.91161745357786,
          2.9128253945774816,
          2.9140296751498314,
          2.9140296751498314,
          2.9140296751498314,
          2.9152376161494526,
          2.9164492175763455,
          2.9164492175763455,
          2.9200693801479383,
          2.9273206865729384,
          2.92852862757256,
          2.92852862757256,
          2.92852862757256,
          2.92852862757256,
          2.92973290814491,
          2.92973290814491,
          2.9309445095718027,
          2.9321487901441525,
          2.9418159785683957,
          2.9418159785683957,
          2.943023919568017,
          2.943023919568017,
          2.943023919568017,
          2.943023919568017,
          2.943023919568017,
          2.944228200140367,
          2.9551033295642313,
          2.956307610136581,
          2.956307610136581,
          2.956307610136581,
          2.9599314331354454,
          2.9611430345623386,
          2.9623473151346884,
          2.9623473151346884,
          2.964766857561203,
          2.9695986215596886,
          2.9708029021320383,
          2.9720145035589316,
          2.9720145035589316,
          2.9720145035589316,
          2.9720145035589316,
          2.973222444558553,
          2.9744267251309027,
          2.9744267251309027,
          2.975634666130524,
          2.9780542085570385,
          2.97926214955666,
          2.98046643012901,
          2.98046643012901,
          2.98046643012901,
          2.9816743711286313,
          2.9816743711286313,
          2.9816743711286313,
          2.9828823121282526,
          2.9913378991256026,
          2.9949653825517384,
          2.9973812645509814,
          2.9973812645509814,
          3.0010050875498457,
          3.0010050875498457,
          3.017912601117274,
          3.017912601117274,
          3.017912601117274,
          3.017912601117274,
          3.0191242025441674,
          3.0191242025441674,
          3.0191242025441674,
          3.02274436511576,
          3.02274436511576,
          3.023955966542653,
          3.026368188114624,
          3.0275797895415173,
          3.0275797895415173,
          3.0275797895415173,
          3.0275797895415173,
          3.0275797895415173,
          3.0275797895415173,
          3.0275797895415173,
          3.0275797895415173,
          3.0275797895415173,
          3.0275797895415173,
          3.028784070113867,
          3.0299956715407603,
          3.0299956715407603,
          3.0360353765388672,
          3.037239657111217,
          3.037239657111217,
          3.040867140537353,
          3.0420714211097026,
          3.0420714211097026,
          3.0420714211097026,
          3.0420714211097026,
          3.043283022536596,
          3.043283022536596,
          3.043283022536596,
          3.043283022536596,
          3.043283022536596,
          3.043283022536596,
          3.043283022536596,
          3.043283022536596,
          3.043283022536596,
          3.044490963536217,
          3.044490963536217,
          3.044490963536217,
          3.044490963536217,
          3.044490963536217,
          3.044490963536217,
          3.044490963536217,
          3.044490963536217,
          3.044490963536217,
          3.044490963536217,
          3.045698904535839,
          3.045698904535839,
          3.045698904535839,
          3.045698904535839,
          3.045698904535839,
          3.045698904535839,
          3.0469031851081887,
          3.04811112610781,
          3.04811112610781,
          3.04811112610781,
          3.04811112610781,
          3.04811112610781,
          3.04811112610781,
          3.04811112610781,
          3.04811112610781,
          3.0505306685343245,
          3.0505306685343245,
          3.0529428901062956,
          3.0529428901062956,
          3.05656671310516,
          3.0577783145320527,
          3.0577783145320527,
          3.0577783145320527,
          3.058982595104403,
          3.0650259605297814,
          3.066233901529403,
          3.067438182101753,
          3.0686497835286457,
          3.0686497835286457,
          3.0686497835286457,
          3.0686497835286457,
          3.0686497835286457,
          3.0698577245282674,
          3.0698577245282674,
          3.0698577245282674,
          3.0698577245282674,
          3.0722699461002385,
          3.0758974295263743,
          3.0831414150968315,
          3.0843530165237243,
          3.0903927215218316,
          3.0928086035210747,
          3.0976367070922883,
          3.100056249518803,
          3.100056249518803,
          3.100056249518803,
          3.1024684710907744,
          3.1097197775157746,
          3.110927718515396,
          3.112135659515017,
          3.112135659515017,
          3.113339940087367,
          3.113339940087367,
          3.11455154151426,
          3.11455154151426,
          3.1157594825138815,
          3.1193796450854743,
          3.12300712851161,
          3.12300712851161,
          3.125423010510853,
          3.127835232082824,
          3.1290468335097175,
          3.1302547745093388,
          3.1302547745093388,
          3.1302547745093388,
          3.1302547745093388,
          3.1302547745093388,
          3.1302547745093388,
          3.137498760079796,
          3.142334184505553,
          3.143538465077903,
          3.143538465077903,
          3.144750066504796,
          3.144750066504796,
          3.144750066504796,
          3.144750066504796,
          3.1483738895036604,
          3.1483738895036604,
          3.14957817007601,
          3.155621535501389,
          3.155621535501389,
          3.155621535501389,
          3.155621535501389,
          3.1568294765010103,
          3.1604532994998746,
          3.161661240499496,
          3.164077122498739,
          3.164077122498739,
          3.164077122498739,
          3.164077122498739,
          3.164077122498739,
          3.1652850634983603,
          3.1652850634983603,
          3.1652850634983603,
          3.1737369900684387,
          3.1749485914953315,
          3.176156532494953,
          3.176156532494953,
          3.179776695066546,
          3.180988296493439,
          3.180988296493439,
          3.180988296493439,
          3.1821925770657886,
          3.1821925770657886,
          3.1821925770657886,
          3.1821925770657886,
          3.1821925770657886,
          3.183404178492682,
          3.183404178492682,
          3.184612119492303,
          3.1858200604919245,
          3.188232282063896,
          3.188232282063896,
          3.188232282063896,
          3.19065182449041,
          3.191859765490032,
          3.191859765490032,
          3.1930640460623816,
          3.194275647489275,
          3.194275647489275,
          3.194275647489275,
          3.194275647489275,
          3.195483588488896,
          3.197895810060867,
          3.202731234486625,
          3.202731234486625,
          3.2123911020563245,
          3.2136027034832173,
          3.2136027034832173,
          3.2136027034832173,
          3.2136027034832173,
          3.2136027034832173,
          3.214810644482839,
          3.2160185854824603,
          3.2220582904805672,
          3.2389694644752676,
          3.247421391045346,
          3.247421391045346,
          3.247421391045346,
          3.2486293320449673,
          3.2486293320449673,
          3.2486293320449673,
          3.2486293320449673,
          3.258292860041939,
          3.258292860041939,
          3.258292860041939,
          3.263128284467696,
          3.264332565040046,
          3.265544166466939,
          3.2667521074665604,
          3.2667521074665604,
          3.271583871465046,
          3.271583871465046,
          3.271583871465046,
          3.2752076944639104,
          3.2776199160358814,
          3.280039458462396,
          3.287283444032853,
          3.287283444032853,
          3.287283444032853,
          3.287283444032853,
          3.2884913850324744,
          3.2897029864593677,
          3.293326809458232,
          3.293326809458232,
          3.293326809458232,
          3.293326809458232,
          3.2945310900305818,
          3.3005707950286887,
          3.3005707950286887,
          3.301782396455582,
          3.3029866770279317,
          3.3029866770279317,
          3.3066141604540675,
          3.307822101453689,
          3.307822101453689,
          3.3090263820260386,
          3.3102343230256603,
          3.317481969023389,
          3.317481969023389,
          3.317481969023389,
          3.317481969023389,
          3.317481969023389,
          3.3186899100230103,
          3.321109452449525,
          3.3259412164480104,
          3.3259412164480104,
          3.3259412164480104,
          3.3259412164480104,
          3.328353438019982,
          3.3331852020184676,
          3.3368126854446034,
          3.3368126854446034,
          3.3368126854446034,
          3.3368126854446034,
          3.3368126854446034,
          3.3392249070165745,
          3.3392249070165745,
          3.344060331442332,
          3.3476804940139244,
          3.348888435013546,
          3.3585519630105174,
          3.3585519630105174,
          3.3609678450097604,
          3.3609678450097604,
          3.3609678450097604,
          3.374258856432868,
          3.374258856432868,
          3.3754667974324892,
          3.376671078004839,
          3.3790869600040816,
          3.3790869600040816,
          3.3790869600040816,
          3.3790869600040816,
          3.381506502430596,
          3.3863382664290818,
          3.3875462074287035,
          3.3887504880010533,
          3.3887504880010533,
          3.3887504880010533,
          3.4032457799965106,
          3.4104970864215107,
          3.411705027421132,
          3.414120909420375,
          3.415325189992725,
          3.418949012991589,
          3.418949012991589,
          3.4213648949908317,
          3.422576496417725,
          3.4310284229878034,
          3.4358638474135605,
          3.4431078329840177,
          3.4431078329840177,
          3.4431078329840177,
          3.4443194344109105,
          3.4491475379821246,
          3.4503554789817463,
          3.4576067854067465,
          3.4624348889779606,
          3.4624348889779606,
          3.4624348889779606,
          3.4624348889779606,
          3.4708904759753105,
          3.4938413549681178,
          3.4938413549681178,
          3.4938413549681178,
          3.507132366391225,
          3.5107525289628176,
          3.511960469962439,
          3.511960469962439,
          3.513172071389332,
          3.513172071389332,
          3.5143800123889535,
          3.5143800123889535,
          3.549410301377975,
          3.549410301377975,
          3.549410301377975,
          3.549410301377975,
          3.549410301377975,
          3.557865888375325,
          3.568737357371918,
          3.568737357371918,
          3.568737357371918,
          3.568737357371918,
          3.5711495789438894,
          3.574777062370025,
          3.659332932343525,
          3.659332932343525,
          3.659332932343525,
          3.6605408733431464,
          3.670204401340118,
          3.670204401340118,
          3.6738282243389824,
          3.6738282243389824,
          3.678659988337468,
          3.7040267493295183,
          3.7040267493295183,
          3.7040267493295183,
          3.707650572328382,
          3.996348471237904,
          4.0048003978079825,
          4.0048003978079825,
          4.012051704232983,
          4.020507291230333,
          4.020507291230333,
          4.036210524225411,
          4.036210524225411,
          4.599111030048998,
          4.87935334196117,
          5.029138025914227,
          5.06658053647522,
          5.126977586456292,
          5.418091367365056,
          5.42051090979157,
          5.42051090979157,
          5.42051090979157,
          5.42051090979157,
          5.430174437788542,
          5.430174437788542,
          5.442250187357485,
          5.676590741284042,
          5.677802342710935,
          5.677802342710935,
          5.677802342710935
         ],
         "yaxis": "y"
        }
       ],
       "layout": {
        "coloraxis": {
         "colorbar": {
          "title": {
           "text": "년도"
          }
         },
         "colorscale": [
          [
           0,
           "#0d0887"
          ],
          [
           0.1111111111111111,
           "#46039f"
          ],
          [
           0.2222222222222222,
           "#7201a8"
          ],
          [
           0.3333333333333333,
           "#9c179e"
          ],
          [
           0.4444444444444444,
           "#bd3786"
          ],
          [
           0.5555555555555556,
           "#d8576b"
          ],
          [
           0.6666666666666666,
           "#ed7953"
          ],
          [
           0.7777777777777778,
           "#fb9f3a"
          ],
          [
           0.8888888888888888,
           "#fdca26"
          ],
          [
           1,
           "#f0f921"
          ]
         ]
        },
        "legend": {
         "tracegroupgap": 0
        },
        "margin": {
         "t": 60
        },
        "template": {
         "data": {
          "bar": [
           {
            "error_x": {
             "color": "#2a3f5f"
            },
            "error_y": {
             "color": "#2a3f5f"
            },
            "marker": {
             "line": {
              "color": "#E5ECF6",
              "width": 0.5
             },
             "pattern": {
              "fillmode": "overlay",
              "size": 10,
              "solidity": 0.2
             }
            },
            "type": "bar"
           }
          ],
          "barpolar": [
           {
            "marker": {
             "line": {
              "color": "#E5ECF6",
              "width": 0.5
             },
             "pattern": {
              "fillmode": "overlay",
              "size": 10,
              "solidity": 0.2
             }
            },
            "type": "barpolar"
           }
          ],
          "carpet": [
           {
            "aaxis": {
             "endlinecolor": "#2a3f5f",
             "gridcolor": "white",
             "linecolor": "white",
             "minorgridcolor": "white",
             "startlinecolor": "#2a3f5f"
            },
            "baxis": {
             "endlinecolor": "#2a3f5f",
             "gridcolor": "white",
             "linecolor": "white",
             "minorgridcolor": "white",
             "startlinecolor": "#2a3f5f"
            },
            "type": "carpet"
           }
          ],
          "choropleth": [
           {
            "colorbar": {
             "outlinewidth": 0,
             "ticks": ""
            },
            "type": "choropleth"
           }
          ],
          "contour": [
           {
            "colorbar": {
             "outlinewidth": 0,
             "ticks": ""
            },
            "colorscale": [
             [
              0,
              "#0d0887"
             ],
             [
              0.1111111111111111,
              "#46039f"
             ],
             [
              0.2222222222222222,
              "#7201a8"
             ],
             [
              0.3333333333333333,
              "#9c179e"
             ],
             [
              0.4444444444444444,
              "#bd3786"
             ],
             [
              0.5555555555555556,
              "#d8576b"
             ],
             [
              0.6666666666666666,
              "#ed7953"
             ],
             [
              0.7777777777777778,
              "#fb9f3a"
             ],
             [
              0.8888888888888888,
              "#fdca26"
             ],
             [
              1,
              "#f0f921"
             ]
            ],
            "type": "contour"
           }
          ],
          "contourcarpet": [
           {
            "colorbar": {
             "outlinewidth": 0,
             "ticks": ""
            },
            "type": "contourcarpet"
           }
          ],
          "heatmap": [
           {
            "colorbar": {
             "outlinewidth": 0,
             "ticks": ""
            },
            "colorscale": [
             [
              0,
              "#0d0887"
             ],
             [
              0.1111111111111111,
              "#46039f"
             ],
             [
              0.2222222222222222,
              "#7201a8"
             ],
             [
              0.3333333333333333,
              "#9c179e"
             ],
             [
              0.4444444444444444,
              "#bd3786"
             ],
             [
              0.5555555555555556,
              "#d8576b"
             ],
             [
              0.6666666666666666,
              "#ed7953"
             ],
             [
              0.7777777777777778,
              "#fb9f3a"
             ],
             [
              0.8888888888888888,
              "#fdca26"
             ],
             [
              1,
              "#f0f921"
             ]
            ],
            "type": "heatmap"
           }
          ],
          "heatmapgl": [
           {
            "colorbar": {
             "outlinewidth": 0,
             "ticks": ""
            },
            "colorscale": [
             [
              0,
              "#0d0887"
             ],
             [
              0.1111111111111111,
              "#46039f"
             ],
             [
              0.2222222222222222,
              "#7201a8"
             ],
             [
              0.3333333333333333,
              "#9c179e"
             ],
             [
              0.4444444444444444,
              "#bd3786"
             ],
             [
              0.5555555555555556,
              "#d8576b"
             ],
             [
              0.6666666666666666,
              "#ed7953"
             ],
             [
              0.7777777777777778,
              "#fb9f3a"
             ],
             [
              0.8888888888888888,
              "#fdca26"
             ],
             [
              1,
              "#f0f921"
             ]
            ],
            "type": "heatmapgl"
           }
          ],
          "histogram": [
           {
            "marker": {
             "pattern": {
              "fillmode": "overlay",
              "size": 10,
              "solidity": 0.2
             }
            },
            "type": "histogram"
           }
          ],
          "histogram2d": [
           {
            "colorbar": {
             "outlinewidth": 0,
             "ticks": ""
            },
            "colorscale": [
             [
              0,
              "#0d0887"
             ],
             [
              0.1111111111111111,
              "#46039f"
             ],
             [
              0.2222222222222222,
              "#7201a8"
             ],
             [
              0.3333333333333333,
              "#9c179e"
             ],
             [
              0.4444444444444444,
              "#bd3786"
             ],
             [
              0.5555555555555556,
              "#d8576b"
             ],
             [
              0.6666666666666666,
              "#ed7953"
             ],
             [
              0.7777777777777778,
              "#fb9f3a"
             ],
             [
              0.8888888888888888,
              "#fdca26"
             ],
             [
              1,
              "#f0f921"
             ]
            ],
            "type": "histogram2d"
           }
          ],
          "histogram2dcontour": [
           {
            "colorbar": {
             "outlinewidth": 0,
             "ticks": ""
            },
            "colorscale": [
             [
              0,
              "#0d0887"
             ],
             [
              0.1111111111111111,
              "#46039f"
             ],
             [
              0.2222222222222222,
              "#7201a8"
             ],
             [
              0.3333333333333333,
              "#9c179e"
             ],
             [
              0.4444444444444444,
              "#bd3786"
             ],
             [
              0.5555555555555556,
              "#d8576b"
             ],
             [
              0.6666666666666666,
              "#ed7953"
             ],
             [
              0.7777777777777778,
              "#fb9f3a"
             ],
             [
              0.8888888888888888,
              "#fdca26"
             ],
             [
              1,
              "#f0f921"
             ]
            ],
            "type": "histogram2dcontour"
           }
          ],
          "mesh3d": [
           {
            "colorbar": {
             "outlinewidth": 0,
             "ticks": ""
            },
            "type": "mesh3d"
           }
          ],
          "parcoords": [
           {
            "line": {
             "colorbar": {
              "outlinewidth": 0,
              "ticks": ""
             }
            },
            "type": "parcoords"
           }
          ],
          "pie": [
           {
            "automargin": true,
            "type": "pie"
           }
          ],
          "scatter": [
           {
            "marker": {
             "colorbar": {
              "outlinewidth": 0,
              "ticks": ""
             }
            },
            "type": "scatter"
           }
          ],
          "scatter3d": [
           {
            "line": {
             "colorbar": {
              "outlinewidth": 0,
              "ticks": ""
             }
            },
            "marker": {
             "colorbar": {
              "outlinewidth": 0,
              "ticks": ""
             }
            },
            "type": "scatter3d"
           }
          ],
          "scattercarpet": [
           {
            "marker": {
             "colorbar": {
              "outlinewidth": 0,
              "ticks": ""
             }
            },
            "type": "scattercarpet"
           }
          ],
          "scattergeo": [
           {
            "marker": {
             "colorbar": {
              "outlinewidth": 0,
              "ticks": ""
             }
            },
            "type": "scattergeo"
           }
          ],
          "scattergl": [
           {
            "marker": {
             "colorbar": {
              "outlinewidth": 0,
              "ticks": ""
             }
            },
            "type": "scattergl"
           }
          ],
          "scattermapbox": [
           {
            "marker": {
             "colorbar": {
              "outlinewidth": 0,
              "ticks": ""
             }
            },
            "type": "scattermapbox"
           }
          ],
          "scatterpolar": [
           {
            "marker": {
             "colorbar": {
              "outlinewidth": 0,
              "ticks": ""
             }
            },
            "type": "scatterpolar"
           }
          ],
          "scatterpolargl": [
           {
            "marker": {
             "colorbar": {
              "outlinewidth": 0,
              "ticks": ""
             }
            },
            "type": "scatterpolargl"
           }
          ],
          "scatterternary": [
           {
            "marker": {
             "colorbar": {
              "outlinewidth": 0,
              "ticks": ""
             }
            },
            "type": "scatterternary"
           }
          ],
          "surface": [
           {
            "colorbar": {
             "outlinewidth": 0,
             "ticks": ""
            },
            "colorscale": [
             [
              0,
              "#0d0887"
             ],
             [
              0.1111111111111111,
              "#46039f"
             ],
             [
              0.2222222222222222,
              "#7201a8"
             ],
             [
              0.3333333333333333,
              "#9c179e"
             ],
             [
              0.4444444444444444,
              "#bd3786"
             ],
             [
              0.5555555555555556,
              "#d8576b"
             ],
             [
              0.6666666666666666,
              "#ed7953"
             ],
             [
              0.7777777777777778,
              "#fb9f3a"
             ],
             [
              0.8888888888888888,
              "#fdca26"
             ],
             [
              1,
              "#f0f921"
             ]
            ],
            "type": "surface"
           }
          ],
          "table": [
           {
            "cells": {
             "fill": {
              "color": "#EBF0F8"
             },
             "line": {
              "color": "white"
             }
            },
            "header": {
             "fill": {
              "color": "#C8D4E3"
             },
             "line": {
              "color": "white"
             }
            },
            "type": "table"
           }
          ]
         },
         "layout": {
          "annotationdefaults": {
           "arrowcolor": "#2a3f5f",
           "arrowhead": 0,
           "arrowwidth": 1
          },
          "autotypenumbers": "strict",
          "coloraxis": {
           "colorbar": {
            "outlinewidth": 0,
            "ticks": ""
           }
          },
          "colorscale": {
           "diverging": [
            [
             0,
             "#8e0152"
            ],
            [
             0.1,
             "#c51b7d"
            ],
            [
             0.2,
             "#de77ae"
            ],
            [
             0.3,
             "#f1b6da"
            ],
            [
             0.4,
             "#fde0ef"
            ],
            [
             0.5,
             "#f7f7f7"
            ],
            [
             0.6,
             "#e6f5d0"
            ],
            [
             0.7,
             "#b8e186"
            ],
            [
             0.8,
             "#7fbc41"
            ],
            [
             0.9,
             "#4d9221"
            ],
            [
             1,
             "#276419"
            ]
           ],
           "sequential": [
            [
             0,
             "#0d0887"
            ],
            [
             0.1111111111111111,
             "#46039f"
            ],
            [
             0.2222222222222222,
             "#7201a8"
            ],
            [
             0.3333333333333333,
             "#9c179e"
            ],
            [
             0.4444444444444444,
             "#bd3786"
            ],
            [
             0.5555555555555556,
             "#d8576b"
            ],
            [
             0.6666666666666666,
             "#ed7953"
            ],
            [
             0.7777777777777778,
             "#fb9f3a"
            ],
            [
             0.8888888888888888,
             "#fdca26"
            ],
            [
             1,
             "#f0f921"
            ]
           ],
           "sequentialminus": [
            [
             0,
             "#0d0887"
            ],
            [
             0.1111111111111111,
             "#46039f"
            ],
            [
             0.2222222222222222,
             "#7201a8"
            ],
            [
             0.3333333333333333,
             "#9c179e"
            ],
            [
             0.4444444444444444,
             "#bd3786"
            ],
            [
             0.5555555555555556,
             "#d8576b"
            ],
            [
             0.6666666666666666,
             "#ed7953"
            ],
            [
             0.7777777777777778,
             "#fb9f3a"
            ],
            [
             0.8888888888888888,
             "#fdca26"
            ],
            [
             1,
             "#f0f921"
            ]
           ]
          },
          "colorway": [
           "#636efa",
           "#EF553B",
           "#00cc96",
           "#ab63fa",
           "#FFA15A",
           "#19d3f3",
           "#FF6692",
           "#B6E880",
           "#FF97FF",
           "#FECB52"
          ],
          "font": {
           "color": "#2a3f5f"
          },
          "geo": {
           "bgcolor": "white",
           "lakecolor": "white",
           "landcolor": "#E5ECF6",
           "showlakes": true,
           "showland": true,
           "subunitcolor": "white"
          },
          "hoverlabel": {
           "align": "left"
          },
          "hovermode": "closest",
          "mapbox": {
           "style": "light"
          },
          "paper_bgcolor": "white",
          "plot_bgcolor": "#E5ECF6",
          "polar": {
           "angularaxis": {
            "gridcolor": "white",
            "linecolor": "white",
            "ticks": ""
           },
           "bgcolor": "#E5ECF6",
           "radialaxis": {
            "gridcolor": "white",
            "linecolor": "white",
            "ticks": ""
           }
          },
          "scene": {
           "xaxis": {
            "backgroundcolor": "#E5ECF6",
            "gridcolor": "white",
            "gridwidth": 2,
            "linecolor": "white",
            "showbackground": true,
            "ticks": "",
            "zerolinecolor": "white"
           },
           "yaxis": {
            "backgroundcolor": "#E5ECF6",
            "gridcolor": "white",
            "gridwidth": 2,
            "linecolor": "white",
            "showbackground": true,
            "ticks": "",
            "zerolinecolor": "white"
           },
           "zaxis": {
            "backgroundcolor": "#E5ECF6",
            "gridcolor": "white",
            "gridwidth": 2,
            "linecolor": "white",
            "showbackground": true,
            "ticks": "",
            "zerolinecolor": "white"
           }
          },
          "shapedefaults": {
           "line": {
            "color": "#2a3f5f"
           }
          },
          "ternary": {
           "aaxis": {
            "gridcolor": "white",
            "linecolor": "white",
            "ticks": ""
           },
           "baxis": {
            "gridcolor": "white",
            "linecolor": "white",
            "ticks": ""
           },
           "bgcolor": "#E5ECF6",
           "caxis": {
            "gridcolor": "white",
            "linecolor": "white",
            "ticks": ""
           }
          },
          "title": {
           "x": 0.05
          },
          "xaxis": {
           "automargin": true,
           "gridcolor": "white",
           "linecolor": "white",
           "ticks": "",
           "title": {
            "standoff": 15
           },
           "zerolinecolor": "white",
           "zerolinewidth": 2
          },
          "yaxis": {
           "automargin": true,
           "gridcolor": "white",
           "linecolor": "white",
           "ticks": "",
           "title": {
            "standoff": 15
           },
           "zerolinecolor": "white",
           "zerolinewidth": 2
          }
         }
        },
        "xaxis": {
         "anchor": "y",
         "domain": [
          0,
          1
         ],
         "title": {
          "text": "임대료"
         }
        },
        "yaxis": {
         "anchor": "x",
         "domain": [
          0,
          1
         ],
         "title": {
          "text": "공실률"
         }
        }
       }
      }
     },
     "metadata": {},
     "output_type": "display_data"
    }
   ],
   "source": [
    "fig = px.scatter(subset_ds1,\r\n",
    "                x='임대료', y='공실률',\r\n",
    "                color='년도', trendline='ols')\r\n",
    "fig.show()"
   ]
  },
  {
   "cell_type": "code",
   "execution_count": null,
   "metadata": {},
   "outputs": [],
   "source": []
  }
 ],
 "metadata": {
  "interpreter": {
   "hash": "ddb88318a3d9bbb9a5bde6ec31a29caee17321a0487823ec3974b8fe84c98c6e"
  },
  "kernelspec": {
   "display_name": "Python 3",
   "language": "python",
   "name": "python3"
  },
  "language_info": {
   "codemirror_mode": {
    "name": "ipython",
    "version": 3
   },
   "file_extension": ".py",
   "mimetype": "text/x-python",
   "name": "python",
   "nbconvert_exporter": "python",
   "pygments_lexer": "ipython3",
   "version": "3.8.5"
  }
 },
 "nbformat": 4,
 "nbformat_minor": 5
}
